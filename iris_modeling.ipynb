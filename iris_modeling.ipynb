{
 "cells": [
  {
   "cell_type": "code",
   "execution_count": 1,
   "id": "4fd8b095",
   "metadata": {},
   "outputs": [],
   "source": [
    "import pandas as pd"
   ]
  },
  {
   "cell_type": "code",
   "execution_count": 2,
   "id": "5b260125",
   "metadata": {},
   "outputs": [],
   "source": [
    "train = pd.read_csv('iris dataset/iris_train.csv')"
   ]
  },
  {
   "cell_type": "code",
   "execution_count": 3,
   "id": "aeded137",
   "metadata": {},
   "outputs": [
    {
     "data": {
      "text/html": [
       "<div>\n",
       "<style scoped>\n",
       "    .dataframe tbody tr th:only-of-type {\n",
       "        vertical-align: middle;\n",
       "    }\n",
       "\n",
       "    .dataframe tbody tr th {\n",
       "        vertical-align: top;\n",
       "    }\n",
       "\n",
       "    .dataframe thead th {\n",
       "        text-align: right;\n",
       "    }\n",
       "</style>\n",
       "<table border=\"1\" class=\"dataframe\">\n",
       "  <thead>\n",
       "    <tr style=\"text-align: right;\">\n",
       "      <th></th>\n",
       "      <th>id</th>\n",
       "      <th>species</th>\n",
       "      <th>sepal length (cm)</th>\n",
       "      <th>petal length (cm)</th>\n",
       "      <th>sepal width (cm)</th>\n",
       "      <th>petal width (cm)</th>\n",
       "    </tr>\n",
       "  </thead>\n",
       "  <tbody>\n",
       "    <tr>\n",
       "      <th>0</th>\n",
       "      <td>0</td>\n",
       "      <td>setosa</td>\n",
       "      <td>4.4</td>\n",
       "      <td>1.4</td>\n",
       "      <td>2.9</td>\n",
       "      <td>0.2</td>\n",
       "    </tr>\n",
       "    <tr>\n",
       "      <th>1</th>\n",
       "      <td>1</td>\n",
       "      <td>versicolor</td>\n",
       "      <td>6.4</td>\n",
       "      <td>4.5</td>\n",
       "      <td>3.2</td>\n",
       "      <td>1.5</td>\n",
       "    </tr>\n",
       "    <tr>\n",
       "      <th>2</th>\n",
       "      <td>2</td>\n",
       "      <td>virginica</td>\n",
       "      <td>6.2</td>\n",
       "      <td>4.8</td>\n",
       "      <td>2.8</td>\n",
       "      <td>1.8</td>\n",
       "    </tr>\n",
       "    <tr>\n",
       "      <th>3</th>\n",
       "      <td>3</td>\n",
       "      <td>virginica</td>\n",
       "      <td>7.2</td>\n",
       "      <td>6.1</td>\n",
       "      <td>3.6</td>\n",
       "      <td>2.5</td>\n",
       "    </tr>\n",
       "    <tr>\n",
       "      <th>4</th>\n",
       "      <td>4</td>\n",
       "      <td>setosa</td>\n",
       "      <td>4.9</td>\n",
       "      <td>1.4</td>\n",
       "      <td>3.0</td>\n",
       "      <td>0.2</td>\n",
       "    </tr>\n",
       "  </tbody>\n",
       "</table>\n",
       "</div>"
      ],
      "text/plain": [
       "   id     species  sepal length (cm)  petal length (cm)  sepal width (cm)  \\\n",
       "0   0      setosa                4.4                1.4               2.9   \n",
       "1   1  versicolor                6.4                4.5               3.2   \n",
       "2   2   virginica                6.2                4.8               2.8   \n",
       "3   3   virginica                7.2                6.1               3.6   \n",
       "4   4      setosa                4.9                1.4               3.0   \n",
       "\n",
       "   petal width (cm)  \n",
       "0               0.2  \n",
       "1               1.5  \n",
       "2               1.8  \n",
       "3               2.5  \n",
       "4               0.2  "
      ]
     },
     "execution_count": 3,
     "metadata": {},
     "output_type": "execute_result"
    }
   ],
   "source": [
    "train.head(5)"
   ]
  },
  {
   "cell_type": "code",
   "execution_count": 4,
   "id": "071615f4",
   "metadata": {},
   "outputs": [],
   "source": [
    "sepal_length = train['sepal length (cm)']\n",
    "sepal_width = train['sepal width (cm)']"
   ]
  },
  {
   "cell_type": "code",
   "execution_count": 5,
   "id": "4d7cb435",
   "metadata": {},
   "outputs": [
    {
     "data": {
      "text/plain": [
       "0     2.9\n",
       "1     3.2\n",
       "2     2.8\n",
       "3     3.6\n",
       "4     3.0\n",
       "     ... \n",
       "70    2.8\n",
       "71    2.9\n",
       "72    2.2\n",
       "73    2.4\n",
       "74    3.1\n",
       "Name: sepal width (cm), Length: 75, dtype: float64"
      ]
     },
     "execution_count": 5,
     "metadata": {},
     "output_type": "execute_result"
    }
   ],
   "source": [
    "sepal_width"
   ]
  },
  {
   "cell_type": "code",
   "execution_count": 6,
   "id": "6eaf78d0",
   "metadata": {},
   "outputs": [],
   "source": [
    "import numpy as np"
   ]
  },
  {
   "cell_type": "code",
   "execution_count": 7,
   "id": "b52787f7",
   "metadata": {},
   "outputs": [],
   "source": [
    "sepal_length_mean = np.mean(sepal_length)\n",
    "sepal_width_mean = np.mean(sepal_width)"
   ]
  },
  {
   "cell_type": "code",
   "execution_count": 8,
   "id": "002511c9",
   "metadata": {},
   "outputs": [
    {
     "name": "stdout",
     "output_type": "stream",
     "text": [
      "꽃받침 길이의 평균:6.04 \n",
      "꽃받침 너비의 평균:2.96\n",
      "따라서 꽃받침 너비는 꽃받침 길이의 평균 0.49배 입니다.\n"
     ]
    }
   ],
   "source": [
    "print(f\"꽃받침 길이의 평균:{sepal_length_mean:.2f} \\n꽃받침 너비의 평균:{sepal_width_mean:.2f}\")\n",
    "print(f\"따라서 꽃받침 너비는 꽃받침 길이의 평균 {sepal_width_mean/sepal_length_mean:.2f}배 입니다.\")"
   ]
  },
  {
   "cell_type": "code",
   "execution_count": 9,
   "id": "d6277826",
   "metadata": {},
   "outputs": [
    {
     "name": "stdout",
     "output_type": "stream",
     "text": [
      "업데이트 된 방정식의 b는 -0.06입니다.\n"
     ]
    }
   ],
   "source": [
    "# Y = 0.5X + b\n",
    "# b = Y - 0.5X\n",
    "b = sepal_width_mean - 0.5 * sepal_length_mean\n",
    "print (f'업데이트 된 방정식의 b는 {b:.2f}입니다.')"
   ]
  },
  {
   "cell_type": "code",
   "execution_count": 10,
   "id": "3584badd",
   "metadata": {},
   "outputs": [
    {
     "data": {
      "text/plain": [
       "0     2.14\n",
       "1     3.14\n",
       "2     3.04\n",
       "3     3.54\n",
       "4     2.39\n",
       "      ... \n",
       "70    3.19\n",
       "71    2.74\n",
       "72    3.04\n",
       "73    2.39\n",
       "74    3.39\n",
       "Name: sepal length (cm), Length: 75, dtype: float64"
      ]
     },
     "execution_count": 10,
     "metadata": {},
     "output_type": "execute_result"
    }
   ],
   "source": [
    "predict_sepal_width = 0.5*sepal_length-0.06\n",
    "predict_sepal_width"
   ]
  },
  {
   "cell_type": "code",
   "execution_count": 11,
   "id": "856b4592",
   "metadata": {},
   "outputs": [
    {
     "name": "stdout",
     "output_type": "stream",
     "text": [
      "이 방정식의 평균 에러는 0.43입니다.\n"
     ]
    }
   ],
   "source": [
    "def MAE(true, pred):\n",
    "    score = np.mean(np.abs(true-pred))\n",
    "    return score\n",
    "\n",
    "real_sepal_width = sepal_width.copy()\n",
    "\n",
    "mean_error = MAE(real_sepal_width, predict_sepal_width)\n",
    "\n",
    "print(f'이 방정식의 평균 에러는 {mean_error:.2f}입니다.')"
   ]
  },
  {
   "cell_type": "code",
   "execution_count": 12,
   "id": "9a7a2300",
   "metadata": {},
   "outputs": [
    {
     "name": "stdout",
     "output_type": "stream",
     "text": [
      "꽃잎 길이의 평균 : 4.26 \n",
      "꽃잎 너비의 평균:1.38\n",
      "따라서 꽃잎 너비의 꽃잎 길이의 평균 0.32배 입니다.\n",
      "업데이트 된 방정식의 b는 0.02입니다.\n"
     ]
    }
   ],
   "source": [
    "petal_length = train['petal length (cm)']\n",
    "petal_width = train ['petal width (cm)']\n",
    "\n",
    "petal_length_mean = np.mean(petal_length)\n",
    "petal_width_mean = np.mean(petal_width)\n",
    "\n",
    "print(f'꽃잎 길이의 평균 : {petal_length_mean:.2f} \\n꽃잎 너비의 평균:{petal_width_mean:.2f}')\n",
    "print(f'따라서 꽃잎 너비의 꽃잎 길이의 평균 {petal_width_mean/petal_length_mean:.2f}배 입니다.')\n",
    "a = petal_width_mean/petal_length_mean\n",
    "\n",
    "b = petal_width_mean - 0.32*petal_length_mean\n",
    "\n",
    "print(f'업데이트 된 방정식의 b는 {b:.2f}입니다.')"
   ]
  },
  {
   "cell_type": "code",
   "execution_count": 13,
   "id": "e0216d5b",
   "metadata": {},
   "outputs": [
    {
     "name": "stdout",
     "output_type": "stream",
     "text": [
      "이 방정식의 평균 에러는 0.21 입니다.\n"
     ]
    }
   ],
   "source": [
    "predict_petal_width = 0.32*petal_length - 0.02\n",
    "\n",
    "real_petal_width = petal_width.copy()\n",
    "\n",
    "mean_error = MAE(real_petal_width, predict_petal_width)\n",
    "\n",
    "print(f'이 방정식의 평균 에러는 {mean_error:.2f} 입니다.')"
   ]
  },
  {
   "cell_type": "code",
   "execution_count": 14,
   "id": "a136011c",
   "metadata": {},
   "outputs": [],
   "source": [
    "test = pd.read_csv('iris dataset/iris_test.csv')"
   ]
  },
  {
   "cell_type": "code",
   "execution_count": 15,
   "id": "dca75bca",
   "metadata": {},
   "outputs": [
    {
     "data": {
      "text/html": [
       "<div>\n",
       "<style scoped>\n",
       "    .dataframe tbody tr th:only-of-type {\n",
       "        vertical-align: middle;\n",
       "    }\n",
       "\n",
       "    .dataframe tbody tr th {\n",
       "        vertical-align: top;\n",
       "    }\n",
       "\n",
       "    .dataframe thead th {\n",
       "        text-align: right;\n",
       "    }\n",
       "</style>\n",
       "<table border=\"1\" class=\"dataframe\">\n",
       "  <thead>\n",
       "    <tr style=\"text-align: right;\">\n",
       "      <th></th>\n",
       "      <th>id</th>\n",
       "      <th>species</th>\n",
       "      <th>sepal length (cm)</th>\n",
       "      <th>petal length (cm)</th>\n",
       "    </tr>\n",
       "  </thead>\n",
       "  <tbody>\n",
       "    <tr>\n",
       "      <th>0</th>\n",
       "      <td>0</td>\n",
       "      <td>setosa</td>\n",
       "      <td>5.4</td>\n",
       "      <td>1.7</td>\n",
       "    </tr>\n",
       "    <tr>\n",
       "      <th>1</th>\n",
       "      <td>1</td>\n",
       "      <td>setosa</td>\n",
       "      <td>5.7</td>\n",
       "      <td>1.5</td>\n",
       "    </tr>\n",
       "    <tr>\n",
       "      <th>2</th>\n",
       "      <td>2</td>\n",
       "      <td>setosa</td>\n",
       "      <td>5.3</td>\n",
       "      <td>1.5</td>\n",
       "    </tr>\n",
       "    <tr>\n",
       "      <th>3</th>\n",
       "      <td>3</td>\n",
       "      <td>setosa</td>\n",
       "      <td>5.1</td>\n",
       "      <td>1.9</td>\n",
       "    </tr>\n",
       "    <tr>\n",
       "      <th>4</th>\n",
       "      <td>4</td>\n",
       "      <td>virginica</td>\n",
       "      <td>6.0</td>\n",
       "      <td>4.8</td>\n",
       "    </tr>\n",
       "  </tbody>\n",
       "</table>\n",
       "</div>"
      ],
      "text/plain": [
       "   id    species  sepal length (cm)  petal length (cm)\n",
       "0   0     setosa                5.4                1.7\n",
       "1   1     setosa                5.7                1.5\n",
       "2   2     setosa                5.3                1.5\n",
       "3   3     setosa                5.1                1.9\n",
       "4   4  virginica                6.0                4.8"
      ]
     },
     "execution_count": 15,
     "metadata": {},
     "output_type": "execute_result"
    }
   ],
   "source": [
    "test.head(5)"
   ]
  },
  {
   "cell_type": "code",
   "execution_count": 16,
   "id": "5394b154",
   "metadata": {},
   "outputs": [
    {
     "data": {
      "text/plain": [
       "0    -0.33\n",
       "1     0.60\n",
       "2     0.69\n",
       "3     1.08\n",
       "4    -0.33\n",
       "      ... \n",
       "70    0.63\n",
       "71    0.33\n",
       "72    0.60\n",
       "73    0.24\n",
       "74    0.72\n",
       "Name: petal length (cm), Length: 75, dtype: float64"
      ]
     },
     "execution_count": 16,
     "metadata": {},
     "output_type": "execute_result"
    }
   ],
   "source": [
    "sepal_length = train['sepal length (cm)']\n",
    "petal_length = train['petal length (cm)']\n",
    "\n",
    "predict_sepal_width = 0.5*sepal_length - 0.06\n",
    "predict_petal_width = 0.3*petal_length - 0.75\n",
    "\n",
    "predict_petal_width"
   ]
  },
  {
   "cell_type": "code",
   "execution_count": 17,
   "id": "e06a20c2",
   "metadata": {},
   "outputs": [
    {
     "data": {
      "text/html": [
       "<div>\n",
       "<style scoped>\n",
       "    .dataframe tbody tr th:only-of-type {\n",
       "        vertical-align: middle;\n",
       "    }\n",
       "\n",
       "    .dataframe tbody tr th {\n",
       "        vertical-align: top;\n",
       "    }\n",
       "\n",
       "    .dataframe thead th {\n",
       "        text-align: right;\n",
       "    }\n",
       "</style>\n",
       "<table border=\"1\" class=\"dataframe\">\n",
       "  <thead>\n",
       "    <tr style=\"text-align: right;\">\n",
       "      <th></th>\n",
       "      <th>id</th>\n",
       "      <th>sepal width (cm)</th>\n",
       "      <th>petal width (cm)</th>\n",
       "    </tr>\n",
       "  </thead>\n",
       "  <tbody>\n",
       "    <tr>\n",
       "      <th>0</th>\n",
       "      <td>0</td>\n",
       "      <td>0</td>\n",
       "      <td>0</td>\n",
       "    </tr>\n",
       "    <tr>\n",
       "      <th>1</th>\n",
       "      <td>1</td>\n",
       "      <td>0</td>\n",
       "      <td>0</td>\n",
       "    </tr>\n",
       "    <tr>\n",
       "      <th>2</th>\n",
       "      <td>2</td>\n",
       "      <td>0</td>\n",
       "      <td>0</td>\n",
       "    </tr>\n",
       "    <tr>\n",
       "      <th>3</th>\n",
       "      <td>3</td>\n",
       "      <td>0</td>\n",
       "      <td>0</td>\n",
       "    </tr>\n",
       "    <tr>\n",
       "      <th>4</th>\n",
       "      <td>4</td>\n",
       "      <td>0</td>\n",
       "      <td>0</td>\n",
       "    </tr>\n",
       "  </tbody>\n",
       "</table>\n",
       "</div>"
      ],
      "text/plain": [
       "   id  sepal width (cm)  petal width (cm)\n",
       "0   0                 0                 0\n",
       "1   1                 0                 0\n",
       "2   2                 0                 0\n",
       "3   3                 0                 0\n",
       "4   4                 0                 0"
      ]
     },
     "execution_count": 17,
     "metadata": {},
     "output_type": "execute_result"
    }
   ],
   "source": [
    "submission = pd.read_csv('iris dataset/sample_submission.csv')\n",
    "submission.head()"
   ]
  },
  {
   "cell_type": "code",
   "execution_count": 18,
   "id": "8022f047",
   "metadata": {},
   "outputs": [
    {
     "data": {
      "text/html": [
       "<div>\n",
       "<style scoped>\n",
       "    .dataframe tbody tr th:only-of-type {\n",
       "        vertical-align: middle;\n",
       "    }\n",
       "\n",
       "    .dataframe tbody tr th {\n",
       "        vertical-align: top;\n",
       "    }\n",
       "\n",
       "    .dataframe thead th {\n",
       "        text-align: right;\n",
       "    }\n",
       "</style>\n",
       "<table border=\"1\" class=\"dataframe\">\n",
       "  <thead>\n",
       "    <tr style=\"text-align: right;\">\n",
       "      <th></th>\n",
       "      <th>id</th>\n",
       "      <th>sepal width (cm)</th>\n",
       "      <th>petal width (cm)</th>\n",
       "    </tr>\n",
       "  </thead>\n",
       "  <tbody>\n",
       "    <tr>\n",
       "      <th>0</th>\n",
       "      <td>0</td>\n",
       "      <td>2.14</td>\n",
       "      <td>-0.33</td>\n",
       "    </tr>\n",
       "    <tr>\n",
       "      <th>1</th>\n",
       "      <td>1</td>\n",
       "      <td>3.14</td>\n",
       "      <td>0.60</td>\n",
       "    </tr>\n",
       "    <tr>\n",
       "      <th>2</th>\n",
       "      <td>2</td>\n",
       "      <td>3.04</td>\n",
       "      <td>0.69</td>\n",
       "    </tr>\n",
       "    <tr>\n",
       "      <th>3</th>\n",
       "      <td>3</td>\n",
       "      <td>3.54</td>\n",
       "      <td>1.08</td>\n",
       "    </tr>\n",
       "    <tr>\n",
       "      <th>4</th>\n",
       "      <td>4</td>\n",
       "      <td>2.39</td>\n",
       "      <td>-0.33</td>\n",
       "    </tr>\n",
       "    <tr>\n",
       "      <th>...</th>\n",
       "      <td>...</td>\n",
       "      <td>...</td>\n",
       "      <td>...</td>\n",
       "    </tr>\n",
       "    <tr>\n",
       "      <th>70</th>\n",
       "      <td>70</td>\n",
       "      <td>3.19</td>\n",
       "      <td>0.63</td>\n",
       "    </tr>\n",
       "    <tr>\n",
       "      <th>71</th>\n",
       "      <td>71</td>\n",
       "      <td>2.74</td>\n",
       "      <td>0.33</td>\n",
       "    </tr>\n",
       "    <tr>\n",
       "      <th>72</th>\n",
       "      <td>72</td>\n",
       "      <td>3.04</td>\n",
       "      <td>0.60</td>\n",
       "    </tr>\n",
       "    <tr>\n",
       "      <th>73</th>\n",
       "      <td>73</td>\n",
       "      <td>2.39</td>\n",
       "      <td>0.24</td>\n",
       "    </tr>\n",
       "    <tr>\n",
       "      <th>74</th>\n",
       "      <td>74</td>\n",
       "      <td>3.39</td>\n",
       "      <td>0.72</td>\n",
       "    </tr>\n",
       "  </tbody>\n",
       "</table>\n",
       "<p>75 rows × 3 columns</p>\n",
       "</div>"
      ],
      "text/plain": [
       "    id  sepal width (cm)  petal width (cm)\n",
       "0    0              2.14             -0.33\n",
       "1    1              3.14              0.60\n",
       "2    2              3.04              0.69\n",
       "3    3              3.54              1.08\n",
       "4    4              2.39             -0.33\n",
       "..  ..               ...               ...\n",
       "70  70              3.19              0.63\n",
       "71  71              2.74              0.33\n",
       "72  72              3.04              0.60\n",
       "73  73              2.39              0.24\n",
       "74  74              3.39              0.72\n",
       "\n",
       "[75 rows x 3 columns]"
      ]
     },
     "execution_count": 18,
     "metadata": {},
     "output_type": "execute_result"
    }
   ],
   "source": [
    "submission['sepal width (cm)'] = predict_sepal_width\n",
    "submission['petal width (cm)'] = predict_petal_width\n",
    "\n",
    "submission"
   ]
  },
  {
   "cell_type": "code",
   "execution_count": 19,
   "id": "9c60754e",
   "metadata": {},
   "outputs": [],
   "source": [
    "submission.to_csv('submission.csv', index=False)"
   ]
  },
  {
   "cell_type": "code",
   "execution_count": 20,
   "id": "b17776af",
   "metadata": {},
   "outputs": [],
   "source": [
    "a_list = [0.48, 0.49, 0.5, 0.51, 0.52]\n",
    "b_list = [-0.058, -0.059, -0.06, -0.061, -0.062]"
   ]
  },
  {
   "cell_type": "code",
   "execution_count": 21,
   "id": "6d46bff7",
   "metadata": {},
   "outputs": [],
   "source": [
    "def find_best_params(sepal_length, sepal_width):\n",
    "    min_error = 999\n",
    "    \n",
    "    for a in a_list:\n",
    "        for b in b_list:\n",
    "            predict = a*sepal_length+b\n",
    "            error = MAE(sepal_width, predict)\n",
    "            \n",
    "            if error < min_error:\n",
    "                print('모델 개선이 가능합니다.')\n",
    "                print(f'a={a},b={b}')\n",
    "                print(f'error={error:.5f}')\n",
    "                min_error = error\n",
    "                coef, bias = a,b\n",
    "                \n",
    "    print (f'최적의 parameter는 a = {coef}, b = {bias}\\n이때 평균 에러는 {min_error:.2f} 입니다.')\n",
    "    return coef, bias, min_error"
   ]
  },
  {
   "cell_type": "code",
   "execution_count": 22,
   "id": "637c9e30",
   "metadata": {},
   "outputs": [
    {
     "name": "stdout",
     "output_type": "stream",
     "text": [
      "모델 개선이 가능합니다.\n",
      "a=0.48,b=-0.058\n",
      "error=0.41373\n",
      "모델 개선이 가능합니다.\n",
      "a=0.48,b=-0.059\n",
      "error=0.41369\n",
      "모델 개선이 가능합니다.\n",
      "a=0.48,b=-0.06\n",
      "error=0.41365\n",
      "모델 개선이 가능합니다.\n",
      "a=0.48,b=-0.061\n",
      "error=0.41361\n",
      "모델 개선이 가능합니다.\n",
      "a=0.48,b=-0.062\n",
      "error=0.41357\n",
      "최적의 parameter는 a = 0.48, b = -0.062\n",
      "이때 평균 에러는 0.41 입니다.\n",
      "기존 방정식의 평균 에러 : 0.43\n",
      "모델 성능 개선 : 0.02\n"
     ]
    }
   ],
   "source": [
    "a,b, error = find_best_params(sepal_length, sepal_width)\n",
    "print('기존 방정식의 평균 에러 : 0.43')\n",
    "print(f'모델 성능 개선 : {0.43 - error:.2f}')"
   ]
  },
  {
   "cell_type": "markdown",
   "id": "108f4bb3",
   "metadata": {},
   "source": [
    "# Linear Regression"
   ]
  },
  {
   "cell_type": "code",
   "execution_count": 73,
   "id": "3f40ac80",
   "metadata": {
    "scrolled": true
   },
   "outputs": [],
   "source": [
    "from sklearn.preprocessing import LabelEncoder, PolynomialFeatures\n",
    "from sklearn.model_selection import train_test_split\n",
    "from sklearn.linear_model import LinearRegression, Lasso\n",
    "from sklearn.tree import DecisionTreeRegressor\n",
    "from sklearn.svm import SVR\n",
    "from sklearn.ensemble import RandomForestRegressor"
   ]
  },
  {
   "cell_type": "code",
   "execution_count": 24,
   "id": "86535f4f",
   "metadata": {},
   "outputs": [],
   "source": [
    "train.drop(['id'], axis=1, inplace=True)"
   ]
  },
  {
   "cell_type": "code",
   "execution_count": 25,
   "id": "97d0d7b6",
   "metadata": {},
   "outputs": [],
   "source": [
    "le = LabelEncoder()\n",
    "le_species = le.fit_transform(train['species'])"
   ]
  },
  {
   "cell_type": "code",
   "execution_count": 26,
   "id": "fa03e2c9",
   "metadata": {},
   "outputs": [],
   "source": [
    "train['species'] = le_species"
   ]
  },
  {
   "cell_type": "code",
   "execution_count": 27,
   "id": "9ba580cd",
   "metadata": {},
   "outputs": [],
   "source": [
    "train_input = train.drop(['sepal width (cm)','petal width (cm)'], axis=1).to_numpy()\n",
    "train_target = train[['sepal width (cm)', 'petal width (cm)']].to_numpy()"
   ]
  },
  {
   "cell_type": "code",
   "execution_count": 28,
   "id": "093f360f",
   "metadata": {},
   "outputs": [],
   "source": [
    "train_input, test_input, train_target, test_target = train_test_split(train_input, train_target, test_size=.2, random_state=42)"
   ]
  },
  {
   "cell_type": "code",
   "execution_count": 29,
   "id": "4af649c7",
   "metadata": {},
   "outputs": [
    {
     "name": "stdout",
     "output_type": "stream",
     "text": [
      "0.7145453735141549\n"
     ]
    }
   ],
   "source": [
    "reg = LinearRegression()\n",
    "reg.fit(train_input, train_target)\n",
    "print(reg.score(test_input, test_target))"
   ]
  },
  {
   "cell_type": "code",
   "execution_count": 41,
   "id": "c16c8dac",
   "metadata": {
    "scrolled": true
   },
   "outputs": [
    {
     "name": "stdout",
     "output_type": "stream",
     "text": [
      "-0.05031611971673977\n"
     ]
    }
   ],
   "source": [
    "dr = DecisionTreeRegressor()\n",
    "dr.fit(train_input, train_target)\n",
    "print(dr.score(test_input, test_target))"
   ]
  },
  {
   "cell_type": "code",
   "execution_count": 48,
   "id": "de0bf2d8",
   "metadata": {},
   "outputs": [
    {
     "name": "stdout",
     "output_type": "stream",
     "text": [
      "-0.002042288399710601\n"
     ]
    }
   ],
   "source": [
    "lasso = Lasso()\n",
    "lasso.fit(train_input, train_target)\n",
    "print(lasso.score(test_input, test_target))"
   ]
  },
  {
   "cell_type": "code",
   "execution_count": 99,
   "id": "04b4d398",
   "metadata": {},
   "outputs": [
    {
     "name": "stdout",
     "output_type": "stream",
     "text": [
      "0.21027156588222906\n"
     ]
    }
   ],
   "source": [
    "rfr = RandomForestRegressor(n_estimators=100, min_samples_split=40)\n",
    "rfr.fit(train_input, train_target)\n",
    "print(rfr.score(test_input, test_target))"
   ]
  },
  {
   "cell_type": "code",
   "execution_count": 30,
   "id": "5a238633",
   "metadata": {},
   "outputs": [],
   "source": [
    "test.drop(['id'], axis=1, inplace=True)\n",
    "le_species = le.fit_transform(test['species'])\n",
    "test['species'] = le_species"
   ]
  },
  {
   "cell_type": "code",
   "execution_count": 31,
   "id": "b6f90749",
   "metadata": {},
   "outputs": [],
   "source": [
    "predict = reg.predict(test)"
   ]
  },
  {
   "cell_type": "code",
   "execution_count": 100,
   "id": "9d9dc964",
   "metadata": {},
   "outputs": [],
   "source": [
    "predict = rfr.predict(test)"
   ]
  },
  {
   "cell_type": "code",
   "execution_count": 101,
   "id": "e6be4d9d",
   "metadata": {},
   "outputs": [],
   "source": [
    "predict = np.round(predict,2)"
   ]
  },
  {
   "cell_type": "code",
   "execution_count": 102,
   "id": "b1b2b89a",
   "metadata": {},
   "outputs": [],
   "source": [
    "df = pd.DataFrame(predict)"
   ]
  },
  {
   "cell_type": "code",
   "execution_count": 103,
   "id": "2eaacdcc",
   "metadata": {},
   "outputs": [
    {
     "data": {
      "text/plain": [
       "(75, 2)"
      ]
     },
     "execution_count": 103,
     "metadata": {},
     "output_type": "execute_result"
    }
   ],
   "source": [
    "df.shape"
   ]
  },
  {
   "cell_type": "code",
   "execution_count": 104,
   "id": "2c0d2ff1",
   "metadata": {},
   "outputs": [],
   "source": [
    "submission = pd.read_csv('iris dataset/sample_submission.csv')\n",
    "submission['sepal width (cm)'] = np.array(df[0])\n",
    "submission['petal width (cm)'] = np.array(df[1])"
   ]
  },
  {
   "cell_type": "code",
   "execution_count": 105,
   "id": "4187ee1e",
   "metadata": {},
   "outputs": [],
   "source": [
    "submission.to_csv('submission_rfr.csv', index=False)"
   ]
  },
  {
   "cell_type": "code",
   "execution_count": null,
   "id": "090ca899",
   "metadata": {},
   "outputs": [],
   "source": []
  }
 ],
 "metadata": {
  "kernelspec": {
   "display_name": "Python 3",
   "language": "python",
   "name": "python3"
  },
  "language_info": {
   "codemirror_mode": {
    "name": "ipython",
    "version": 3
   },
   "file_extension": ".py",
   "mimetype": "text/x-python",
   "name": "python",
   "nbconvert_exporter": "python",
   "pygments_lexer": "ipython3",
   "version": "3.8.6"
  }
 },
 "nbformat": 4,
 "nbformat_minor": 5
}
