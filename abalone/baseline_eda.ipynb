{
 "cells": [
  {
   "cell_type": "code",
   "execution_count": 1,
   "id": "59eb8947",
   "metadata": {},
   "outputs": [],
   "source": [
    "import sys\n",
    "import os \n",
    "\n",
    "import pandas as pd\n",
    "import numpy as np\n",
    "import matplotlib as mpl\n",
    "import matplotlib.pyplot as plt\n",
    "import seaborn as sns\n",
    "\n",
    "from sklearn.preprocessing import LabelEncoder, MinMaxScaler, StandardScaler\n",
    "\n",
    "import tensorflow as tf\n",
    "from tensorflow import keras\n",
    "from tensorflow.keras import layers\n",
    "from sklearn.model_selection import train_test_split\n",
    "\n",
    "mpl.rc('axes', labelsize=14)\n",
    "mpl.rc('xtick', labelsize=12)\n",
    "mpl.rc('ytick', labelsize=12)\n",
    "\n",
    "import warnings\n",
    "warnings.simplefilter(action='ignore', category=FutureWarning) "
   ]
  },
  {
   "cell_type": "code",
   "execution_count": 2,
   "id": "ee401328",
   "metadata": {},
   "outputs": [],
   "source": [
    "PROJECT_ROOT_DIR = \".\"\n",
    "IMAGES_PATH = os.path.join(PROJECT_ROOT_DIR, \"images\")\n",
    "os.makedirs(IMAGES_PATH, exist_ok=True)\n",
    "\n",
    "def save_fig(fig_id, tight_layout=True, fig_extension=\"png\", resolution=300):\n",
    "    path = os.path.join(IMAGES_PATH, fig_id + \".\" + fig_extension)\n",
    "    print(\"그림 저장:\", fig_id)\n",
    "    if tight_layout:\n",
    "        plt.tight_layout()\n",
    "    plt.savefig(path, format=fig_extension, dpi=resolution)"
   ]
  },
  {
   "cell_type": "code",
   "execution_count": 3,
   "id": "5d1717c9",
   "metadata": {},
   "outputs": [],
   "source": [
    "train = pd.read_csv('data/train.csv')\n",
    "test = pd.read_csv('data/test.csv')\n",
    "submission = pd.read_csv('data/sample_submission.csv')"
   ]
  },
  {
   "cell_type": "code",
   "execution_count": 4,
   "id": "b4cb8b68",
   "metadata": {},
   "outputs": [
    {
     "data": {
      "text/html": [
       "<div>\n",
       "<style scoped>\n",
       "    .dataframe tbody tr th:only-of-type {\n",
       "        vertical-align: middle;\n",
       "    }\n",
       "\n",
       "    .dataframe tbody tr th {\n",
       "        vertical-align: top;\n",
       "    }\n",
       "\n",
       "    .dataframe thead th {\n",
       "        text-align: right;\n",
       "    }\n",
       "</style>\n",
       "<table border=\"1\" class=\"dataframe\">\n",
       "  <thead>\n",
       "    <tr style=\"text-align: right;\">\n",
       "      <th></th>\n",
       "      <th>id</th>\n",
       "      <th>Gender</th>\n",
       "      <th>Lenght</th>\n",
       "      <th>Diameter</th>\n",
       "      <th>Height</th>\n",
       "      <th>Whole Weight</th>\n",
       "      <th>Shucked Weight</th>\n",
       "      <th>Viscra Weight</th>\n",
       "      <th>Shell Weight</th>\n",
       "      <th>Target</th>\n",
       "    </tr>\n",
       "  </thead>\n",
       "  <tbody>\n",
       "    <tr>\n",
       "      <th>0</th>\n",
       "      <td>1</td>\n",
       "      <td>M</td>\n",
       "      <td>0.605</td>\n",
       "      <td>0.470</td>\n",
       "      <td>0.115</td>\n",
       "      <td>1.1140</td>\n",
       "      <td>0.3925</td>\n",
       "      <td>0.2910</td>\n",
       "      <td>0.3100</td>\n",
       "      <td>15</td>\n",
       "    </tr>\n",
       "    <tr>\n",
       "      <th>1</th>\n",
       "      <td>2</td>\n",
       "      <td>I</td>\n",
       "      <td>0.430</td>\n",
       "      <td>0.315</td>\n",
       "      <td>0.095</td>\n",
       "      <td>0.3780</td>\n",
       "      <td>0.1750</td>\n",
       "      <td>0.0800</td>\n",
       "      <td>0.1045</td>\n",
       "      <td>8</td>\n",
       "    </tr>\n",
       "    <tr>\n",
       "      <th>2</th>\n",
       "      <td>3</td>\n",
       "      <td>I</td>\n",
       "      <td>0.580</td>\n",
       "      <td>0.490</td>\n",
       "      <td>0.195</td>\n",
       "      <td>1.3165</td>\n",
       "      <td>0.5305</td>\n",
       "      <td>0.2540</td>\n",
       "      <td>0.4100</td>\n",
       "      <td>18</td>\n",
       "    </tr>\n",
       "    <tr>\n",
       "      <th>3</th>\n",
       "      <td>4</td>\n",
       "      <td>M</td>\n",
       "      <td>0.535</td>\n",
       "      <td>0.405</td>\n",
       "      <td>0.175</td>\n",
       "      <td>1.2705</td>\n",
       "      <td>0.5480</td>\n",
       "      <td>0.3265</td>\n",
       "      <td>0.3370</td>\n",
       "      <td>13</td>\n",
       "    </tr>\n",
       "    <tr>\n",
       "      <th>4</th>\n",
       "      <td>5</td>\n",
       "      <td>I</td>\n",
       "      <td>0.310</td>\n",
       "      <td>0.235</td>\n",
       "      <td>0.090</td>\n",
       "      <td>0.1270</td>\n",
       "      <td>0.0480</td>\n",
       "      <td>0.0310</td>\n",
       "      <td>0.0400</td>\n",
       "      <td>6</td>\n",
       "    </tr>\n",
       "  </tbody>\n",
       "</table>\n",
       "</div>"
      ],
      "text/plain": [
       "   id Gender  Lenght  Diameter  Height  Whole Weight  Shucked Weight  \\\n",
       "0   1      M   0.605     0.470   0.115        1.1140          0.3925   \n",
       "1   2      I   0.430     0.315   0.095        0.3780          0.1750   \n",
       "2   3      I   0.580     0.490   0.195        1.3165          0.5305   \n",
       "3   4      M   0.535     0.405   0.175        1.2705          0.5480   \n",
       "4   5      I   0.310     0.235   0.090        0.1270          0.0480   \n",
       "\n",
       "   Viscra Weight  Shell Weight  Target  \n",
       "0         0.2910        0.3100      15  \n",
       "1         0.0800        0.1045       8  \n",
       "2         0.2540        0.4100      18  \n",
       "3         0.3265        0.3370      13  \n",
       "4         0.0310        0.0400       6  "
      ]
     },
     "execution_count": 4,
     "metadata": {},
     "output_type": "execute_result"
    }
   ],
   "source": [
    "train.head()"
   ]
  },
  {
   "cell_type": "markdown",
   "id": "51dc7c44",
   "metadata": {},
   "source": [
    "- id : 샘플 아이디\n",
    "- Gender : 전복 성별\n",
    "- Lenght : 전복 길이\n",
    "- Diameter : 전복 둘레\n",
    "- Height : 전복 키\n",
    "- Whole Weight : 전복 전체 무게\n",
    "- Shucked Weight : 껍질을 제외한 무게\n",
    "- Viscra Weight : 내장 무게\n",
    "- Shell Weight : 껍질 무게\n",
    "- Target : 전복 나이"
   ]
  },
  {
   "cell_type": "code",
   "execution_count": 5,
   "id": "1f36ebf6",
   "metadata": {},
   "outputs": [
    {
     "data": {
      "text/plain": [
       "(1253, 10)"
      ]
     },
     "execution_count": 5,
     "metadata": {},
     "output_type": "execute_result"
    }
   ],
   "source": [
    "train.shape"
   ]
  },
  {
   "cell_type": "code",
   "execution_count": 6,
   "id": "5b5553c7",
   "metadata": {},
   "outputs": [],
   "source": [
    "# 결측치 확인\n",
    "def check_missing_col(dataframe):\n",
    "    missing_col = []\n",
    "    counted_missing_col = 0\n",
    "    for i, col in enumerate(dataframe.columns):\n",
    "        missing_values = sum(dataframe[col].isna())\n",
    "        is_missing = True if missing_values >= 1 else False\n",
    "        if is_missing:\n",
    "            counted_missing_col += 1\n",
    "            print (f'결측치가 있는 컬럼은: {col}입니다')\n",
    "            print (f'해당 컬럼에 총 {missing_values}개의 결측치가 존재합니다')\n",
    "            missing_col.append([col, dataframe[col].dtype])\n",
    "        if counted_missing_col == 0:\n",
    "            print('결측치가 존재하지 않습니다')\n",
    "        return missing_col"
   ]
  },
  {
   "cell_type": "code",
   "execution_count": 7,
   "id": "68ef4261",
   "metadata": {},
   "outputs": [
    {
     "name": "stdout",
     "output_type": "stream",
     "text": [
      "0 id\n",
      "1 Gender\n",
      "2 Lenght\n",
      "3 Diameter\n",
      "4 Height\n",
      "5 Whole Weight\n",
      "6 Shucked Weight\n",
      "7 Viscra Weight\n",
      "8 Shell Weight\n",
      "9 Target\n"
     ]
    }
   ],
   "source": [
    "for i, col in enumerate(train.columns):\n",
    "    print (i, col)"
   ]
  },
  {
   "cell_type": "code",
   "execution_count": 8,
   "id": "9ab2bcc4",
   "metadata": {},
   "outputs": [
    {
     "data": {
      "text/plain": [
       "0"
      ]
     },
     "execution_count": 8,
     "metadata": {},
     "output_type": "execute_result"
    }
   ],
   "source": [
    "sum(train['id'].isna())"
   ]
  },
  {
   "cell_type": "code",
   "execution_count": 9,
   "id": "a02ded69",
   "metadata": {},
   "outputs": [
    {
     "name": "stdout",
     "output_type": "stream",
     "text": [
      "결측치가 존재하지 않습니다\n"
     ]
    }
   ],
   "source": [
    "missing_col = check_missing_col(train)"
   ]
  },
  {
   "cell_type": "code",
   "execution_count": 10,
   "id": "402513bf",
   "metadata": {},
   "outputs": [
    {
     "data": {
      "text/plain": [
       "id                0\n",
       "Gender            0\n",
       "Lenght            0\n",
       "Diameter          0\n",
       "Height            0\n",
       "Whole Weight      0\n",
       "Shucked Weight    0\n",
       "Viscra Weight     0\n",
       "Shell Weight      0\n",
       "Target            0\n",
       "dtype: int64"
      ]
     },
     "execution_count": 10,
     "metadata": {},
     "output_type": "execute_result"
    }
   ],
   "source": [
    "train.isnull().sum()"
   ]
  },
  {
   "cell_type": "code",
   "execution_count": 11,
   "id": "ca4f150d",
   "metadata": {},
   "outputs": [],
   "source": [
    "# id 제거\n",
    "train = train.drop(columns=['id'],axis=1)"
   ]
  },
  {
   "cell_type": "code",
   "execution_count": null,
   "id": "1ca5e96e",
   "metadata": {},
   "outputs": [],
   "source": [
    "# target 분포 확인\n",
    "temp = train['Target'].unique()\n",
    "np.sort(temp) # 오름차순 정렬"
   ]
  },
  {
   "cell_type": "code",
   "execution_count": null,
   "id": "f1fac387",
   "metadata": {},
   "outputs": [],
   "source": [
    "train.groupby('Target').count().iloc[:,0]"
   ]
  },
  {
   "cell_type": "code",
   "execution_count": null,
   "id": "5922d162",
   "metadata": {},
   "outputs": [],
   "source": [
    "fig, ax = plt.subplots(1, figsize=(25,10))\n",
    "sns.countplot('Target', data=train)\n",
    "plt.title(\"Abalone age by count\", fontsize=30)\n",
    "plt.xlabel(\"target(age)\", fontsize=15)\n",
    "plt.ylabel(\"count\", fontsize=15)\n",
    "save_fig(\"Abalone age by count\")\n",
    "plt.show();"
   ]
  },
  {
   "cell_type": "code",
   "execution_count": null,
   "id": "20805b6f",
   "metadata": {},
   "outputs": [],
   "source": [
    "# 데이터 기초 통계 분석\n",
    "# 카테고리형 데이터\n",
    "# 'Gender' 시각화\n",
    "train['Gender'].unique()"
   ]
  },
  {
   "cell_type": "code",
   "execution_count": null,
   "id": "5ffa9944",
   "metadata": {},
   "outputs": [],
   "source": [
    "train.groupby('Gender').count().iloc[:,0]"
   ]
  },
  {
   "cell_type": "code",
   "execution_count": null,
   "id": "4bfb7b12",
   "metadata": {},
   "outputs": [],
   "source": [
    "plt.figure(figsize=(8,5))\n",
    "sns.countplot('Gender', data=train)\n",
    "plt.title(\"Abalone gender by count\", fontsize=30)\n",
    "save_fig(\"Abalone gender by count\")\n",
    "plt.show();"
   ]
  },
  {
   "cell_type": "code",
   "execution_count": null,
   "id": "85db9b71",
   "metadata": {},
   "outputs": [],
   "source": [
    "# 성별별로 나이의 분포\n",
    "plt.figure(figsize=(25, 7))\n",
    "sns.kdeplot('Target', hue='Gender', data=train)\n",
    "plt.title('Abalone age by gender', fontsize=30)\n",
    "plt.xlabel('target(age)', fontsize=15)\n",
    "plt.ylabel('Density', fontsize=15)\n",
    "save_fig(\"Abalone age by gender\")\n",
    "plt.show()"
   ]
  },
  {
   "cell_type": "code",
   "execution_count": null,
   "id": "df3299ad",
   "metadata": {},
   "outputs": [],
   "source": [
    "# 수치형 데이터 시각화\n",
    "description = train.describe()\n",
    "description"
   ]
  },
  {
   "cell_type": "code",
   "execution_count": null,
   "id": "f93d7c0f",
   "metadata": {},
   "outputs": [],
   "source": [
    "# 수치형 데이터 통계치 그래프\n",
    "interest_coloumns = train.columns[1:]\n",
    "# plt.style.use('fivethirtyeight')\n",
    "fig, ax =plt.subplots(2, 4, figsize = (25, 10))\n",
    "fig.suptitle('Histogram of interesting features', fontsize=40)\n",
    "column_idx = 0\n",
    "for i in range(2):\n",
    "    for j in range(4):\n",
    "        ax[i][j].hist(train[interest_coloumns[column_idx]], bins=30, color='#eaa18a', edgecolor='#7bcabf')\n",
    "        ax[i][j].set_title(interest_coloumns[column_idx])\n",
    "        ax[i][j].axvline(description[interest_coloumns[column_idx]]['mean'], c='#f55354', label = f\"mean = {round(description[interest_coloumns[column_idx]]['mean'], 2)}\")\n",
    "        ax[i][j].axvline(description[interest_coloumns[column_idx]]['50%'], c='#518d7d', label = f\"median = {round(description[interest_coloumns[column_idx]]['50%'], 2)}\")\n",
    "        ax[i][j].legend()\n",
    "        column_idx += 1\n",
    "save_fig(\"Histogram of interesting features\")"
   ]
  },
  {
   "cell_type": "code",
   "execution_count": null,
   "id": "f8b812fa",
   "metadata": {},
   "outputs": [],
   "source": [
    "def visualize(axx, yfield):\n",
    "    sns.regplot(x='Target', y=yfield, data=train,  color='#eaa18a', line_kws=  {'color': '#f55354'} , ax = axx) # regplot을 이용하여 추세선과 산점도 그래프를 그려줍니다.\n",
    "    axx.set_title(yfield)"
   ]
  },
  {
   "cell_type": "code",
   "execution_count": null,
   "id": "b20870d0",
   "metadata": {},
   "outputs": [],
   "source": [
    "figure, ((ax1,ax2,ax3,ax4),(ax5,ax6,ax7,ax8)) = plt.subplots(nrows=2, ncols=4)\n",
    "figure.set_size_inches(20,12)\n",
    "figure.suptitle('Correlation between target and features', fontsize=40)\n",
    "\n",
    "for i in range(len(train.columns[1:-1])):\n",
    "    visualize(eval(f'ax{i+1}'), train.columns[i+1])\n",
    "save_fig(\"Correlation between target and features\")"
   ]
  },
  {
   "cell_type": "code",
   "execution_count": null,
   "id": "50d7b0ac",
   "metadata": {},
   "outputs": [],
   "source": [
    "# 수치형 데이터 상관관계 히트맵\n",
    "train_corr = train.drop(columns=['Gender'], axis=1)\n",
    "corr = train_corr.corr(method='pearson')"
   ]
  },
  {
   "cell_type": "code",
   "execution_count": null,
   "id": "b67b5fd4",
   "metadata": {},
   "outputs": [],
   "source": [
    "plt.figure(figsize=(12, 10))\n",
    "sns.heatmap(data=corr, annot=True, fmt='.2f', linewidths=.5, cmap='Blues')\n",
    "plt.title('Correlation between features', fontsize=30)\n",
    "save_fig('Correlation between features')\n",
    "plt.show()"
   ]
  },
  {
   "cell_type": "code",
   "execution_count": null,
   "id": "dc445e75",
   "metadata": {
    "scrolled": true
   },
   "outputs": [],
   "source": [
    "# target과 피처들의 상관관계\n",
    "unstacked = corr.unstack()\n",
    "unstacked_df = pd.DataFrame(unstacked['Target'].sort_values(ascending=False), columns=['Target'])\n",
    "unstacked_df.style.background_gradient(cmap='viridis')"
   ]
  },
  {
   "cell_type": "code",
   "execution_count": null,
   "id": "4da6aff8",
   "metadata": {},
   "outputs": [],
   "source": [
    "train"
   ]
  },
  {
   "cell_type": "code",
   "execution_count": null,
   "id": "b92e1304",
   "metadata": {},
   "outputs": [],
   "source": [
    "plt.figure(figsize=(20,10))\n",
    "sns.boxplot(x=train['Target'], y=train['Lenght'], hue=train['Gender'])\n",
    "sns.boxplot(x=train['Target'], y=train['Diameter'], hue=train['Gender'])\n",
    "sns.boxplot(x=train['Target'], y=train['Height'], hue=train['Gender'])\n",
    "sns.boxplot(x=train['Target'], y=train['Whole Weight'], hue=train['Gender'])"
   ]
  },
  {
   "cell_type": "markdown",
   "id": "f80731c9",
   "metadata": {},
   "source": [
    "## Modeling"
   ]
  },
  {
   "cell_type": "code",
   "execution_count": 25,
   "id": "da37560a",
   "metadata": {},
   "outputs": [
    {
     "data": {
      "text/html": [
       "<div>\n",
       "<style scoped>\n",
       "    .dataframe tbody tr th:only-of-type {\n",
       "        vertical-align: middle;\n",
       "    }\n",
       "\n",
       "    .dataframe tbody tr th {\n",
       "        vertical-align: top;\n",
       "    }\n",
       "\n",
       "    .dataframe thead th {\n",
       "        text-align: right;\n",
       "    }\n",
       "</style>\n",
       "<table border=\"1\" class=\"dataframe\">\n",
       "  <thead>\n",
       "    <tr style=\"text-align: right;\">\n",
       "      <th></th>\n",
       "      <th>Gender</th>\n",
       "      <th>Lenght</th>\n",
       "      <th>Diameter</th>\n",
       "      <th>Height</th>\n",
       "      <th>Whole Weight</th>\n",
       "      <th>Shucked Weight</th>\n",
       "      <th>Viscra Weight</th>\n",
       "      <th>Shell Weight</th>\n",
       "      <th>Target</th>\n",
       "    </tr>\n",
       "  </thead>\n",
       "  <tbody>\n",
       "    <tr>\n",
       "      <th>0</th>\n",
       "      <td>M</td>\n",
       "      <td>0.605</td>\n",
       "      <td>0.470</td>\n",
       "      <td>0.115</td>\n",
       "      <td>1.1140</td>\n",
       "      <td>0.3925</td>\n",
       "      <td>0.2910</td>\n",
       "      <td>0.3100</td>\n",
       "      <td>15</td>\n",
       "    </tr>\n",
       "    <tr>\n",
       "      <th>1</th>\n",
       "      <td>I</td>\n",
       "      <td>0.430</td>\n",
       "      <td>0.315</td>\n",
       "      <td>0.095</td>\n",
       "      <td>0.3780</td>\n",
       "      <td>0.1750</td>\n",
       "      <td>0.0800</td>\n",
       "      <td>0.1045</td>\n",
       "      <td>8</td>\n",
       "    </tr>\n",
       "    <tr>\n",
       "      <th>2</th>\n",
       "      <td>I</td>\n",
       "      <td>0.580</td>\n",
       "      <td>0.490</td>\n",
       "      <td>0.195</td>\n",
       "      <td>1.3165</td>\n",
       "      <td>0.5305</td>\n",
       "      <td>0.2540</td>\n",
       "      <td>0.4100</td>\n",
       "      <td>18</td>\n",
       "    </tr>\n",
       "    <tr>\n",
       "      <th>3</th>\n",
       "      <td>M</td>\n",
       "      <td>0.535</td>\n",
       "      <td>0.405</td>\n",
       "      <td>0.175</td>\n",
       "      <td>1.2705</td>\n",
       "      <td>0.5480</td>\n",
       "      <td>0.3265</td>\n",
       "      <td>0.3370</td>\n",
       "      <td>13</td>\n",
       "    </tr>\n",
       "    <tr>\n",
       "      <th>4</th>\n",
       "      <td>I</td>\n",
       "      <td>0.310</td>\n",
       "      <td>0.235</td>\n",
       "      <td>0.090</td>\n",
       "      <td>0.1270</td>\n",
       "      <td>0.0480</td>\n",
       "      <td>0.0310</td>\n",
       "      <td>0.0400</td>\n",
       "      <td>6</td>\n",
       "    </tr>\n",
       "  </tbody>\n",
       "</table>\n",
       "</div>"
      ],
      "text/plain": [
       "  Gender  Lenght  Diameter  Height  Whole Weight  Shucked Weight  \\\n",
       "0      M   0.605     0.470   0.115        1.1140          0.3925   \n",
       "1      I   0.430     0.315   0.095        0.3780          0.1750   \n",
       "2      I   0.580     0.490   0.195        1.3165          0.5305   \n",
       "3      M   0.535     0.405   0.175        1.2705          0.5480   \n",
       "4      I   0.310     0.235   0.090        0.1270          0.0480   \n",
       "\n",
       "   Viscra Weight  Shell Weight  Target  \n",
       "0         0.2910        0.3100      15  \n",
       "1         0.0800        0.1045       8  \n",
       "2         0.2540        0.4100      18  \n",
       "3         0.3265        0.3370      13  \n",
       "4         0.0310        0.0400       6  "
      ]
     },
     "execution_count": 25,
     "metadata": {},
     "output_type": "execute_result"
    }
   ],
   "source": [
    "train.head['Whole Weight'] - ()"
   ]
  },
  {
   "cell_type": "code",
   "execution_count": 27,
   "id": "2922e1bd",
   "metadata": {},
   "outputs": [],
   "source": [
    "train['water'] = train['Whole Weight'] - (train['Shell Weight'] + train['Shucked Weight'])"
   ]
  },
  {
   "cell_type": "code",
   "execution_count": 28,
   "id": "06774794",
   "metadata": {},
   "outputs": [],
   "source": [
    "test['water'] = test['Whole Weight'] - (test['Shell Weight'] + test['Shucked Weight'])"
   ]
  },
  {
   "cell_type": "code",
   "execution_count": 12,
   "id": "bfea6424",
   "metadata": {},
   "outputs": [],
   "source": [
    "le = LabelEncoder()\n",
    "minmax = MinMaxScaler()"
   ]
  },
  {
   "cell_type": "code",
   "execution_count": 13,
   "id": "a302ea0d",
   "metadata": {},
   "outputs": [],
   "source": [
    "standard = StandardScaler()"
   ]
  },
  {
   "cell_type": "code",
   "execution_count": 29,
   "id": "6ee5bc8d",
   "metadata": {},
   "outputs": [],
   "source": [
    "# labelencoder \n",
    "result = le.fit_transform(train['Gender'])\n",
    "train_new = train.drop(['Gender', 'Target'], 1)\n",
    "train_new['Gender_encoded'] = result\n",
    "\n",
    "result = le.transform(test['Gender'])\n",
    "test_new = test.drop(['id', 'Gender'], 1)\n",
    "test_new['Gender_encoded'] = result"
   ]
  },
  {
   "cell_type": "code",
   "execution_count": 15,
   "id": "f990b6ea",
   "metadata": {},
   "outputs": [],
   "source": [
    "# # minmaxscaler\n",
    "# scaled_train_new = minmax.fit_transform(train_new)\n",
    "# scaled_test_new = minmax.transform(test_new)"
   ]
  },
  {
   "cell_type": "code",
   "execution_count": 30,
   "id": "24147485",
   "metadata": {},
   "outputs": [],
   "source": [
    "# standardscaler\n",
    "scaled_train_new = standard.fit_transform(train_new)\n",
    "scaled_test_new = standard.transform(test_new)"
   ]
  },
  {
   "cell_type": "code",
   "execution_count": 31,
   "id": "62f9b63d",
   "metadata": {},
   "outputs": [],
   "source": [
    "# #pca\n",
    "# from sklearn.decomposition import PCA\n",
    "\n",
    "# pca = PCA(n_components=5)\n",
    "# train_low = pca.fit_transform(scaled_train_new)\n",
    "# test_low = pca.transform(test_new)"
   ]
  },
  {
   "cell_type": "code",
   "execution_count": 32,
   "id": "304d970c",
   "metadata": {},
   "outputs": [],
   "source": [
    "X = scaled_train_new\n",
    "y = train['Target']\n",
    "\n",
    "X_train_full, X_test, y_train_full, y_test = train_test_split(X, y, random_state=42)\n",
    "X_train, X_valid, y_train, y_valid = train_test_split(X_train_full, y_train_full, random_state=42)"
   ]
  },
  {
   "cell_type": "code",
   "execution_count": null,
   "id": "16d1225e",
   "metadata": {},
   "outputs": [],
   "source": [
    "# model 생성\n",
    "model = keras.models.Sequential([\n",
    "    keras.layers.Dense(30, activation=\"relu\", input_shape=X_train.shape[1:]),\n",
    "    keras.layers.Dense(1)\n",
    "])\n",
    "\n",
    "model.compile(loss=\"mse\", optimizer=keras.optimizers.SGD(learning_rate=1e-3))\n",
    "history = model.fit(X_train, y_train, epochs=20, validation_data=(X_valid, y_valid))\n",
    "mse_test = model.evaluate(X_test, y_test)\n",
    "mse_test"
   ]
  },
  {
   "cell_type": "code",
   "execution_count": null,
   "id": "360f73ca",
   "metadata": {},
   "outputs": [],
   "source": [
    "y_pred = model.predict(test_low).flatten()"
   ]
  },
  {
   "cell_type": "code",
   "execution_count": null,
   "id": "daaa4770",
   "metadata": {},
   "outputs": [],
   "source": [
    "submission['Target'] = np.around(y_pred)\n",
    "submission['Target'] = submission['Target'].astype('int')\n",
    "submission.to_csv('data/submission.csv', index=False)"
   ]
  },
  {
   "cell_type": "code",
   "execution_count": 33,
   "id": "d673533d",
   "metadata": {
    "collapsed": true
   },
   "outputs": [
    {
     "name": "stdout",
     "output_type": "stream",
     "text": [
      "Epoch 1/50\n",
      "22/22 [==============================] - 0s 5ms/step - loss: 106.6903 - val_loss: 71.8994\n",
      "Epoch 2/50\n",
      "22/22 [==============================] - 0s 950us/step - loss: 65.5903 - val_loss: 44.3464\n",
      "Epoch 3/50\n",
      "22/22 [==============================] - 0s 1ms/step - loss: 38.2769 - val_loss: 31.2438\n",
      "Epoch 4/50\n",
      "22/22 [==============================] - 0s 1ms/step - loss: 29.1144 - val_loss: 25.9721\n",
      "Epoch 5/50\n",
      "22/22 [==============================] - 0s 919us/step - loss: 24.6968 - val_loss: 22.9369\n",
      "Epoch 6/50\n",
      "22/22 [==============================] - 0s 957us/step - loss: 20.3731 - val_loss: 20.2895\n",
      "Epoch 7/50\n",
      "22/22 [==============================] - 0s 1ms/step - loss: 21.5368 - val_loss: 17.9151\n",
      "Epoch 8/50\n",
      "22/22 [==============================] - 0s 1ms/step - loss: 16.6871 - val_loss: 15.6969\n",
      "Epoch 9/50\n",
      "22/22 [==============================] - 0s 1ms/step - loss: 16.0705 - val_loss: 13.6771\n",
      "Epoch 10/50\n",
      "22/22 [==============================] - 0s 983us/step - loss: 13.2194 - val_loss: 11.9069\n",
      "Epoch 11/50\n",
      "22/22 [==============================] - 0s 931us/step - loss: 12.1846 - val_loss: 10.3796\n",
      "Epoch 12/50\n",
      "22/22 [==============================] - 0s 885us/step - loss: 10.5401 - val_loss: 9.2003\n",
      "Epoch 13/50\n",
      "22/22 [==============================] - 0s 943us/step - loss: 9.4277 - val_loss: 8.2898\n",
      "Epoch 14/50\n",
      "22/22 [==============================] - 0s 921us/step - loss: 8.3230 - val_loss: 7.6576\n",
      "Epoch 15/50\n",
      "22/22 [==============================] - 0s 964us/step - loss: 7.9964 - val_loss: 7.2202\n",
      "Epoch 16/50\n",
      "22/22 [==============================] - 0s 900us/step - loss: 6.0568 - val_loss: 6.9141\n",
      "Epoch 17/50\n",
      "22/22 [==============================] - 0s 933us/step - loss: 6.8256 - val_loss: 6.7297\n",
      "Epoch 18/50\n",
      "22/22 [==============================] - 0s 927us/step - loss: 5.6610 - val_loss: 6.5869\n",
      "Epoch 19/50\n",
      "22/22 [==============================] - 0s 975us/step - loss: 5.9681 - val_loss: 6.4909\n",
      "Epoch 20/50\n",
      "22/22 [==============================] - 0s 1ms/step - loss: 6.1273 - val_loss: 6.4054\n",
      "Epoch 21/50\n",
      "22/22 [==============================] - 0s 1ms/step - loss: 5.4967 - val_loss: 6.3325\n",
      "Epoch 22/50\n",
      "22/22 [==============================] - 0s 1ms/step - loss: 5.8878 - val_loss: 6.2709\n",
      "Epoch 23/50\n",
      "22/22 [==============================] - 0s 945us/step - loss: 5.3345 - val_loss: 6.2079\n",
      "Epoch 24/50\n",
      "22/22 [==============================] - 0s 932us/step - loss: 5.1750 - val_loss: 6.1496\n",
      "Epoch 25/50\n",
      "22/22 [==============================] - 0s 932us/step - loss: 5.6484 - val_loss: 6.1125\n",
      "Epoch 26/50\n",
      "22/22 [==============================] - 0s 880us/step - loss: 6.1368 - val_loss: 6.0495\n",
      "Epoch 27/50\n",
      "22/22 [==============================] - 0s 912us/step - loss: 4.8277 - val_loss: 6.0079\n",
      "Epoch 28/50\n",
      "22/22 [==============================] - 0s 969us/step - loss: 5.5324 - val_loss: 5.9542\n",
      "Epoch 29/50\n",
      "22/22 [==============================] - 0s 944us/step - loss: 4.8111 - val_loss: 5.9135\n",
      "Epoch 30/50\n",
      "22/22 [==============================] - 0s 938us/step - loss: 5.3057 - val_loss: 5.8723\n",
      "Epoch 31/50\n",
      "22/22 [==============================] - 0s 1ms/step - loss: 5.3902 - val_loss: 5.8281\n",
      "Epoch 32/50\n",
      "22/22 [==============================] - 0s 1ms/step - loss: 5.2805 - val_loss: 5.7834\n",
      "Epoch 33/50\n",
      "22/22 [==============================] - 0s 1ms/step - loss: 5.7301 - val_loss: 5.7448\n",
      "Epoch 34/50\n",
      "22/22 [==============================] - 0s 1ms/step - loss: 5.0155 - val_loss: 5.7076\n",
      "Epoch 35/50\n",
      "22/22 [==============================] - 0s 1ms/step - loss: 5.7135 - val_loss: 5.6806\n",
      "Epoch 36/50\n",
      "22/22 [==============================] - 0s 1ms/step - loss: 5.2311 - val_loss: 5.6395\n",
      "Epoch 37/50\n",
      "22/22 [==============================] - 0s 894us/step - loss: 4.7642 - val_loss: 5.6074\n",
      "Epoch 38/50\n",
      "22/22 [==============================] - 0s 885us/step - loss: 4.5738 - val_loss: 5.5779\n",
      "Epoch 39/50\n",
      "22/22 [==============================] - 0s 886us/step - loss: 4.6908 - val_loss: 5.5490\n",
      "Epoch 40/50\n",
      "22/22 [==============================] - 0s 887us/step - loss: 4.6637 - val_loss: 5.5222\n",
      "Epoch 41/50\n",
      "22/22 [==============================] - 0s 1ms/step - loss: 4.6195 - val_loss: 5.4961\n",
      "Epoch 42/50\n",
      "22/22 [==============================] - 0s 1ms/step - loss: 5.5521 - val_loss: 5.4733\n",
      "Epoch 43/50\n",
      "22/22 [==============================] - 0s 842us/step - loss: 4.3447 - val_loss: 5.4488\n",
      "Epoch 44/50\n",
      "22/22 [==============================] - 0s 844us/step - loss: 4.5244 - val_loss: 5.4235\n",
      "Epoch 45/50\n",
      "22/22 [==============================] - 0s 957us/step - loss: 4.5979 - val_loss: 5.3988\n",
      "Epoch 46/50\n",
      "22/22 [==============================] - 0s 873us/step - loss: 5.4044 - val_loss: 5.3900\n",
      "Epoch 47/50\n",
      "22/22 [==============================] - 0s 904us/step - loss: 4.5040 - val_loss: 5.3729\n",
      "Epoch 48/50\n",
      "22/22 [==============================] - 0s 880us/step - loss: 4.9680 - val_loss: 5.3488\n",
      "Epoch 49/50\n",
      "22/22 [==============================] - 0s 823us/step - loss: 4.7888 - val_loss: 5.3277\n",
      "Epoch 50/50\n",
      "22/22 [==============================] - 0s 886us/step - loss: 4.9997 - val_loss: 5.3068\n",
      "10/10 [==============================] - 0s 290us/step - loss: 4.5584\n"
     ]
    },
    {
     "data": {
      "text/plain": [
       "4.558427810668945"
      ]
     },
     "execution_count": 33,
     "metadata": {},
     "output_type": "execute_result"
    }
   ],
   "source": [
    "# model 생성\n",
    "model2 = keras.models.Sequential([\n",
    "    keras.layers.Dense(60, activation=\"relu\", input_shape=X_train.shape[1:]),\n",
    "    keras.layers.Dense(1)\n",
    "])\n",
    "\n",
    "model2.compile(loss=\"mse\", optimizer=keras.optimizers.SGD(learning_rate=1e-3))\n",
    "history = model2.fit(X_train, y_train, epochs=50, validation_data=(X_valid, y_valid))\n",
    "mse_test = model2.evaluate(X_test, y_test)\n",
    "mse_test"
   ]
  },
  {
   "cell_type": "code",
   "execution_count": 34,
   "id": "dcf9fbbc",
   "metadata": {},
   "outputs": [],
   "source": [
    "y_pred = model2.predict(scaled_test_new).flatten()"
   ]
  },
  {
   "cell_type": "code",
   "execution_count": 35,
   "id": "74ee1b92",
   "metadata": {},
   "outputs": [],
   "source": [
    "submission['Target'] = np.around(y_pred)\n",
    "submission['Target'] = submission['Target'].astype('int')\n",
    "submission.to_csv('data/submission.csv', index=False)"
   ]
  },
  {
   "cell_type": "code",
   "execution_count": null,
   "id": "b3c25aee",
   "metadata": {},
   "outputs": [],
   "source": []
  },
  {
   "cell_type": "code",
   "execution_count": null,
   "id": "30ef35a8",
   "metadata": {},
   "outputs": [],
   "source": [
    "# 단위가 다르기 때문에 스케일링 진행 -> minmaxscaler\n",
    "# 우선 모델링한 다음에 ols 진행\n",
    "# 그 다음에 피처 엔지니어링 \n",
    "# polynomial\n",
    "# pca "
   ]
  },
  {
   "cell_type": "code",
   "execution_count": null,
   "id": "0adec26e",
   "metadata": {},
   "outputs": [],
   "source": [
    "# 다중공산성"
   ]
  },
  {
   "cell_type": "code",
   "execution_count": null,
   "id": "98055096",
   "metadata": {},
   "outputs": [],
   "source": [
    "train_new2 = train.drop(['Target'], 1)\n",
    "train_new2 = pd.get_dummies(train_new2)"
   ]
  },
  {
   "cell_type": "code",
   "execution_count": null,
   "id": "b2b67187",
   "metadata": {},
   "outputs": [],
   "source": [
    "test_new2 = test.drop(['id'], 1)\n",
    "test_new2 = pd.get_dummies(test_new2)"
   ]
  },
  {
   "cell_type": "code",
   "execution_count": null,
   "id": "6f6f6d1d",
   "metadata": {},
   "outputs": [],
   "source": [
    "X = train_new2\n",
    "y = train['Target']\n",
    "\n",
    "X_train_full, X_test, y_train_full, y_test = train_test_split(X, y, random_state=42)\n",
    "X_train, X_valid, y_train, y_valid = train_test_split(X_train_full, y_train_full, random_state=42)\n",
    "\n",
    "X_train = minmax.fit_transform(X_train)\n",
    "X_valid = minmax.transform(X_valid)\n",
    "X_test = minmax.transform(X_test)"
   ]
  },
  {
   "cell_type": "code",
   "execution_count": null,
   "id": "8fc530d2",
   "metadata": {},
   "outputs": [],
   "source": [
    "test_new2 = minmax.transform(test_new2)"
   ]
  },
  {
   "cell_type": "code",
   "execution_count": null,
   "id": "c85560a0",
   "metadata": {},
   "outputs": [],
   "source": [
    "# model 생성\n",
    "model = keras.models.Sequential([\n",
    "    keras.layers.Dense(60, activation=\"relu\", input_shape=X_train.shape[1:]),\n",
    "    keras.layers.Dense(1)\n",
    "])\n",
    "\n",
    "model.compile(loss=\"mse\", optimizer=keras.optimizers.SGD(learning_rate=1e-3))\n",
    "history = model.fit(X_train, y_train, epochs=50, validation_data=(X_valid, y_valid))\n",
    "mse_test = model.evaluate(X_test, y_test)\n",
    "mse_test"
   ]
  },
  {
   "cell_type": "code",
   "execution_count": null,
   "id": "554c372a",
   "metadata": {},
   "outputs": [],
   "source": [
    "y_pred = model.predict(test_new2).flatten()"
   ]
  },
  {
   "cell_type": "code",
   "execution_count": null,
   "id": "a642f8c4",
   "metadata": {},
   "outputs": [],
   "source": [
    "submission['Target'] = np.around(y_pred)\n",
    "submission['Target'] = submission['Target'].astype('int')\n",
    "submission.to_csv('data/submission.csv', index=False)"
   ]
  },
  {
   "cell_type": "code",
   "execution_count": null,
   "id": "764fe221",
   "metadata": {},
   "outputs": [],
   "source": [
    "# 'water' column 추가 + standardscaling + model2"
   ]
  }
 ],
 "metadata": {
  "kernelspec": {
   "display_name": "Python 3",
   "language": "python",
   "name": "python3"
  },
  "language_info": {
   "codemirror_mode": {
    "name": "ipython",
    "version": 3
   },
   "file_extension": ".py",
   "mimetype": "text/x-python",
   "name": "python",
   "nbconvert_exporter": "python",
   "pygments_lexer": "ipython3",
   "version": "3.8.6"
  }
 },
 "nbformat": 4,
 "nbformat_minor": 5
}
