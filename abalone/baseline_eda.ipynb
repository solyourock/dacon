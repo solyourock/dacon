{
 "cells": [
  {
   "cell_type": "code",
   "execution_count": 39,
   "id": "559be601",
   "metadata": {},
   "outputs": [],
   "source": [
    "import sys\n",
    "import os \n",
    "\n",
    "import pandas as pd\n",
    "import numpy as np\n",
    "import matplotlib as mpl\n",
    "import matplotlib.pyplot as plt\n",
    "import seaborn as sns\n",
    "from sklearn.preprocessing import MinMaxScaler\n",
    "\n",
    "mpl.rc('axes', labelsize=14)\n",
    "mpl.rc('xtick', labelsize=12)\n",
    "mpl.rc('ytick', labelsize=12)\n",
    "\n",
    "import warnings\n",
    "warnings.simplefilter(action='ignore', category=FutureWarning) "
   ]
  },
  {
   "cell_type": "code",
   "execution_count": 35,
   "id": "e6b351a9",
   "metadata": {},
   "outputs": [],
   "source": [
    "PROJECT_ROOT_DIR = \".\"\n",
    "IMAGES_PATH = os.path.join(PROJECT_ROOT_DIR, \"images\")\n",
    "os.makedirs(IMAGES_PATH, exist_ok=True)\n",
    "\n",
    "def save_fig(fig_id, tight_layout=True, fig_extension=\"png\", resolution=300):\n",
    "    path = os.path.join(IMAGES_PATH, fig_id + \".\" + fig_extension)\n",
    "    print(\"그림 저장:\", fig_id)\n",
    "    if tight_layout:\n",
    "        plt.tight_layout()\n",
    "    plt.savefig(path, format=fig_extension, dpi=resolution)"
   ]
  },
  {
   "cell_type": "code",
   "execution_count": 2,
   "id": "8ec6c258",
   "metadata": {},
   "outputs": [],
   "source": [
    "train = pd.read_csv('data/train.csv')"
   ]
  },
  {
   "cell_type": "code",
   "execution_count": 3,
   "id": "3ae6b473",
   "metadata": {},
   "outputs": [
    {
     "data": {
      "text/html": [
       "<div>\n",
       "<style scoped>\n",
       "    .dataframe tbody tr th:only-of-type {\n",
       "        vertical-align: middle;\n",
       "    }\n",
       "\n",
       "    .dataframe tbody tr th {\n",
       "        vertical-align: top;\n",
       "    }\n",
       "\n",
       "    .dataframe thead th {\n",
       "        text-align: right;\n",
       "    }\n",
       "</style>\n",
       "<table border=\"1\" class=\"dataframe\">\n",
       "  <thead>\n",
       "    <tr style=\"text-align: right;\">\n",
       "      <th></th>\n",
       "      <th>id</th>\n",
       "      <th>Gender</th>\n",
       "      <th>Lenght</th>\n",
       "      <th>Diameter</th>\n",
       "      <th>Height</th>\n",
       "      <th>Whole Weight</th>\n",
       "      <th>Shucked Weight</th>\n",
       "      <th>Viscra Weight</th>\n",
       "      <th>Shell Weight</th>\n",
       "      <th>Target</th>\n",
       "    </tr>\n",
       "  </thead>\n",
       "  <tbody>\n",
       "    <tr>\n",
       "      <th>0</th>\n",
       "      <td>1</td>\n",
       "      <td>M</td>\n",
       "      <td>0.605</td>\n",
       "      <td>0.470</td>\n",
       "      <td>0.115</td>\n",
       "      <td>1.1140</td>\n",
       "      <td>0.3925</td>\n",
       "      <td>0.2910</td>\n",
       "      <td>0.3100</td>\n",
       "      <td>15</td>\n",
       "    </tr>\n",
       "    <tr>\n",
       "      <th>1</th>\n",
       "      <td>2</td>\n",
       "      <td>I</td>\n",
       "      <td>0.430</td>\n",
       "      <td>0.315</td>\n",
       "      <td>0.095</td>\n",
       "      <td>0.3780</td>\n",
       "      <td>0.1750</td>\n",
       "      <td>0.0800</td>\n",
       "      <td>0.1045</td>\n",
       "      <td>8</td>\n",
       "    </tr>\n",
       "    <tr>\n",
       "      <th>2</th>\n",
       "      <td>3</td>\n",
       "      <td>I</td>\n",
       "      <td>0.580</td>\n",
       "      <td>0.490</td>\n",
       "      <td>0.195</td>\n",
       "      <td>1.3165</td>\n",
       "      <td>0.5305</td>\n",
       "      <td>0.2540</td>\n",
       "      <td>0.4100</td>\n",
       "      <td>18</td>\n",
       "    </tr>\n",
       "    <tr>\n",
       "      <th>3</th>\n",
       "      <td>4</td>\n",
       "      <td>M</td>\n",
       "      <td>0.535</td>\n",
       "      <td>0.405</td>\n",
       "      <td>0.175</td>\n",
       "      <td>1.2705</td>\n",
       "      <td>0.5480</td>\n",
       "      <td>0.3265</td>\n",
       "      <td>0.3370</td>\n",
       "      <td>13</td>\n",
       "    </tr>\n",
       "    <tr>\n",
       "      <th>4</th>\n",
       "      <td>5</td>\n",
       "      <td>I</td>\n",
       "      <td>0.310</td>\n",
       "      <td>0.235</td>\n",
       "      <td>0.090</td>\n",
       "      <td>0.1270</td>\n",
       "      <td>0.0480</td>\n",
       "      <td>0.0310</td>\n",
       "      <td>0.0400</td>\n",
       "      <td>6</td>\n",
       "    </tr>\n",
       "  </tbody>\n",
       "</table>\n",
       "</div>"
      ],
      "text/plain": [
       "   id Gender  Lenght  Diameter  Height  Whole Weight  Shucked Weight  \\\n",
       "0   1      M   0.605     0.470   0.115        1.1140          0.3925   \n",
       "1   2      I   0.430     0.315   0.095        0.3780          0.1750   \n",
       "2   3      I   0.580     0.490   0.195        1.3165          0.5305   \n",
       "3   4      M   0.535     0.405   0.175        1.2705          0.5480   \n",
       "4   5      I   0.310     0.235   0.090        0.1270          0.0480   \n",
       "\n",
       "   Viscra Weight  Shell Weight  Target  \n",
       "0         0.2910        0.3100      15  \n",
       "1         0.0800        0.1045       8  \n",
       "2         0.2540        0.4100      18  \n",
       "3         0.3265        0.3370      13  \n",
       "4         0.0310        0.0400       6  "
      ]
     },
     "execution_count": 3,
     "metadata": {},
     "output_type": "execute_result"
    }
   ],
   "source": [
    "train.head()"
   ]
  },
  {
   "cell_type": "markdown",
   "id": "5865d5fb",
   "metadata": {},
   "source": [
    "- id : 샘플 아이디\n",
    "- Gender : 전복 성별\n",
    "- Lenght : 전복 길이\n",
    "- Diameter : 전복 둘레\n",
    "- Height : 전복 키\n",
    "- Whole Weight : 전복 전체 무게\n",
    "- Shucked Weight : 껍질을 제외한 무게\n",
    "- Viscra Weight : 내장 무게\n",
    "- Shell Weight : 껍질 무게\n",
    "- Target : 전복 나이"
   ]
  },
  {
   "cell_type": "code",
   "execution_count": 4,
   "id": "39b3f149",
   "metadata": {},
   "outputs": [
    {
     "data": {
      "text/plain": [
       "(1253, 10)"
      ]
     },
     "execution_count": 4,
     "metadata": {},
     "output_type": "execute_result"
    }
   ],
   "source": [
    "train.shape"
   ]
  },
  {
   "cell_type": "code",
   "execution_count": 12,
   "id": "3d109480",
   "metadata": {},
   "outputs": [],
   "source": [
    "# 결측치 확인\n",
    "def check_missing_col(dataframe):\n",
    "    missing_col = []\n",
    "    counted_missing_col = 0\n",
    "    for i, col in enumerate(dataframe.columns):\n",
    "        missing_values = sum(dataframe[col].isna())\n",
    "        is_missing = True if missing_values >= 1 else False\n",
    "        if is_missing:\n",
    "            counted_missing_col += 1\n",
    "            print (f'결측치가 있는 컬럼은: {col}입니다')\n",
    "            print (f'해당 컬럼에 총 {missing_values}개의 결측치가 존재합니다')\n",
    "            missing_col.append([col, dataframe[col].dtype])\n",
    "        if counted_missing_col == 0:\n",
    "            print('결측치가 존재하지 않습니다')\n",
    "        return missing_col"
   ]
  },
  {
   "cell_type": "code",
   "execution_count": 13,
   "id": "e7a74e51",
   "metadata": {},
   "outputs": [
    {
     "name": "stdout",
     "output_type": "stream",
     "text": [
      "0 id\n",
      "1 Gender\n",
      "2 Lenght\n",
      "3 Diameter\n",
      "4 Height\n",
      "5 Whole Weight\n",
      "6 Shucked Weight\n",
      "7 Viscra Weight\n",
      "8 Shell Weight\n",
      "9 Target\n"
     ]
    }
   ],
   "source": [
    "for i, col in enumerate(train.columns):\n",
    "    print (i, col)"
   ]
  },
  {
   "cell_type": "code",
   "execution_count": 14,
   "id": "d03c25c4",
   "metadata": {},
   "outputs": [
    {
     "data": {
      "text/plain": [
       "0"
      ]
     },
     "execution_count": 14,
     "metadata": {},
     "output_type": "execute_result"
    }
   ],
   "source": [
    "sum(train['id'].isna())"
   ]
  },
  {
   "cell_type": "code",
   "execution_count": 16,
   "id": "b067c609",
   "metadata": {},
   "outputs": [
    {
     "name": "stdout",
     "output_type": "stream",
     "text": [
      "결측치가 존재하지 않습니다\n"
     ]
    }
   ],
   "source": [
    "missing_col = check_missing_col(train)"
   ]
  },
  {
   "cell_type": "code",
   "execution_count": 19,
   "id": "a9ddf609",
   "metadata": {},
   "outputs": [
    {
     "data": {
      "text/plain": [
       "id                0\n",
       "Gender            0\n",
       "Lenght            0\n",
       "Diameter          0\n",
       "Height            0\n",
       "Whole Weight      0\n",
       "Shucked Weight    0\n",
       "Viscra Weight     0\n",
       "Shell Weight      0\n",
       "Target            0\n",
       "dtype: int64"
      ]
     },
     "execution_count": 19,
     "metadata": {},
     "output_type": "execute_result"
    }
   ],
   "source": [
    "train.isnull().sum()"
   ]
  },
  {
   "cell_type": "code",
   "execution_count": 20,
   "id": "624754e2",
   "metadata": {},
   "outputs": [],
   "source": [
    "# id 제거\n",
    "train = train.drop(columns=['id'],axis=1)"
   ]
  },
  {
   "cell_type": "code",
   "execution_count": 22,
   "id": "f5969666",
   "metadata": {},
   "outputs": [
    {
     "data": {
      "text/plain": [
       "array([ 3,  4,  5,  6,  7,  8,  9, 10, 11, 12, 13, 14, 15, 16, 17, 18, 19,\n",
       "       20, 21, 22, 23, 29])"
      ]
     },
     "execution_count": 22,
     "metadata": {},
     "output_type": "execute_result"
    }
   ],
   "source": [
    "# target 분포 확인\n",
    "temp = train['Target'].unique()\n",
    "np.sort(temp) # 오름차순 정렬"
   ]
  },
  {
   "cell_type": "code",
   "execution_count": 29,
   "id": "1303ea11",
   "metadata": {
    "collapsed": true
   },
   "outputs": [
    {
     "data": {
      "text/plain": [
       "Target\n",
       "3       5\n",
       "4      14\n",
       "5      37\n",
       "6      88\n",
       "7     107\n",
       "8     174\n",
       "9     200\n",
       "10    202\n",
       "11    141\n",
       "12     79\n",
       "13     62\n",
       "14     42\n",
       "15     26\n",
       "16     21\n",
       "17     13\n",
       "18     12\n",
       "19      8\n",
       "20     11\n",
       "21      5\n",
       "22      2\n",
       "23      3\n",
       "29      1\n",
       "Name: Gender, dtype: int64"
      ]
     },
     "execution_count": 29,
     "metadata": {},
     "output_type": "execute_result"
    }
   ],
   "source": [
    "train.groupby('Target').count().iloc[:,0]"
   ]
  },
  {
   "cell_type": "code",
   "execution_count": 41,
   "id": "d599f96c",
   "metadata": {},
   "outputs": [
    {
     "name": "stdout",
     "output_type": "stream",
     "text": [
      "그림 저장: Abalone age by count\n"
     ]
    },
    {
     "data": {
      "image/png": "[encoded data removed]",
      "text/plain": [
       "<Figure size 1800x720 with 1 Axes>"
      ]
     },
     "metadata": {
      "needs_background": "light"
     },
     "output_type": "display_data"
    }
   ],
   "source": [
    "fig, ax = plt.subplots(1, figsize=(25,10))\n",
    "sns.countplot('Target', data=train)\n",
    "plt.title(\"Abalone age by count\", fontsize=30)\n",
    "plt.xlabel(\"target(age)\", fontsize=15)\n",
    "plt.ylabel(\"count\", fontsize=15)\n",
    "save_fig(\"Abalone age by count\")\n",
    "plt.show();"
   ]
  },
  {
   "cell_type": "code",
   "execution_count": 43,
   "id": "e3bc02f1",
   "metadata": {},
   "outputs": [
    {
     "data": {
      "text/plain": [
       "array(['M', 'I', 'F'], dtype=object)"
      ]
     },
     "execution_count": 43,
     "metadata": {},
     "output_type": "execute_result"
    }
   ],
   "source": [
    "# 데이터 기초 통계 분석\n",
    "# 카테고리형 데이터\n",
    "# 'Gender' 시각화\n",
    "train['Gender'].unique()"
   ]
  },
  {
   "cell_type": "code",
   "execution_count": 45,
   "id": "a54c286e",
   "metadata": {},
   "outputs": [
    {
     "data": {
      "text/plain": [
       "Gender\n",
       "F    380\n",
       "I    404\n",
       "M    469\n",
       "Name: Lenght, dtype: int64"
      ]
     },
     "execution_count": 45,
     "metadata": {},
     "output_type": "execute_result"
    }
   ],
   "source": [
    "train.groupby('Gender').count().iloc[:,0]"
   ]
  },
  {
   "cell_type": "code",
   "execution_count": 48,
   "id": "62a21f0c",
   "metadata": {},
   "outputs": [
    {
     "name": "stdout",
     "output_type": "stream",
     "text": [
      "그림 저장: Abalone gender by count\n"
     ]
    },
    {
     "data": {
      "image/png": "[encoded data removed]",
      "text/plain": [
       "<Figure size 576x360 with 1 Axes>"
      ]
     },
     "metadata": {
      "needs_background": "light"
     },
     "output_type": "display_data"
    }
   ],
   "source": [
    "plt.figure(figsize=(8,5))\n",
    "sns.countplot('Gender', data=train)\n",
    "plt.title(\"Abalone gender by count\", fontsize=30)\n",
    "save_fig(\"Abalone gender by count\")\n",
    "plt.show();"
   ]
  },
  {
   "cell_type": "code",
   "execution_count": null,
   "id": "36c5935d",
   "metadata": {},
   "outputs": [],
   "source": []
  }
 ],
 "metadata": {
  "kernelspec": {
   "display_name": "Python 3",
   "language": "python",
   "name": "python3"
  },
  "language_info": {
   "codemirror_mode": {
    "name": "ipython",
    "version": 3
   },
   "file_extension": ".py",
   "mimetype": "text/x-python",
   "name": "python",
   "nbconvert_exporter": "python",
   "pygments_lexer": "ipython3",
   "version": "3.8.6"
  }
 },
 "nbformat": 4,
 "nbformat_minor": 5
}
