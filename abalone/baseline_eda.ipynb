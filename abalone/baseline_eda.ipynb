{
 "cells": [
  {
   "cell_type": "code",
   "execution_count": 1,
   "id": "59eb8947",
   "metadata": {},
   "outputs": [],
   "source": [
    "import sys\n",
    "import os \n",
    "\n",
    "import pandas as pd\n",
    "import numpy as np\n",
    "import matplotlib as mpl\n",
    "import matplotlib.pyplot as plt\n",
    "import seaborn as sns\n",
    "\n",
    "from sklearn.preprocessing import LabelEncoder\n",
    "from sklearn.preprocessing import MinMaxScaler\n",
    "\n",
    "import tensorflow as tf\n",
    "from tensorflow import keras\n",
    "from tensorflow.keras import layers\n",
    "from sklearn.model_selection import train_test_split\n",
    "\n",
    "mpl.rc('axes', labelsize=14)\n",
    "mpl.rc('xtick', labelsize=12)\n",
    "mpl.rc('ytick', labelsize=12)\n",
    "\n",
    "import warnings\n",
    "warnings.simplefilter(action='ignore', category=FutureWarning) "
   ]
  },
  {
   "cell_type": "code",
   "execution_count": 2,
   "id": "ee401328",
   "metadata": {},
   "outputs": [],
   "source": [
    "PROJECT_ROOT_DIR = \".\"\n",
    "IMAGES_PATH = os.path.join(PROJECT_ROOT_DIR, \"images\")\n",
    "os.makedirs(IMAGES_PATH, exist_ok=True)\n",
    "\n",
    "def save_fig(fig_id, tight_layout=True, fig_extension=\"png\", resolution=300):\n",
    "    path = os.path.join(IMAGES_PATH, fig_id + \".\" + fig_extension)\n",
    "    print(\"그림 저장:\", fig_id)\n",
    "    if tight_layout:\n",
    "        plt.tight_layout()\n",
    "    plt.savefig(path, format=fig_extension, dpi=resolution)"
   ]
  },
  {
   "cell_type": "code",
   "execution_count": 3,
   "id": "5d1717c9",
   "metadata": {},
   "outputs": [],
   "source": [
    "train = pd.read_csv('data/train.csv')\n",
    "test = pd.read_csv('data/test.csv')\n",
    "submission = pd.read_csv('data/sample_submission.csv')"
   ]
  },
  {
   "cell_type": "code",
   "execution_count": null,
   "id": "b4cb8b68",
   "metadata": {},
   "outputs": [],
   "source": [
    "train.head()"
   ]
  },
  {
   "cell_type": "markdown",
   "id": "51dc7c44",
   "metadata": {},
   "source": [
    "- id : 샘플 아이디\n",
    "- Gender : 전복 성별\n",
    "- Lenght : 전복 길이\n",
    "- Diameter : 전복 둘레\n",
    "- Height : 전복 키\n",
    "- Whole Weight : 전복 전체 무게\n",
    "- Shucked Weight : 껍질을 제외한 무게\n",
    "- Viscra Weight : 내장 무게\n",
    "- Shell Weight : 껍질 무게\n",
    "- Target : 전복 나이"
   ]
  },
  {
   "cell_type": "code",
   "execution_count": null,
   "id": "1f36ebf6",
   "metadata": {},
   "outputs": [],
   "source": [
    "train.shape"
   ]
  },
  {
   "cell_type": "code",
   "execution_count": 4,
   "id": "5b5553c7",
   "metadata": {},
   "outputs": [],
   "source": [
    "# 결측치 확인\n",
    "def check_missing_col(dataframe):\n",
    "    missing_col = []\n",
    "    counted_missing_col = 0\n",
    "    for i, col in enumerate(dataframe.columns):\n",
    "        missing_values = sum(dataframe[col].isna())\n",
    "        is_missing = True if missing_values >= 1 else False\n",
    "        if is_missing:\n",
    "            counted_missing_col += 1\n",
    "            print (f'결측치가 있는 컬럼은: {col}입니다')\n",
    "            print (f'해당 컬럼에 총 {missing_values}개의 결측치가 존재합니다')\n",
    "            missing_col.append([col, dataframe[col].dtype])\n",
    "        if counted_missing_col == 0:\n",
    "            print('결측치가 존재하지 않습니다')\n",
    "        return missing_col"
   ]
  },
  {
   "cell_type": "code",
   "execution_count": 5,
   "id": "68ef4261",
   "metadata": {},
   "outputs": [
    {
     "name": "stdout",
     "output_type": "stream",
     "text": [
      "0 id\n",
      "1 Gender\n",
      "2 Lenght\n",
      "3 Diameter\n",
      "4 Height\n",
      "5 Whole Weight\n",
      "6 Shucked Weight\n",
      "7 Viscra Weight\n",
      "8 Shell Weight\n",
      "9 Target\n"
     ]
    }
   ],
   "source": [
    "for i, col in enumerate(train.columns):\n",
    "    print (i, col)"
   ]
  },
  {
   "cell_type": "code",
   "execution_count": 6,
   "id": "9ab2bcc4",
   "metadata": {},
   "outputs": [
    {
     "data": {
      "text/plain": [
       "0"
      ]
     },
     "execution_count": 6,
     "metadata": {},
     "output_type": "execute_result"
    }
   ],
   "source": [
    "sum(train['id'].isna())"
   ]
  },
  {
   "cell_type": "code",
   "execution_count": 7,
   "id": "a02ded69",
   "metadata": {},
   "outputs": [
    {
     "name": "stdout",
     "output_type": "stream",
     "text": [
      "결측치가 존재하지 않습니다\n"
     ]
    }
   ],
   "source": [
    "missing_col = check_missing_col(train)"
   ]
  },
  {
   "cell_type": "code",
   "execution_count": 8,
   "id": "402513bf",
   "metadata": {},
   "outputs": [
    {
     "data": {
      "text/plain": [
       "id                0\n",
       "Gender            0\n",
       "Lenght            0\n",
       "Diameter          0\n",
       "Height            0\n",
       "Whole Weight      0\n",
       "Shucked Weight    0\n",
       "Viscra Weight     0\n",
       "Shell Weight      0\n",
       "Target            0\n",
       "dtype: int64"
      ]
     },
     "execution_count": 8,
     "metadata": {},
     "output_type": "execute_result"
    }
   ],
   "source": [
    "train.isnull().sum()"
   ]
  },
  {
   "cell_type": "code",
   "execution_count": 9,
   "id": "ca4f150d",
   "metadata": {},
   "outputs": [],
   "source": [
    "# id 제거\n",
    "train = train.drop(columns=['id'],axis=1)"
   ]
  },
  {
   "cell_type": "code",
   "execution_count": 10,
   "id": "1ca5e96e",
   "metadata": {},
   "outputs": [
    {
     "data": {
      "text/plain": [
       "array([ 3,  4,  5,  6,  7,  8,  9, 10, 11, 12, 13, 14, 15, 16, 17, 18, 19,\n",
       "       20, 21, 22, 23, 29])"
      ]
     },
     "execution_count": 10,
     "metadata": {},
     "output_type": "execute_result"
    }
   ],
   "source": [
    "# target 분포 확인\n",
    "temp = train['Target'].unique()\n",
    "np.sort(temp) # 오름차순 정렬"
   ]
  },
  {
   "cell_type": "code",
   "execution_count": null,
   "id": "f1fac387",
   "metadata": {},
   "outputs": [],
   "source": [
    "train.groupby('Target').count().iloc[:,0]"
   ]
  },
  {
   "cell_type": "code",
   "execution_count": null,
   "id": "5922d162",
   "metadata": {},
   "outputs": [],
   "source": [
    "fig, ax = plt.subplots(1, figsize=(25,10))\n",
    "sns.countplot('Target', data=train)\n",
    "plt.title(\"Abalone age by count\", fontsize=30)\n",
    "plt.xlabel(\"target(age)\", fontsize=15)\n",
    "plt.ylabel(\"count\", fontsize=15)\n",
    "save_fig(\"Abalone age by count\")\n",
    "plt.show();"
   ]
  },
  {
   "cell_type": "code",
   "execution_count": null,
   "id": "20805b6f",
   "metadata": {},
   "outputs": [],
   "source": [
    "# 데이터 기초 통계 분석\n",
    "# 카테고리형 데이터\n",
    "# 'Gender' 시각화\n",
    "train['Gender'].unique()"
   ]
  },
  {
   "cell_type": "code",
   "execution_count": null,
   "id": "5ffa9944",
   "metadata": {},
   "outputs": [],
   "source": [
    "train.groupby('Gender').count().iloc[:,0]"
   ]
  },
  {
   "cell_type": "code",
   "execution_count": null,
   "id": "4bfb7b12",
   "metadata": {},
   "outputs": [],
   "source": [
    "plt.figure(figsize=(8,5))\n",
    "sns.countplot('Gender', data=train)\n",
    "plt.title(\"Abalone gender by count\", fontsize=30)\n",
    "save_fig(\"Abalone gender by count\")\n",
    "plt.show();"
   ]
  },
  {
   "cell_type": "code",
   "execution_count": null,
   "id": "85db9b71",
   "metadata": {},
   "outputs": [],
   "source": [
    "# 성별별로 나이의 분포\n",
    "plt.figure(figsize=(25, 7))\n",
    "sns.kdeplot('Target', hue='Gender', data=train)\n",
    "plt.title('Abalone age by gender', fontsize=30)\n",
    "plt.xlabel('target(age)', fontsize=15)\n",
    "plt.ylabel('Density', fontsize=15)\n",
    "save_fig(\"Abalone age by gender\")\n",
    "plt.show()"
   ]
  },
  {
   "cell_type": "code",
   "execution_count": null,
   "id": "df3299ad",
   "metadata": {},
   "outputs": [],
   "source": [
    "# 수치형 데이터 시각화\n",
    "description = train.describe()\n",
    "description"
   ]
  },
  {
   "cell_type": "code",
   "execution_count": null,
   "id": "f93d7c0f",
   "metadata": {},
   "outputs": [],
   "source": [
    "# 수치형 데이터 통계치 그래프\n",
    "interest_coloumns = train.columns[1:]\n",
    "# plt.style.use('fivethirtyeight')\n",
    "fig, ax =plt.subplots(2, 4, figsize = (25, 10))\n",
    "fig.suptitle('Histogram of interesting features', fontsize=40)\n",
    "column_idx = 0\n",
    "for i in range(2):\n",
    "    for j in range(4):\n",
    "        ax[i][j].hist(train[interest_coloumns[column_idx]], bins=30, color='#eaa18a', edgecolor='#7bcabf')\n",
    "        ax[i][j].set_title(interest_coloumns[column_idx])\n",
    "        ax[i][j].axvline(description[interest_coloumns[column_idx]]['mean'], c='#f55354', label = f\"mean = {round(description[interest_coloumns[column_idx]]['mean'], 2)}\")\n",
    "        ax[i][j].axvline(description[interest_coloumns[column_idx]]['50%'], c='#518d7d', label = f\"median = {round(description[interest_coloumns[column_idx]]['50%'], 2)}\")\n",
    "        ax[i][j].legend()\n",
    "        column_idx += 1\n",
    "save_fig(\"Histogram of interesting features\")"
   ]
  },
  {
   "cell_type": "code",
   "execution_count": null,
   "id": "f8b812fa",
   "metadata": {},
   "outputs": [],
   "source": [
    "def visualize(axx, yfield):\n",
    "    sns.regplot(x='Target', y=yfield, data=train,  color='#eaa18a', line_kws=  {'color': '#f55354'} , ax = axx) # regplot을 이용하여 추세선과 산점도 그래프를 그려줍니다.\n",
    "    axx.set_title(yfield)"
   ]
  },
  {
   "cell_type": "code",
   "execution_count": null,
   "id": "b20870d0",
   "metadata": {},
   "outputs": [],
   "source": [
    "figure, ((ax1,ax2,ax3,ax4),(ax5,ax6,ax7,ax8)) = plt.subplots(nrows=2, ncols=4)\n",
    "figure.set_size_inches(20,12)\n",
    "figure.suptitle('Correlation between target and features', fontsize=40)\n",
    "\n",
    "for i in range(len(train.columns[1:-1])):\n",
    "    visualize(eval(f'ax{i+1}'), train.columns[i+1])\n",
    "save_fig(\"Correlation between target and features\")"
   ]
  },
  {
   "cell_type": "code",
   "execution_count": null,
   "id": "50d7b0ac",
   "metadata": {},
   "outputs": [],
   "source": [
    "# 수치형 데이터 상관관계 히트맵\n",
    "train_corr = train.drop(columns=['Gender'], axis=1)\n",
    "corr = train_corr.corr(method='pearson')"
   ]
  },
  {
   "cell_type": "code",
   "execution_count": null,
   "id": "b67b5fd4",
   "metadata": {},
   "outputs": [],
   "source": [
    "plt.figure(figsize=(12, 10))\n",
    "sns.heatmap(data=corr, annot=True, fmt='.2f', linewidths=.5, cmap='Blues')\n",
    "plt.title('Correlation between features', fontsize=30)\n",
    "save_fig('Correlation between features')\n",
    "plt.show()"
   ]
  },
  {
   "cell_type": "code",
   "execution_count": null,
   "id": "dc445e75",
   "metadata": {
    "scrolled": true
   },
   "outputs": [],
   "source": [
    "# target과 피처들의 상관관계\n",
    "unstacked = corr.unstack()\n",
    "unstacked_df = pd.DataFrame(unstacked['Target'].sort_values(ascending=False), columns=['Target'])\n",
    "unstacked_df.style.background_gradient(cmap='viridis')"
   ]
  },
  {
   "cell_type": "code",
   "execution_count": null,
   "id": "ef6abc4e",
   "metadata": {},
   "outputs": [],
   "source": [
    "train"
   ]
  },
  {
   "cell_type": "code",
   "execution_count": null,
   "id": "90093b7e",
   "metadata": {},
   "outputs": [],
   "source": [
    "plt.figure(figsize=(20,10))\n",
    "sns.boxplot(x=train['Target'], y=train['Lenght'], hue=train['Gender'])\n",
    "sns.boxplot(x=train['Target'], y=train['Diameter'], hue=train['Gender'])\n",
    "sns.boxplot(x=train['Target'], y=train['Height'], hue=train['Gender'])\n",
    "sns.boxplot(x=train['Target'], y=train['Whole Weight'], hue=train['Gender'])"
   ]
  },
  {
   "cell_type": "markdown",
   "id": "f80731c9",
   "metadata": {},
   "source": [
    "## Modeling"
   ]
  },
  {
   "cell_type": "code",
   "execution_count": 12,
   "id": "b72489f9",
   "metadata": {},
   "outputs": [],
   "source": [
    "le = LabelEncoder()\n",
    "minmax = MinMaxScaler()"
   ]
  },
  {
   "cell_type": "code",
   "execution_count": 13,
   "id": "6ee5bc8d",
   "metadata": {},
   "outputs": [],
   "source": [
    "# labelencoder \n",
    "result = le.fit_transform(train['Gender'])\n",
    "train_new = train.drop(['Gender', 'Target'], 1)\n",
    "train_new['Gender_encoded'] = result\n",
    "\n",
    "result = le.transform(test['Gender'])\n",
    "test_new = test.drop(['id', 'Gender'], 1)\n",
    "test_new['Gender_encoded'] = result"
   ]
  },
  {
   "cell_type": "code",
   "execution_count": 16,
   "id": "e24d47e7",
   "metadata": {},
   "outputs": [],
   "source": [
    "# minmaxscaler\n",
    "scaled_train_new = minmax.fit_transform(train_new)\n",
    "scaled_test_new = minmax.transform(test_new)"
   ]
  },
  {
   "cell_type": "code",
   "execution_count": 17,
   "id": "4760c80d",
   "metadata": {},
   "outputs": [],
   "source": [
    "#pca\n",
    "from sklearn.decomposition import PCA\n",
    "\n",
    "pca = PCA(n_components=5)\n",
    "train_low = pca.fit_transform(scaled_train_new)\n",
    "test_low = pca.transform(test_new)"
   ]
  },
  {
   "cell_type": "code",
   "execution_count": 18,
   "id": "304d970c",
   "metadata": {},
   "outputs": [],
   "source": [
    "X = train_low\n",
    "y = train['Target']\n",
    "\n",
    "X_train_full, X_test, y_train_full, y_test = train_test_split(X, y, random_state=42)\n",
    "X_train, X_valid, y_train, y_valid = train_test_split(X_train_full, y_train_full, random_state=42)"
   ]
  },
  {
   "cell_type": "code",
   "execution_count": 19,
   "id": "16d1225e",
   "metadata": {
    "collapsed": true
   },
   "outputs": [
    {
     "name": "stdout",
     "output_type": "stream",
     "text": [
      "Epoch 1/20\n",
      "22/22 [==============================] - 0s 4ms/step - loss: 102.6366 - val_loss: 92.4159\n",
      "Epoch 2/20\n",
      "22/22 [==============================] - 0s 958us/step - loss: 87.4436 - val_loss: 76.3967\n",
      "Epoch 3/20\n",
      "22/22 [==============================] - 0s 1ms/step - loss: 74.5189 - val_loss: 56.6870\n",
      "Epoch 4/20\n",
      "22/22 [==============================] - 0s 1ms/step - loss: 53.6235 - val_loss: 36.3995\n",
      "Epoch 5/20\n",
      "22/22 [==============================] - 0s 961us/step - loss: 33.2510 - val_loss: 20.8646\n",
      "Epoch 6/20\n",
      "22/22 [==============================] - 0s 912us/step - loss: 19.7874 - val_loss: 12.6828\n",
      "Epoch 7/20\n",
      "22/22 [==============================] - 0s 949us/step - loss: 12.8703 - val_loss: 9.5220\n",
      "Epoch 8/20\n",
      "22/22 [==============================] - 0s 934us/step - loss: 9.5284 - val_loss: 8.4699\n",
      "Epoch 9/20\n",
      "22/22 [==============================] - 0s 958us/step - loss: 9.3770 - val_loss: 8.0917\n",
      "Epoch 10/20\n",
      "22/22 [==============================] - 0s 895us/step - loss: 8.7185 - val_loss: 7.9020\n",
      "Epoch 11/20\n",
      "22/22 [==============================] - 0s 975us/step - loss: 7.4090 - val_loss: 7.7603\n",
      "Epoch 12/20\n",
      "22/22 [==============================] - 0s 933us/step - loss: 7.6691 - val_loss: 7.6470\n",
      "Epoch 13/20\n",
      "22/22 [==============================] - 0s 947us/step - loss: 7.3386 - val_loss: 7.5523\n",
      "Epoch 14/20\n",
      "22/22 [==============================] - 0s 889us/step - loss: 7.9569 - val_loss: 7.4724\n",
      "Epoch 15/20\n",
      "22/22 [==============================] - 0s 921us/step - loss: 6.8955 - val_loss: 7.4060\n",
      "Epoch 16/20\n",
      "22/22 [==============================] - 0s 906us/step - loss: 6.6093 - val_loss: 7.3476\n",
      "Epoch 17/20\n",
      "22/22 [==============================] - 0s 961us/step - loss: 6.7920 - val_loss: 7.2991\n",
      "Epoch 18/20\n",
      "22/22 [==============================] - 0s 922us/step - loss: 6.7097 - val_loss: 7.2575\n",
      "Epoch 19/20\n",
      "22/22 [==============================] - 0s 921us/step - loss: 6.8486 - val_loss: 7.2230\n",
      "Epoch 20/20\n",
      "22/22 [==============================] - 0s 915us/step - loss: 8.3428 - val_loss: 7.1918\n",
      "10/10 [==============================] - 0s 297us/step - loss: 6.2290\n"
     ]
    },
    {
     "data": {
      "text/plain": [
       "6.228969097137451"
      ]
     },
     "execution_count": 19,
     "metadata": {},
     "output_type": "execute_result"
    }
   ],
   "source": [
    "# model 생성\n",
    "model = keras.models.Sequential([\n",
    "    keras.layers.Dense(30, activation=\"relu\", input_shape=X_train.shape[1:]),\n",
    "    keras.layers.Dense(1)\n",
    "])\n",
    "\n",
    "model.compile(loss=\"mse\", optimizer=keras.optimizers.SGD(learning_rate=1e-3))\n",
    "history = model.fit(X_train, y_train, epochs=20, validation_data=(X_valid, y_valid))\n",
    "mse_test = model.evaluate(X_test, y_test)\n",
    "mse_test"
   ]
  },
  {
   "cell_type": "code",
   "execution_count": null,
   "id": "360f73ca",
   "metadata": {},
   "outputs": [],
   "source": [
    "y_pred = model.predict(test_new).flatten()"
   ]
  },
  {
   "cell_type": "code",
   "execution_count": null,
   "id": "daaa4770",
   "metadata": {},
   "outputs": [],
   "source": [
    "submission['Target'] = np.around(y_pred)\n",
    "submission['Target'] = submission['Target'].astype('int')\n",
    "submission.to_csv('data/submission.csv', index=False)"
   ]
  },
  {
   "cell_type": "code",
   "execution_count": 20,
   "id": "d673533d",
   "metadata": {
    "collapsed": true
   },
   "outputs": [
    {
     "name": "stdout",
     "output_type": "stream",
     "text": [
      "Epoch 1/50\n",
      "22/22 [==============================] - 0s 2ms/step - loss: 7.0243 - val_loss: 7.1665\n",
      "Epoch 2/50\n",
      "22/22 [==============================] - 0s 1ms/step - loss: 6.9804 - val_loss: 7.1449\n",
      "Epoch 3/50\n",
      "22/22 [==============================] - 0s 973us/step - loss: 6.9455 - val_loss: 7.1265\n",
      "Epoch 4/50\n",
      "22/22 [==============================] - 0s 885us/step - loss: 6.9197 - val_loss: 7.1102\n",
      "Epoch 5/50\n",
      "22/22 [==============================] - 0s 918us/step - loss: 6.8989 - val_loss: 7.0962\n",
      "Epoch 6/50\n",
      "22/22 [==============================] - 0s 893us/step - loss: 6.8742 - val_loss: 7.0843\n",
      "Epoch 7/50\n",
      "22/22 [==============================] - 0s 925us/step - loss: 6.8560 - val_loss: 7.0734\n",
      "Epoch 8/50\n",
      "22/22 [==============================] - 0s 912us/step - loss: 6.8373 - val_loss: 7.0639\n",
      "Epoch 9/50\n",
      "22/22 [==============================] - 0s 885us/step - loss: 6.8219 - val_loss: 7.0557\n",
      "Epoch 10/50\n",
      "22/22 [==============================] - 0s 921us/step - loss: 6.8081 - val_loss: 7.0478\n",
      "Epoch 11/50\n",
      "22/22 [==============================] - 0s 887us/step - loss: 6.7933 - val_loss: 7.0393\n",
      "Epoch 12/50\n",
      "22/22 [==============================] - 0s 920us/step - loss: 6.7841 - val_loss: 7.0322\n",
      "Epoch 13/50\n",
      "22/22 [==============================] - 0s 932us/step - loss: 6.7716 - val_loss: 7.0257\n",
      "Epoch 14/50\n",
      "22/22 [==============================] - 0s 902us/step - loss: 6.7572 - val_loss: 7.0203\n",
      "Epoch 15/50\n",
      "22/22 [==============================] - 0s 885us/step - loss: 6.7487 - val_loss: 7.0153\n",
      "Epoch 16/50\n",
      "22/22 [==============================] - 0s 856us/step - loss: 6.7410 - val_loss: 7.0084\n",
      "Epoch 17/50\n",
      "22/22 [==============================] - 0s 896us/step - loss: 6.7301 - val_loss: 7.0032\n",
      "Epoch 18/50\n",
      "22/22 [==============================] - 0s 939us/step - loss: 6.7241 - val_loss: 6.9985\n",
      "Epoch 19/50\n",
      "22/22 [==============================] - 0s 871us/step - loss: 6.7151 - val_loss: 6.9942\n",
      "Epoch 20/50\n",
      "22/22 [==============================] - 0s 890us/step - loss: 6.7081 - val_loss: 6.9890\n",
      "Epoch 21/50\n",
      "22/22 [==============================] - 0s 926us/step - loss: 6.6986 - val_loss: 6.9840\n",
      "Epoch 22/50\n",
      "22/22 [==============================] - 0s 892us/step - loss: 6.6950 - val_loss: 6.9781\n",
      "Epoch 23/50\n",
      "22/22 [==============================] - 0s 938us/step - loss: 6.6870 - val_loss: 6.9733\n",
      "Epoch 24/50\n",
      "22/22 [==============================] - 0s 887us/step - loss: 6.6771 - val_loss: 6.9678\n",
      "Epoch 25/50\n",
      "22/22 [==============================] - 0s 883us/step - loss: 6.6698 - val_loss: 6.9626\n",
      "Epoch 26/50\n",
      "22/22 [==============================] - 0s 1ms/step - loss: 6.6617 - val_loss: 6.9576\n",
      "Epoch 27/50\n",
      "22/22 [==============================] - 0s 975us/step - loss: 6.6572 - val_loss: 6.9528\n",
      "Epoch 28/50\n",
      "22/22 [==============================] - 0s 894us/step - loss: 6.6488 - val_loss: 6.9485\n",
      "Epoch 29/50\n",
      "22/22 [==============================] - 0s 937us/step - loss: 6.6408 - val_loss: 6.9436\n",
      "Epoch 30/50\n",
      "22/22 [==============================] - 0s 1ms/step - loss: 6.6373 - val_loss: 6.9387\n",
      "Epoch 31/50\n",
      "22/22 [==============================] - 0s 934us/step - loss: 6.6286 - val_loss: 6.9327\n",
      "Epoch 32/50\n",
      "22/22 [==============================] - 0s 933us/step - loss: 6.6230 - val_loss: 6.9279\n",
      "Epoch 33/50\n",
      "22/22 [==============================] - 0s 952us/step - loss: 6.6190 - val_loss: 6.9228\n",
      "Epoch 34/50\n",
      "22/22 [==============================] - 0s 915us/step - loss: 6.6173 - val_loss: 6.9177\n",
      "Epoch 35/50\n",
      "22/22 [==============================] - 0s 957us/step - loss: 6.6021 - val_loss: 6.9127\n",
      "Epoch 36/50\n",
      "22/22 [==============================] - 0s 907us/step - loss: 6.5971 - val_loss: 6.9079\n",
      "Epoch 37/50\n",
      "22/22 [==============================] - 0s 965us/step - loss: 6.5915 - val_loss: 6.9030\n",
      "Epoch 38/50\n",
      "22/22 [==============================] - 0s 902us/step - loss: 6.5831 - val_loss: 6.8980\n",
      "Epoch 39/50\n",
      "22/22 [==============================] - 0s 906us/step - loss: 6.5828 - val_loss: 6.8931\n",
      "Epoch 40/50\n",
      "22/22 [==============================] - 0s 899us/step - loss: 6.5718 - val_loss: 6.8883\n",
      "Epoch 41/50\n",
      "22/22 [==============================] - 0s 884us/step - loss: 6.5653 - val_loss: 6.8836\n",
      "Epoch 42/50\n",
      "22/22 [==============================] - 0s 908us/step - loss: 6.5609 - val_loss: 6.8787\n",
      "Epoch 43/50\n",
      "22/22 [==============================] - 0s 909us/step - loss: 6.5534 - val_loss: 6.8759\n",
      "Epoch 44/50\n",
      "22/22 [==============================] - 0s 896us/step - loss: 6.5470 - val_loss: 6.8696\n",
      "Epoch 45/50\n",
      "22/22 [==============================] - 0s 916us/step - loss: 6.5455 - val_loss: 6.8652\n",
      "Epoch 46/50\n",
      "22/22 [==============================] - 0s 881us/step - loss: 6.5354 - val_loss: 6.8610\n",
      "Epoch 47/50\n",
      "22/22 [==============================] - 0s 1ms/step - loss: 6.5268 - val_loss: 6.8546\n",
      "Epoch 48/50\n",
      "22/22 [==============================] - 0s 873us/step - loss: 6.5217 - val_loss: 6.8498\n",
      "Epoch 49/50\n",
      "22/22 [==============================] - 0s 924us/step - loss: 6.5145 - val_loss: 6.8446\n",
      "Epoch 50/50\n",
      "22/22 [==============================] - 0s 893us/step - loss: 6.5127 - val_loss: 6.8399\n",
      "10/10 [==============================] - 0s 293us/step - loss: 5.7885\n"
     ]
    },
    {
     "data": {
      "text/plain": [
       "5.788545608520508"
      ]
     },
     "execution_count": 20,
     "metadata": {},
     "output_type": "execute_result"
    }
   ],
   "source": [
    "# model 생성\n",
    "model2 = keras.models.Sequential([\n",
    "    keras.layers.Dense(60, activation=\"relu\", input_shape=X_train.shape[1:]),\n",
    "    keras.layers.Dense(1)\n",
    "])\n",
    "\n",
    "model2.compile(loss=\"mse\", optimizer=keras.optimizers.SGD(learning_rate=1e-3))\n",
    "history = model.fit(X_train, y_train, epochs=50, validation_data=(X_valid, y_valid))\n",
    "mse_test = model.evaluate(X_test, y_test)\n",
    "mse_test"
   ]
  },
  {
   "cell_type": "code",
   "execution_count": 22,
   "id": "dcf9fbbc",
   "metadata": {},
   "outputs": [],
   "source": [
    "y_pred = model.predict(test_low).flatten()"
   ]
  },
  {
   "cell_type": "code",
   "execution_count": 23,
   "id": "74ee1b92",
   "metadata": {},
   "outputs": [],
   "source": [
    "submission['Target'] = np.around(y_pred)\n",
    "submission['Target'] = submission['Target'].astype('int')\n",
    "submission.to_csv('data/submission.csv', index=False)"
   ]
  },
  {
   "cell_type": "code",
   "execution_count": null,
   "id": "1461c985",
   "metadata": {},
   "outputs": [],
   "source": []
  },
  {
   "cell_type": "code",
   "execution_count": null,
   "id": "30ef35a8",
   "metadata": {},
   "outputs": [],
   "source": [
    "# 단위가 다르기 때문에 스케일링 진행 -> minmaxscaler\n",
    "# 우선 모델링한 다음에 ols 진행\n",
    "# 그 다음에 피처 엔지니어링 \n",
    "# polynomial\n",
    "# pca "
   ]
  },
  {
   "cell_type": "code",
   "execution_count": null,
   "id": "0adec26e",
   "metadata": {},
   "outputs": [],
   "source": [
    "# 다중공산성"
   ]
  },
  {
   "cell_type": "code",
   "execution_count": null,
   "id": "98055096",
   "metadata": {},
   "outputs": [],
   "source": [
    "train_new2 = train.drop(['Target'], 1)\n",
    "train_new2 = pd.get_dummies(train_new2)"
   ]
  },
  {
   "cell_type": "code",
   "execution_count": null,
   "id": "b2b67187",
   "metadata": {},
   "outputs": [],
   "source": [
    "test_new2 = test.drop(['id'], 1)\n",
    "test_new2 = pd.get_dummies(test_new2)"
   ]
  },
  {
   "cell_type": "code",
   "execution_count": null,
   "id": "6f6f6d1d",
   "metadata": {},
   "outputs": [],
   "source": [
    "X = train_new2\n",
    "y = train['Target']\n",
    "\n",
    "X_train_full, X_test, y_train_full, y_test = train_test_split(X, y, random_state=42)\n",
    "X_train, X_valid, y_train, y_valid = train_test_split(X_train_full, y_train_full, random_state=42)\n",
    "\n",
    "X_train = minmax.fit_transform(X_train)\n",
    "X_valid = minmax.transform(X_valid)\n",
    "X_test = minmax.transform(X_test)"
   ]
  },
  {
   "cell_type": "code",
   "execution_count": null,
   "id": "8fc530d2",
   "metadata": {},
   "outputs": [],
   "source": [
    "test_new2 = minmax.transform(test_new2)"
   ]
  },
  {
   "cell_type": "code",
   "execution_count": null,
   "id": "c85560a0",
   "metadata": {},
   "outputs": [],
   "source": [
    "# model 생성\n",
    "model = keras.models.Sequential([\n",
    "    keras.layers.Dense(60, activation=\"relu\", input_shape=X_train.shape[1:]),\n",
    "    keras.layers.Dense(1)\n",
    "])\n",
    "\n",
    "model.compile(loss=\"mse\", optimizer=keras.optimizers.SGD(learning_rate=1e-3))\n",
    "history = model.fit(X_train, y_train, epochs=50, validation_data=(X_valid, y_valid))\n",
    "mse_test = model.evaluate(X_test, y_test)\n",
    "mse_test"
   ]
  },
  {
   "cell_type": "code",
   "execution_count": null,
   "id": "554c372a",
   "metadata": {},
   "outputs": [],
   "source": [
    "y_pred = model.predict(test_new2).flatten()"
   ]
  },
  {
   "cell_type": "code",
   "execution_count": null,
   "id": "a642f8c4",
   "metadata": {},
   "outputs": [],
   "source": [
    "submission['Target'] = np.around(y_pred)\n",
    "submission['Target'] = submission['Target'].astype('int')\n",
    "submission.to_csv('data/submission.csv', index=False)"
   ]
  },
  {
   "cell_type": "code",
   "execution_count": 37,
   "id": "93054926",
   "metadata": {
    "collapsed": true
   },
   "outputs": [
    {
     "data": {
      "text/plain": [
       "array([[-0.00704495,  0.49520471,  0.08459276,  0.13697928,  0.11770083],\n",
       "       [-0.36364383, -0.18299772,  0.02321022,  0.04361766,  0.01045075],\n",
       "       [ 0.3816532 ,  0.11420539, -0.03903539, -0.12084713, -0.00453558],\n",
       "       ...,\n",
       "       [ 0.13958769, -0.52059854,  0.06020322,  0.10127533, -0.01677944],\n",
       "       [-0.10071185, -0.61635199,  0.00563003,  0.01808009, -0.01782461],\n",
       "       [ 0.89627853, -0.21869038,  0.08302134,  0.0324764 , -0.04448994]])"
      ]
     },
     "execution_count": 37,
     "metadata": {},
     "output_type": "execute_result"
    }
   ],
   "source": [
    "t"
   ]
  }
 ],
 "metadata": {
  "kernelspec": {
   "display_name": "Python 3",
   "language": "python",
   "name": "python3"
  },
  "language_info": {
   "codemirror_mode": {
    "name": "ipython",
    "version": 3
   },
   "file_extension": ".py",
   "mimetype": "text/x-python",
   "name": "python",
   "nbconvert_exporter": "python",
   "pygments_lexer": "ipython3",
   "version": "3.8.6"
  }
 },
 "nbformat": 4,
 "nbformat_minor": 5
}
