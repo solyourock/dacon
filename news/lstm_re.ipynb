{
  "cells": [
    {
      "cell_type": "code",
      "execution_count": null,
      "metadata": {
        "id": "SxeZJLPHBhzG"
      },
      "outputs": [],
      "source": [
        "import pandas as pd\n",
        "import numpy as np\n",
        "import re\n",
        "\n",
        "import seaborn as sns\n",
        "import matplotlib.pyplot as plt\n",
        "\n",
        "from sklearn.metrics import accuracy_score, log_loss\n",
        "from sklearn.model_selection import StratifiedKFold\n",
        "\n",
        "import tensorflow as tf\n",
        "from tensorflow.keras import Sequential\n",
        "from tensorflow.keras.layers import Dense, Embedding, LSTM, Dropout, Bidirectional\n",
        "from tensorflow.keras.preprocessing.sequence import pad_sequences\n",
        "from tensorflow.keras.preprocessing.text import Tokenizer\n",
        "from tensorflow.keras.callbacks import EarlyStopping, ReduceLROnPlateau\n",
        "from tensorflow.keras.utils import plot_model, to_categorical\n",
        "from tensorflow.keras.optimizers import Adam\n",
        "\n",
        "from keras.utils import np_utils\n",
        "from keras.preprocessing.text import Tokenizer\n",
        "\n",
        "import warnings \n",
        "warnings.filterwarnings(action='ignore')"
      ]
    },
    {
      "cell_type": "code",
      "execution_count": null,
      "metadata": {
        "colab": {
          "base_uri": "https://localhost:8080/"
        },
        "id": "_oNPEbkhCkE1",
        "outputId": "ba615226-6c59-4aea-f85f-e9881fcce024"
      },
      "outputs": [
        {
          "name": "stdout",
          "output_type": "stream",
          "text": [
            "[nltk_data] Downloading package punkt to /root/nltk_data...\n",
            "[nltk_data]   Package punkt is already up-to-date!\n",
            "[nltk_data] Downloading package averaged_perceptron_tagger to\n",
            "[nltk_data]     /root/nltk_data...\n",
            "[nltk_data]   Package averaged_perceptron_tagger is already up-to-\n",
            "[nltk_data]       date!\n",
            "[nltk_data] Downloading package stopwords to /root/nltk_data...\n",
            "[nltk_data]   Package stopwords is already up-to-date!\n",
            "[nltk_data] Downloading package wordnet to /root/nltk_data...\n",
            "[nltk_data]   Package wordnet is already up-to-date!\n"
          ]
        }
      ],
      "source": [
        "import nltk\n",
        "from nltk.corpus import stopwords\n",
        "nltk.download('punkt')\n",
        "nltk.download('averaged_perceptron_tagger')\n",
        "nltk.download('stopwords')\n",
        "nltk.download('wordnet')\n",
        "stopwords_list = stopwords.words('english')"
      ]
    },
    {
      "cell_type": "code",
      "execution_count": null,
      "metadata": {
        "id": "nfuIl9kbBjls"
      },
      "outputs": [],
      "source": [
        "train = pd.read_csv('train.csv')\n",
        "test = pd.read_csv('test.csv')"
      ]
    },
    {
      "cell_type": "code",
      "execution_count": null,
      "metadata": {
        "id": "HHdcfVCXBsH3"
      },
      "outputs": [],
      "source": [
        "def check_missing_col(df):\n",
        "    missing_col = []\n",
        "    for col in df.columns:\n",
        "        missing_values = sum(df[col].isna())\n",
        "        is_missing = True if missing_values >= 1 else False\n",
        "        if is_missing:\n",
        "            print(f'결측치가 있는 컬럼은: {col}입니다')\n",
        "            print(f'해당 컬럼에 총 {missing_values}개의 결측치가 존재합니다')\n",
        "            missing_col.append([col, df[col].dtype])\n",
        "        if missing_col == []:\n",
        "            print('결측치가 존재하지 않습니다')\n",
        "        return missing_col"
      ]
    },
    {
      "cell_type": "code",
      "execution_count": null,
      "metadata": {
        "id": "YBBpSb07Bucv"
      },
      "outputs": [],
      "source": [
        "def clean_text(texts):\n",
        "    corpus = []\n",
        "    for i in range(len(texts)):\n",
        "        review = re.sub(r'[@%\\\\*=()/~#&\\+á?\\xc3\\xa1\\-\\|\\.\\:\\;\\!\\-\\,\\_\\~\\$\\'\\\"\\n\\]\\[\\>]', '',texts[i]) #@%*=()/+ 와 같은 문장부호 제거\n",
        "        review = re.sub(r'\\d+','', review)#숫자 제거\n",
        "        review = review.lower() #소문자 변환\n",
        "        review = re.sub(r'\\s+', ' ', review) #extra space 제거\n",
        "        review = re.sub(r'<[^>]+>','',review) #Html tags 제거\n",
        "        review = re.sub(r'\\s+', ' ', review) #spaces 제거\n",
        "        review = re.sub(r\"^\\s+\", '', review) #space from start 제거\n",
        "        review = re.sub(r'\\s+$', '', review) #space from the end 제거\n",
        "        review = re.sub(r'_', ' ', review) #space from the end 제거\n",
        "        corpus.append(review) \n",
        "    return corpus"
      ]
    },
    {
      "cell_type": "code",
      "execution_count": null,
      "metadata": {
        "id": "5niSuFERGVRr"
      },
      "outputs": [],
      "source": [
        "stopwords_list = stopwords.words('english')\n",
        "wlem = nltk.WordNetLemmatizer()"
      ]
    },
    {
      "cell_type": "code",
      "execution_count": null,
      "metadata": {
        "id": "RYEPSN7YCFtz"
      },
      "outputs": [],
      "source": [
        "train['text'] = clean_text(train['text'])\n",
        "test['text'] = clean_text(test['text'])"
      ]
    },
    {
      "cell_type": "code",
      "execution_count": null,
      "metadata": {
        "id": "h0Y-NKGHEmdO"
      },
      "outputs": [],
      "source": [
        "train['tokenized'] = train['text'].apply(nltk.word_tokenize)\n",
        "train['tokenized'] = train['tokenized'].apply(lambda x: [item for item in x if item not in stopwords_list])"
      ]
    },
    {
      "cell_type": "code",
      "execution_count": null,
      "metadata": {
        "id": "5hrtyYSqF5kZ"
      },
      "outputs": [],
      "source": [
        "test['tokenized'] = test['text'].apply(nltk.word_tokenize)\n",
        "test['tokenized'] = test['tokenized'].apply(lambda x: [item for item in x if item not in stopwords_list])"
      ]
    },
    {
      "cell_type": "code",
      "execution_count": null,
      "metadata": {
        "colab": {
          "base_uri": "https://localhost:8080/"
        },
        "id": "AmvyjLPCKCDJ",
        "outputId": "1c06a9b8-aaa0-43b4-c32e-308f533d410a"
      },
      "outputs": [
        {
          "name": "stdout",
          "output_type": "stream",
          "text": [
            "훈련용 리뷰의 개수 :  6924\n",
            "테스트용 리뷰의 개수 :  2309\n"
          ]
        }
      ],
      "source": [
        "# from sklearn.model_selection import train_test_split\n",
        "# train_data, test_data = train_test_split(train, test_size=0.25, random_state=42)\n",
        "# print(\"훈련용 리뷰의 개수 : \", len(train_data))\n",
        "# print(\"테스트용 리뷰의 개수 : \", len(test_data))"
      ]
    },
    {
      "cell_type": "code",
      "execution_count": null,
      "metadata": {
        "id": "RipUBYQlGeoS"
      },
      "outputs": [],
      "source": [
        "X_train = train['tokenized'].values\n",
        "y_train = train['target'].values\n",
        "X_test = test['tokenized'].values"
      ]
    },
    {
      "cell_type": "code",
      "execution_count": null,
      "metadata": {
        "id": "cphpJ8xrCv9I"
      },
      "outputs": [],
      "source": [
        "tokenizer = Tokenizer()\n",
        "tokenizer.fit_on_texts(X_train)"
      ]
    },
    {
      "cell_type": "code",
      "execution_count": null,
      "metadata": {
        "colab": {
          "base_uri": "https://localhost:8080/"
        },
        "id": "Q_oucEKwKQ0v",
        "outputId": "88c442d8-4cc7-4ae6-8667-137e9728accd"
      },
      "outputs": [
        {
          "output_type": "stream",
          "name": "stdout",
          "text": [
            "단어 집합(vocabulary)의 크키 :  139348\n",
            "등장 빈도가 1번 이하인 희귀 단어의 수: 99116\n",
            "단어 집합에서 희귀 단어의 비율:  71.12839796767804\n",
            "전체 등장 빈도에서 희귀 단어 등장 빈도 비율:  11.066722344917835\n"
          ]
        }
      ],
      "source": [
        "threshold = 2\n",
        "total_cnt = len(tokenizer.word_index)\n",
        "rare_cnt = 0\n",
        "total_freq = 0\n",
        "rare_freq = 0\n",
        "\n",
        "for key, value in tokenizer.word_counts.items():\n",
        "  total_freq = total_freq + value\n",
        "\n",
        "  if (value < threshold):\n",
        "    rare_cnt = rare_cnt + 1\n",
        "    rare_freq = rare_freq + value\n",
        "\n",
        "print(\"단어 집합(vocabulary)의 크키 : \", total_cnt)\n",
        "print(\"등장 빈도가 %s번 이하인 희귀 단어의 수: %s\"%(threshold - 1, rare_cnt))\n",
        "print(\"단어 집합에서 희귀 단어의 비율: \", (rare_cnt / total_cnt)*100)\n",
        "print(\"전체 등장 빈도에서 희귀 단어 등장 빈도 비율: \", (rare_freq / total_freq)*100)"
      ]
    },
    {
      "cell_type": "code",
      "execution_count": null,
      "metadata": {
        "colab": {
          "base_uri": "https://localhost:8080/"
        },
        "id": "D3nz5tgtKSCU",
        "outputId": "bbb1e891-8a76-4b52-fe80-266e5a2f5e0f"
      },
      "outputs": [
        {
          "output_type": "stream",
          "name": "stdout",
          "text": [
            "단어 집합의 크기 :  40234\n"
          ]
        }
      ],
      "source": [
        "vocab_size = total_cnt - rare_cnt + 2\n",
        "print('단어 집합의 크기 : ', vocab_size)"
      ]
    },
    {
      "cell_type": "code",
      "execution_count": null,
      "metadata": {
        "id": "PtgHKr4NKbFL"
      },
      "outputs": [],
      "source": [
        "tokenizer = Tokenizer(vocab_size, oov_token='OOV')\n",
        "tokenizer.fit_on_texts(X_train)"
      ]
    },
    {
      "cell_type": "code",
      "execution_count": null,
      "metadata": {
        "id": "e54REqGSLBW5"
      },
      "outputs": [],
      "source": [
        "X_train = tokenizer.texts_to_sequences(X_train)\n",
        "X_test = tokenizer.texts_to_sequences(X_test)"
      ]
    },
    {
      "cell_type": "code",
      "execution_count": null,
      "metadata": {
        "colab": {
          "base_uri": "https://localhost:8080/",
          "height": 316
        },
        "id": "RbSrDd_dLC3m",
        "outputId": "56d6ce8c-e516-43fd-966d-d6cf4daaa9fc"
      },
      "outputs": [
        {
          "output_type": "stream",
          "name": "stdout",
          "text": [
            "리뷰의 최대 길이 : 7025\n",
            "리뷰의 평균 길이 : 97.00227445034116\n"
          ]
        },
        {
          "output_type": "display_data",
          "data": {
            "text/plain": [
              "<Figure size 432x288 with 1 Axes>"
            ],
            "image/png": "[encoded data removed]"
          },
          "metadata": {
            "needs_background": "light"
          }
        }
      ],
      "source": [
        "# 패딩\n",
        "print('리뷰의 최대 길이 :', max(len(words) for words in X_train))\n",
        "print('리뷰의 평균 길이 :', sum(map(len, X_train))/len(X_train))\n",
        "plt.hist([len(review) for review in X_train], bins=50)\n",
        "plt.xlabel('length of samples')\n",
        "plt.ylabel('number if samples')\n",
        "plt.show()"
      ]
    },
    {
      "cell_type": "code",
      "execution_count": null,
      "metadata": {
        "id": "BJP2j1gvMx_C"
      },
      "outputs": [],
      "source": [
        "def below_threshold_len(max_len, nested_list):\n",
        "  count = 0\n",
        "  for sentence in nested_list:\n",
        "    if(len(sentence) <= max_len):\n",
        "      count = count + 1\n",
        "  print('전체 샘플 중 길이가 %s 이하인 샘플의 비율: %s'%(max_len, (count / len(nested_list))*100))"
      ]
    },
    {
      "cell_type": "code",
      "execution_count": null,
      "metadata": {
        "colab": {
          "base_uri": "https://localhost:8080/"
        },
        "id": "iGSQL26wM1AC",
        "outputId": "459f6caf-3c0d-4f74-c7d3-7bd2930d36d1"
      },
      "outputs": [
        {
          "output_type": "stream",
          "name": "stdout",
          "text": [
            "전체 샘플 중 길이가 1000 이하인 샘플의 비율: 99.01440485216074\n"
          ]
        }
      ],
      "source": [
        "max_len = 1000\n",
        "below_threshold_len(max_len, X_train)"
      ]
    },
    {
      "cell_type": "code",
      "execution_count": null,
      "metadata": {
        "id": "L3GpFKXPM_yQ"
      },
      "outputs": [],
      "source": [
        "X_train = pad_sequences(X_train, maxlen=max_len)\n",
        "X_test = pad_sequences(X_test, maxlen=max_len)"
      ]
    },
    {
      "cell_type": "code",
      "execution_count": null,
      "metadata": {
        "id": "sJrC4B_yNkaC"
      },
      "outputs": [],
      "source": [
        "onehot_Y_train = np_utils.to_categorical(y_train)"
      ]
    },
    {
      "cell_type": "code",
      "execution_count": null,
      "metadata": {
        "id": "CJ-z2yniNkRp"
      },
      "outputs": [],
      "source": [
        "# vocab_size = 2000\n",
        "embedding_dim = 100\n",
        "# max_length = 1000\n",
        "# padding_type='post'"
      ]
    },
    {
      "cell_type": "code",
      "execution_count": null,
      "metadata": {
        "colab": {
          "base_uri": "https://localhost:8080/"
        },
        "id": "4bMUXKRWNCCr",
        "outputId": "1cc543ce-4182-4613-c028-ceb48cecbd61"
      },
      "outputs": [
        {
          "output_type": "stream",
          "name": "stdout",
          "text": [
            "Model: \"sequential_2\"\n",
            "_________________________________________________________________\n",
            " Layer (type)                Output Shape              Param #   \n",
            "=================================================================\n",
            " embedding_2 (Embedding)     (None, 1000, 100)         4023400   \n",
            "                                                                 \n",
            " bidirectional_6 (Bidirectio  (None, 1000, 128)        84480     \n",
            " nal)                                                            \n",
            "                                                                 \n",
            " bidirectional_7 (Bidirectio  (None, 1000, 128)        98816     \n",
            " nal)                                                            \n",
            "                                                                 \n",
            " bidirectional_8 (Bidirectio  (None, 128)              98816     \n",
            " nal)                                                            \n",
            "                                                                 \n",
            " dense_2 (Dense)             (None, 20)                2580      \n",
            "                                                                 \n",
            "=================================================================\n",
            "Total params: 4,308,092\n",
            "Trainable params: 4,308,092\n",
            "Non-trainable params: 0\n",
            "_________________________________________________________________\n"
          ]
        }
      ],
      "source": [
        "model = Sequential([Embedding(vocab_size, embedding_dim, input_length=max_len),\n",
        "                     tf.keras.layers.Bidirectional(LSTM(units=64, return_sequences=True)),\n",
        "                     tf.keras.layers.Bidirectional(LSTM(units=64, return_sequences=True)),\n",
        "                     tf.keras.layers.Bidirectional(LSTM(units=64)),\n",
        "                     Dense(20, activation='softmax')]) # 결과값이 0~19 이므로 Dense(20)\n",
        "model.compile(loss='categorical_crossentropy',\n",
        "               optimizer='adam',\n",
        "               metrics=['accuracy'])\n",
        "model.summary()"
      ]
    },
    {
      "cell_type": "code",
      "execution_count": null,
      "metadata": {
        "colab": {
          "base_uri": "https://localhost:8080/"
        },
        "id": "fMFXvBHtOpNW",
        "outputId": "59e55265-b646-4bc5-d743-5bf78b5eac95"
      },
      "outputs": [
        {
          "output_type": "stream",
          "name": "stdout",
          "text": [
            "Epoch 1/50\n",
            "74/74 [==============================] - 32s 325ms/step - loss: 2.8004 - accuracy: 0.0960 - val_loss: 2.4945 - val_accuracy: 0.1684\n",
            "Epoch 2/50\n",
            "74/74 [==============================] - 22s 298ms/step - loss: 2.1842 - accuracy: 0.2465 - val_loss: 2.2054 - val_accuracy: 0.2512\n",
            "Epoch 3/50\n",
            "74/74 [==============================] - 22s 300ms/step - loss: 1.7299 - accuracy: 0.3855 - val_loss: 2.0633 - val_accuracy: 0.3021\n",
            "Epoch 4/50\n",
            "74/74 [==============================] - 22s 299ms/step - loss: 1.3869 - accuracy: 0.5081 - val_loss: 2.0395 - val_accuracy: 0.3492\n",
            "Epoch 5/50\n",
            "74/74 [==============================] - 22s 301ms/step - loss: 1.1212 - accuracy: 0.6064 - val_loss: 2.0538 - val_accuracy: 0.3671\n",
            "Epoch 6/50\n",
            "74/74 [==============================] - 22s 301ms/step - loss: 0.9530 - accuracy: 0.6787 - val_loss: 2.0860 - val_accuracy: 0.3828\n",
            "Epoch 7/50\n",
            "74/74 [==============================] - 22s 304ms/step - loss: 0.7872 - accuracy: 0.7285 - val_loss: 2.1324 - val_accuracy: 0.3898\n",
            "Epoch 8/50\n",
            "74/74 [==============================] - 22s 303ms/step - loss: 0.6446 - accuracy: 0.7897 - val_loss: 2.2097 - val_accuracy: 0.4099\n",
            "Epoch 9/50\n",
            "74/74 [==============================] - 22s 304ms/step - loss: 0.4798 - accuracy: 0.8473 - val_loss: 2.2742 - val_accuracy: 0.4321\n",
            "Epoch 10/50\n",
            "74/74 [==============================] - 22s 303ms/step - loss: 0.3874 - accuracy: 0.8863 - val_loss: 2.3787 - val_accuracy: 0.4245\n",
            "Epoch 11/50\n",
            "74/74 [==============================] - 22s 304ms/step - loss: 0.3347 - accuracy: 0.9008 - val_loss: 2.6081 - val_accuracy: 0.4039\n",
            "Epoch 12/50\n",
            "74/74 [==============================] - 22s 304ms/step - loss: 0.4354 - accuracy: 0.8676 - val_loss: 2.5543 - val_accuracy: 0.4126\n",
            "Epoch 13/50\n",
            "74/74 [==============================] - 22s 304ms/step - loss: 0.2969 - accuracy: 0.9211 - val_loss: 2.6098 - val_accuracy: 0.4142\n",
            "Epoch 14/50\n",
            "74/74 [==============================] - 22s 303ms/step - loss: 0.2187 - accuracy: 0.9467 - val_loss: 2.5697 - val_accuracy: 0.4396\n",
            "Epoch 15/50\n",
            "74/74 [==============================] - 22s 304ms/step - loss: 0.1727 - accuracy: 0.9571 - val_loss: 2.7058 - val_accuracy: 0.4342\n",
            "Epoch 16/50\n",
            "74/74 [==============================] - 22s 303ms/step - loss: 0.1728 - accuracy: 0.9571 - val_loss: 2.7660 - val_accuracy: 0.4353\n",
            "Epoch 17/50\n",
            "74/74 [==============================] - 23s 304ms/step - loss: 0.1945 - accuracy: 0.9499 - val_loss: 2.7094 - val_accuracy: 0.4358\n",
            "Epoch 18/50\n",
            "74/74 [==============================] - 22s 304ms/step - loss: 0.1405 - accuracy: 0.9664 - val_loss: 2.7462 - val_accuracy: 0.4396\n",
            "Epoch 19/50\n",
            "74/74 [==============================] - 22s 303ms/step - loss: 0.1074 - accuracy: 0.9747 - val_loss: 2.8467 - val_accuracy: 0.4369\n",
            "Epoch 20/50\n",
            "74/74 [==============================] - 23s 304ms/step - loss: 0.0968 - accuracy: 0.9754 - val_loss: 3.0030 - val_accuracy: 0.4342\n",
            "Epoch 21/50\n",
            "74/74 [==============================] - 22s 304ms/step - loss: 0.0978 - accuracy: 0.9752 - val_loss: 2.8723 - val_accuracy: 0.4369\n",
            "Epoch 22/50\n",
            "74/74 [==============================] - 23s 305ms/step - loss: 0.0915 - accuracy: 0.9773 - val_loss: 2.9591 - val_accuracy: 0.4369\n",
            "Epoch 23/50\n",
            "74/74 [==============================] - 22s 303ms/step - loss: 0.0786 - accuracy: 0.9804 - val_loss: 2.9827 - val_accuracy: 0.4434\n",
            "Epoch 24/50\n",
            "74/74 [==============================] - 23s 305ms/step - loss: 0.0710 - accuracy: 0.9815 - val_loss: 3.0460 - val_accuracy: 0.4429\n",
            "Epoch 25/50\n",
            "74/74 [==============================] - 23s 305ms/step - loss: 0.0857 - accuracy: 0.9771 - val_loss: 3.0154 - val_accuracy: 0.4456\n",
            "Epoch 26/50\n",
            "74/74 [==============================] - 23s 306ms/step - loss: 0.0831 - accuracy: 0.9786 - val_loss: 2.9918 - val_accuracy: 0.4423\n",
            "Epoch 27/50\n",
            "74/74 [==============================] - 23s 306ms/step - loss: 0.0904 - accuracy: 0.9744 - val_loss: 2.9662 - val_accuracy: 0.4488\n",
            "Epoch 28/50\n",
            "74/74 [==============================] - 23s 306ms/step - loss: 0.1249 - accuracy: 0.9666 - val_loss: 3.1091 - val_accuracy: 0.4136\n",
            "Epoch 29/50\n",
            "74/74 [==============================] - 23s 306ms/step - loss: 0.1525 - accuracy: 0.9568 - val_loss: 2.8588 - val_accuracy: 0.4586\n",
            "Epoch 30/50\n",
            "74/74 [==============================] - 23s 306ms/step - loss: 0.1147 - accuracy: 0.9687 - val_loss: 3.0096 - val_accuracy: 0.4358\n",
            "Epoch 31/50\n",
            "74/74 [==============================] - 23s 306ms/step - loss: 0.0850 - accuracy: 0.9768 - val_loss: 2.9911 - val_accuracy: 0.4645\n",
            "Epoch 32/50\n",
            "74/74 [==============================] - 23s 306ms/step - loss: 0.0706 - accuracy: 0.9812 - val_loss: 2.9983 - val_accuracy: 0.4607\n",
            "Epoch 33/50\n",
            "74/74 [==============================] - 23s 305ms/step - loss: 0.0570 - accuracy: 0.9854 - val_loss: 3.0028 - val_accuracy: 0.4672\n",
            "Epoch 34/50\n",
            "74/74 [==============================] - 23s 306ms/step - loss: 0.0521 - accuracy: 0.9856 - val_loss: 3.0842 - val_accuracy: 0.4700\n",
            "Epoch 35/50\n",
            "74/74 [==============================] - 23s 306ms/step - loss: 0.0483 - accuracy: 0.9869 - val_loss: 3.1150 - val_accuracy: 0.4716\n",
            "Epoch 36/50\n",
            "74/74 [==============================] - 23s 305ms/step - loss: 0.0465 - accuracy: 0.9866 - val_loss: 3.1844 - val_accuracy: 0.4613\n",
            "Epoch 37/50\n",
            "74/74 [==============================] - 23s 306ms/step - loss: 0.0441 - accuracy: 0.9874 - val_loss: 3.2271 - val_accuracy: 0.4602\n",
            "Epoch 38/50\n",
            "74/74 [==============================] - 23s 305ms/step - loss: 0.0438 - accuracy: 0.9875 - val_loss: 3.2815 - val_accuracy: 0.4651\n",
            "Epoch 39/50\n",
            "74/74 [==============================] - 23s 306ms/step - loss: 0.0440 - accuracy: 0.9869 - val_loss: 3.3001 - val_accuracy: 0.4499\n",
            "Epoch 40/50\n",
            "74/74 [==============================] - 22s 304ms/step - loss: 0.0446 - accuracy: 0.9870 - val_loss: 3.2928 - val_accuracy: 0.4602\n",
            "Epoch 41/50\n",
            "74/74 [==============================] - 23s 307ms/step - loss: 0.0442 - accuracy: 0.9874 - val_loss: 3.4118 - val_accuracy: 0.4640\n",
            "Epoch 42/50\n",
            "74/74 [==============================] - 23s 305ms/step - loss: 0.0507 - accuracy: 0.9862 - val_loss: 3.2773 - val_accuracy: 0.4656\n",
            "Epoch 43/50\n",
            "74/74 [==============================] - 23s 306ms/step - loss: 0.0519 - accuracy: 0.9847 - val_loss: 3.3403 - val_accuracy: 0.4613\n",
            "Epoch 44/50\n",
            "74/74 [==============================] - 23s 306ms/step - loss: 0.0747 - accuracy: 0.9798 - val_loss: 3.2911 - val_accuracy: 0.4591\n",
            "Epoch 45/50\n",
            "74/74 [==============================] - 23s 306ms/step - loss: 0.0584 - accuracy: 0.9847 - val_loss: 3.2859 - val_accuracy: 0.4683\n",
            "Epoch 46/50\n",
            "74/74 [==============================] - 23s 306ms/step - loss: 0.0473 - accuracy: 0.9865 - val_loss: 3.3034 - val_accuracy: 0.4645\n",
            "Epoch 47/50\n",
            "74/74 [==============================] - 23s 306ms/step - loss: 0.0477 - accuracy: 0.9858 - val_loss: 3.3387 - val_accuracy: 0.4640\n",
            "Epoch 48/50\n",
            "74/74 [==============================] - 23s 306ms/step - loss: 0.1024 - accuracy: 0.9708 - val_loss: 3.3039 - val_accuracy: 0.4515\n",
            "Epoch 49/50\n",
            "74/74 [==============================] - 23s 306ms/step - loss: 0.1229 - accuracy: 0.9666 - val_loss: 3.3604 - val_accuracy: 0.4299\n",
            "Epoch 50/50\n",
            "74/74 [==============================] - 23s 306ms/step - loss: 0.1213 - accuracy: 0.9672 - val_loss: 3.0374 - val_accuracy: 0.4662\n"
          ]
        }
      ],
      "source": [
        "# 모델 실행\n",
        "history = model.fit(X_train, onehot_Y_train, epochs=50, batch_size=100, validation_split=0.2)"
      ]
    },
    {
      "cell_type": "code",
      "source": [
        "len(X_train)"
      ],
      "metadata": {
        "colab": {
          "base_uri": "https://localhost:8080/"
        },
        "id": "80U6EU_8b7b3",
        "outputId": "bb38a466-bd54-4831-864a-fbbe7b7a190e"
      },
      "execution_count": null,
      "outputs": [
        {
          "output_type": "execute_result",
          "data": {
            "text/plain": [
              "6924"
            ]
          },
          "metadata": {},
          "execution_count": 36
        }
      ]
    },
    {
      "cell_type": "code",
      "execution_count": null,
      "metadata": {
        "colab": {
          "base_uri": "https://localhost:8080/",
          "height": 324
        },
        "id": "AjdkHQjyVJs4",
        "outputId": "4b35b635-54e1-41a5-928e-05d2879bcdc3"
      },
      "outputs": [
        {
          "output_type": "error",
          "ename": "ValueError",
          "evalue": "ignored",
          "traceback": [
            "\u001b[0;31m---------------------------------------------------------------------------\u001b[0m",
            "\u001b[0;31mValueError\u001b[0m                                Traceback (most recent call last)",
            "\u001b[0;32m<ipython-input-32-d2807d52cefa>\u001b[0m in \u001b[0;36m<module>\u001b[0;34m()\u001b[0m\n\u001b[0;32m----> 1\u001b[0;31m \u001b[0mpad_test\u001b[0m \u001b[0;34m=\u001b[0m \u001b[0mpad_sequences\u001b[0m\u001b[0;34m(\u001b[0m\u001b[0mtest\u001b[0m\u001b[0;34m,\u001b[0m \u001b[0mmaxlen\u001b[0m\u001b[0;34m=\u001b[0m\u001b[0mmax_len\u001b[0m\u001b[0;34m)\u001b[0m\u001b[0;34m\u001b[0m\u001b[0;34m\u001b[0m\u001b[0m\n\u001b[0m",
            "\u001b[0;32m/usr/local/lib/python3.7/dist-packages/keras/preprocessing/sequence.py\u001b[0m in \u001b[0;36mpad_sequences\u001b[0;34m(sequences, maxlen, dtype, padding, truncating, value)\u001b[0m\n\u001b[1;32m    152\u001b[0m   return sequence.pad_sequences(\n\u001b[1;32m    153\u001b[0m       \u001b[0msequences\u001b[0m\u001b[0;34m,\u001b[0m \u001b[0mmaxlen\u001b[0m\u001b[0;34m=\u001b[0m\u001b[0mmaxlen\u001b[0m\u001b[0;34m,\u001b[0m \u001b[0mdtype\u001b[0m\u001b[0;34m=\u001b[0m\u001b[0mdtype\u001b[0m\u001b[0;34m,\u001b[0m\u001b[0;34m\u001b[0m\u001b[0;34m\u001b[0m\u001b[0m\n\u001b[0;32m--> 154\u001b[0;31m       padding=padding, truncating=truncating, value=value)\n\u001b[0m\u001b[1;32m    155\u001b[0m \u001b[0;34m\u001b[0m\u001b[0m\n\u001b[1;32m    156\u001b[0m keras_export(\n",
            "\u001b[0;32m/usr/local/lib/python3.7/dist-packages/keras_preprocessing/sequence.py\u001b[0m in \u001b[0;36mpad_sequences\u001b[0;34m(sequences, maxlen, dtype, padding, truncating, value)\u001b[0m\n\u001b[1;32m     96\u001b[0m \u001b[0;34m\u001b[0m\u001b[0m\n\u001b[1;32m     97\u001b[0m         \u001b[0;31m# check `trunc` has expected shape\u001b[0m\u001b[0;34m\u001b[0m\u001b[0;34m\u001b[0m\u001b[0;34m\u001b[0m\u001b[0m\n\u001b[0;32m---> 98\u001b[0;31m         \u001b[0mtrunc\u001b[0m \u001b[0;34m=\u001b[0m \u001b[0mnp\u001b[0m\u001b[0;34m.\u001b[0m\u001b[0masarray\u001b[0m\u001b[0;34m(\u001b[0m\u001b[0mtrunc\u001b[0m\u001b[0;34m,\u001b[0m \u001b[0mdtype\u001b[0m\u001b[0;34m=\u001b[0m\u001b[0mdtype\u001b[0m\u001b[0;34m)\u001b[0m\u001b[0;34m\u001b[0m\u001b[0;34m\u001b[0m\u001b[0m\n\u001b[0m\u001b[1;32m     99\u001b[0m         \u001b[0;32mif\u001b[0m \u001b[0mtrunc\u001b[0m\u001b[0;34m.\u001b[0m\u001b[0mshape\u001b[0m\u001b[0;34m[\u001b[0m\u001b[0;36m1\u001b[0m\u001b[0;34m:\u001b[0m\u001b[0;34m]\u001b[0m \u001b[0;34m!=\u001b[0m \u001b[0msample_shape\u001b[0m\u001b[0;34m:\u001b[0m\u001b[0;34m\u001b[0m\u001b[0;34m\u001b[0m\u001b[0m\n\u001b[1;32m    100\u001b[0m             raise ValueError('Shape of sample %s of sequence at position %s '\n",
            "\u001b[0;31mValueError\u001b[0m: invalid literal for int() with base 10: 'id'"
          ]
        }
      ],
      "source": [
        "pad_test = pad_sequences(test, maxlen=max_len)"
      ]
    },
    {
      "cell_type": "code",
      "execution_count": null,
      "metadata": {
        "id": "zQ8tMHD1U0IO"
      },
      "outputs": [],
      "source": [
        "test_pred = model.predict(pad_test)"
      ]
    },
    {
      "cell_type": "code",
      "execution_count": null,
      "metadata": {
        "id": "7wsWupC4VX-q"
      },
      "outputs": [],
      "source": [
        "test_pred.to_csv('test_pred.csv', index=False)"
      ]
    },
    {
      "cell_type": "code",
      "execution_count": null,
      "metadata": {
        "id": "XkuqP3M9OvsU",
        "colab": {
          "base_uri": "https://localhost:8080/",
          "height": 316
        },
        "outputId": "e0b9007b-2eb9-4b20-990b-f4f3300cfd61"
      },
      "outputs": [
        {
          "output_type": "execute_result",
          "data": {
            "text/plain": [
              "<function matplotlib.pyplot.show>"
            ]
          },
          "metadata": {},
          "execution_count": 34
        },
        {
          "output_type": "display_data",
          "data": {
            "text/plain": [
              "<Figure size 864x288 with 2 Axes>"
            ],
            "image/png": "[encoded data removed]"
          },
          "metadata": {
            "needs_background": "light"
          }
        }
      ],
      "source": [
        "# 학습 결과 확인\n",
        "plt.figure(figsize=(12,4))\n",
        "plt.title('Model', fontsize=15)\n",
        "\n",
        "plt.subplot(1, 2, 1)\n",
        "plt.title('loss of Model', fontsize=15)\n",
        "plt.plot(history.history['loss'], 'b-', label='loss')\n",
        "plt.plot(history.history['val_loss'], 'r--', label='val_loss')\n",
        "plt.xlabel('Epoch')\n",
        "plt.legend()\n",
        "\n",
        "plt.subplot(1, 2, 2)\n",
        "plt.title('accuracy of Model3', fontsize= 15)\n",
        "plt.plot(history.history['accuracy'], 'g-', label='accuracy')\n",
        "plt.plot(history.history['val_accuracy'],'k--', label='val_accuracy')\n",
        "plt.xlabel('Epoch')\n",
        "plt.legend()\n",
        "plt.show"
      ]
    },
    {
      "cell_type": "code",
      "execution_count": null,
      "metadata": {
        "id": "oJi5oa26DGLn",
        "colab": {
          "base_uri": "https://localhost:8080/"
        },
        "outputId": "2798a315-be23-4820-a37d-6614c4ab667f"
      },
      "outputs": [
        {
          "output_type": "stream",
          "name": "stdout",
          "text": [
            "Model: \"sequential_1\"\n",
            "_________________________________________________________________\n",
            " Layer (type)                Output Shape              Param #   \n",
            "=================================================================\n",
            " embedding_1 (Embedding)     (None, 1000, 100)         3199800   \n",
            "                                                                 \n",
            " bidirectional_3 (Bidirectio  (None, 1000, 256)        234496    \n",
            " nal)                                                            \n",
            "                                                                 \n",
            " bidirectional_4 (Bidirectio  (None, 1000, 256)        394240    \n",
            " nal)                                                            \n",
            "                                                                 \n",
            " bidirectional_5 (Bidirectio  (None, 256)              394240    \n",
            " nal)                                                            \n",
            "                                                                 \n",
            " dense_1 (Dense)             (None, 20)                5140      \n",
            "                                                                 \n",
            "=================================================================\n",
            "Total params: 4,227,916\n",
            "Trainable params: 4,227,916\n",
            "Non-trainable params: 0\n",
            "_________________________________________________________________\n"
          ]
        }
      ],
      "source": [
        "model = Sequential([Embedding(vocab_size, embedding_dim, input_length=max_len),\n",
        "                     tf.keras.layers.Bidirectional(LSTM(units=128, return_sequences=True)),\n",
        "                     tf.keras.layers.Bidirectional(LSTM(units=128, return_sequences=True)),\n",
        "                     tf.keras.layers.Bidirectional(LSTM(units=128)),\n",
        "                     Dense(20, activation='softmax')]) # 결과값이 0~19 이므로 Dense(20)\n",
        "model.compile(loss='binary_crossentropy',\n",
        "               optimizer='adam',\n",
        "               metrics=['accuracy'])\n",
        "model.summary()"
      ]
    },
    {
      "cell_type": "code",
      "source": [
        "# 모델 실행\n",
        "history = model.fit(X_train, onehot_Y_train, epochs=50, batch_size=100, validation_split=0.2)"
      ],
      "metadata": {
        "colab": {
          "base_uri": "https://localhost:8080/",
          "height": 1000
        },
        "id": "ey-YQVF6cQ4r",
        "outputId": "0f6af8d2-4919-4fd1-d76d-f0758995febf"
      },
      "execution_count": null,
      "outputs": [
        {
          "output_type": "stream",
          "name": "stdout",
          "text": [
            "Epoch 1/50\n",
            "56/56 [==============================] - 37s 507ms/step - loss: 0.2460 - accuracy: 0.0536 - val_loss: 0.1994 - val_accuracy: 0.0498\n",
            "Epoch 2/50\n",
            "56/56 [==============================] - 27s 476ms/step - loss: 0.1995 - accuracy: 0.0478 - val_loss: 0.1990 - val_accuracy: 0.0635\n",
            "Epoch 3/50\n",
            "56/56 [==============================] - 27s 478ms/step - loss: 0.1993 - accuracy: 0.0489 - val_loss: 0.1993 - val_accuracy: 0.0469\n",
            "Epoch 4/50\n",
            "56/56 [==============================] - 27s 477ms/step - loss: 0.1990 - accuracy: 0.0507 - val_loss: 0.1996 - val_accuracy: 0.0448\n",
            "Epoch 5/50\n",
            "56/56 [==============================] - 27s 478ms/step - loss: 0.1992 - accuracy: 0.0538 - val_loss: 0.1993 - val_accuracy: 0.0448\n",
            "Epoch 6/50\n",
            "56/56 [==============================] - 27s 477ms/step - loss: 0.1992 - accuracy: 0.0518 - val_loss: 0.1995 - val_accuracy: 0.0527\n",
            "Epoch 7/50\n",
            "56/56 [==============================] - 27s 478ms/step - loss: 0.1994 - accuracy: 0.0491 - val_loss: 0.1997 - val_accuracy: 0.0527\n",
            "Epoch 8/50\n",
            "56/56 [==============================] - 27s 478ms/step - loss: 0.1991 - accuracy: 0.0484 - val_loss: 0.1989 - val_accuracy: 0.0469\n",
            "Epoch 9/50\n",
            "56/56 [==============================] - 27s 478ms/step - loss: 0.1967 - accuracy: 0.0693 - val_loss: 0.1949 - val_accuracy: 0.0874\n",
            "Epoch 10/50\n",
            "56/56 [==============================] - 27s 476ms/step - loss: 0.1899 - accuracy: 0.1042 - val_loss: 0.1949 - val_accuracy: 0.1119\n",
            "Epoch 11/50\n",
            "56/56 [==============================] - 27s 477ms/step - loss: 0.1743 - accuracy: 0.1260 - val_loss: 0.1800 - val_accuracy: 0.1264\n",
            "Epoch 12/50\n",
            "56/56 [==============================] - 27s 475ms/step - loss: 0.1629 - accuracy: 0.1647 - val_loss: 0.1809 - val_accuracy: 0.1343\n",
            "Epoch 13/50\n",
            "56/56 [==============================] - 27s 476ms/step - loss: 0.1547 - accuracy: 0.2134 - val_loss: 0.1839 - val_accuracy: 0.1235\n",
            "Epoch 14/50\n",
            "56/56 [==============================] - 27s 475ms/step - loss: 0.1471 - accuracy: 0.2443 - val_loss: 0.1819 - val_accuracy: 0.1675\n",
            "Epoch 15/50\n",
            "56/56 [==============================] - 27s 476ms/step - loss: 0.1391 - accuracy: 0.2874 - val_loss: 0.1885 - val_accuracy: 0.1437\n",
            "Epoch 16/50\n",
            "56/56 [==============================] - 27s 474ms/step - loss: 0.1339 - accuracy: 0.3233 - val_loss: 0.1932 - val_accuracy: 0.1625\n",
            "Epoch 17/50\n",
            "56/56 [==============================] - 27s 477ms/step - loss: 0.1268 - accuracy: 0.3600 - val_loss: 0.1918 - val_accuracy: 0.1812\n",
            "Epoch 18/50\n",
            "56/56 [==============================] - 27s 476ms/step - loss: 0.1176 - accuracy: 0.4290 - val_loss: 0.1955 - val_accuracy: 0.1841\n",
            "Epoch 19/50\n",
            "56/56 [==============================] - 27s 476ms/step - loss: 0.1091 - accuracy: 0.4833 - val_loss: 0.1963 - val_accuracy: 0.1986\n",
            "Epoch 20/50\n",
            "56/56 [==============================] - 27s 475ms/step - loss: 0.1040 - accuracy: 0.5100 - val_loss: 0.1999 - val_accuracy: 0.2007\n",
            "Epoch 21/50\n",
            "56/56 [==============================] - 27s 477ms/step - loss: 0.0963 - accuracy: 0.5698 - val_loss: 0.2058 - val_accuracy: 0.1993\n",
            "Epoch 22/50\n",
            "56/56 [==============================] - 27s 476ms/step - loss: 0.0913 - accuracy: 0.5956 - val_loss: 0.2093 - val_accuracy: 0.2217\n",
            "Epoch 23/50\n",
            "56/56 [==============================] - 27s 477ms/step - loss: 0.0842 - accuracy: 0.6436 - val_loss: 0.2074 - val_accuracy: 0.2310\n",
            "Epoch 24/50\n",
            "56/56 [==============================] - 27s 475ms/step - loss: 0.0778 - accuracy: 0.6703 - val_loss: 0.2115 - val_accuracy: 0.2412\n",
            "Epoch 25/50\n",
            "56/56 [==============================] - 27s 478ms/step - loss: 0.0690 - accuracy: 0.7350 - val_loss: 0.2173 - val_accuracy: 0.2440\n",
            "Epoch 26/50\n",
            "56/56 [==============================] - 27s 474ms/step - loss: 0.0641 - accuracy: 0.7420 - val_loss: 0.2183 - val_accuracy: 0.2628\n",
            "Epoch 27/50\n",
            "56/56 [==============================] - 27s 476ms/step - loss: 0.0582 - accuracy: 0.7882 - val_loss: 0.2244 - val_accuracy: 0.2505\n",
            "Epoch 28/50\n",
            "56/56 [==============================] - 27s 474ms/step - loss: 0.0494 - accuracy: 0.8357 - val_loss: 0.2332 - val_accuracy: 0.2679\n",
            "Epoch 29/50\n",
            "56/56 [==============================] - 27s 476ms/step - loss: 0.0442 - accuracy: 0.8604 - val_loss: 0.2311 - val_accuracy: 0.2852\n",
            "Epoch 30/50\n",
            "56/56 [==============================] - 27s 474ms/step - loss: 0.0377 - accuracy: 0.8951 - val_loss: 0.2418 - val_accuracy: 0.2751\n",
            "Epoch 31/50\n",
            "56/56 [==============================] - 27s 475ms/step - loss: 0.0371 - accuracy: 0.8956 - val_loss: 0.2458 - val_accuracy: 0.2794\n",
            "Epoch 32/50\n",
            "56/56 [==============================] - 27s 475ms/step - loss: 0.0326 - accuracy: 0.9137 - val_loss: 0.2499 - val_accuracy: 0.2751\n",
            "Epoch 33/50\n",
            "56/56 [==============================] - 26s 474ms/step - loss: 0.0315 - accuracy: 0.9117 - val_loss: 0.2460 - val_accuracy: 0.2866\n",
            "Epoch 34/50\n",
            "52/56 [==========================>...] - ETA: 1s - loss: 0.0278 - accuracy: 0.9296"
          ]
        },
        {
          "output_type": "error",
          "ename": "KeyboardInterrupt",
          "evalue": "ignored",
          "traceback": [
            "\u001b[0;31m---------------------------------------------------------------------------\u001b[0m",
            "\u001b[0;31mKeyboardInterrupt\u001b[0m                         Traceback (most recent call last)",
            "\u001b[0;32m<ipython-input-38-669f4b26394a>\u001b[0m in \u001b[0;36m<module>\u001b[0;34m()\u001b[0m\n\u001b[1;32m      1\u001b[0m \u001b[0;31m# 모델 실행\u001b[0m\u001b[0;34m\u001b[0m\u001b[0;34m\u001b[0m\u001b[0;34m\u001b[0m\u001b[0m\n\u001b[0;32m----> 2\u001b[0;31m \u001b[0mhistory\u001b[0m \u001b[0;34m=\u001b[0m \u001b[0mmodel\u001b[0m\u001b[0;34m.\u001b[0m\u001b[0mfit\u001b[0m\u001b[0;34m(\u001b[0m\u001b[0mX_train\u001b[0m\u001b[0;34m,\u001b[0m \u001b[0monehot_Y_train\u001b[0m\u001b[0;34m,\u001b[0m \u001b[0mepochs\u001b[0m\u001b[0;34m=\u001b[0m\u001b[0;36m50\u001b[0m\u001b[0;34m,\u001b[0m \u001b[0mbatch_size\u001b[0m\u001b[0;34m=\u001b[0m\u001b[0;36m100\u001b[0m\u001b[0;34m,\u001b[0m \u001b[0mvalidation_split\u001b[0m\u001b[0;34m=\u001b[0m\u001b[0;36m0.2\u001b[0m\u001b[0;34m)\u001b[0m\u001b[0;34m\u001b[0m\u001b[0;34m\u001b[0m\u001b[0m\n\u001b[0m",
            "\u001b[0;32m/usr/local/lib/python3.7/dist-packages/keras/utils/traceback_utils.py\u001b[0m in \u001b[0;36merror_handler\u001b[0;34m(*args, **kwargs)\u001b[0m\n\u001b[1;32m     62\u001b[0m     \u001b[0mfiltered_tb\u001b[0m \u001b[0;34m=\u001b[0m \u001b[0;32mNone\u001b[0m\u001b[0;34m\u001b[0m\u001b[0;34m\u001b[0m\u001b[0m\n\u001b[1;32m     63\u001b[0m     \u001b[0;32mtry\u001b[0m\u001b[0;34m:\u001b[0m\u001b[0;34m\u001b[0m\u001b[0;34m\u001b[0m\u001b[0m\n\u001b[0;32m---> 64\u001b[0;31m       \u001b[0;32mreturn\u001b[0m \u001b[0mfn\u001b[0m\u001b[0;34m(\u001b[0m\u001b[0;34m*\u001b[0m\u001b[0margs\u001b[0m\u001b[0;34m,\u001b[0m \u001b[0;34m**\u001b[0m\u001b[0mkwargs\u001b[0m\u001b[0;34m)\u001b[0m\u001b[0;34m\u001b[0m\u001b[0;34m\u001b[0m\u001b[0m\n\u001b[0m\u001b[1;32m     65\u001b[0m     \u001b[0;32mexcept\u001b[0m \u001b[0mException\u001b[0m \u001b[0;32mas\u001b[0m \u001b[0me\u001b[0m\u001b[0;34m:\u001b[0m  \u001b[0;31m# pylint: disable=broad-except\u001b[0m\u001b[0;34m\u001b[0m\u001b[0;34m\u001b[0m\u001b[0m\n\u001b[1;32m     66\u001b[0m       \u001b[0mfiltered_tb\u001b[0m \u001b[0;34m=\u001b[0m \u001b[0m_process_traceback_frames\u001b[0m\u001b[0;34m(\u001b[0m\u001b[0me\u001b[0m\u001b[0;34m.\u001b[0m\u001b[0m__traceback__\u001b[0m\u001b[0;34m)\u001b[0m\u001b[0;34m\u001b[0m\u001b[0;34m\u001b[0m\u001b[0m\n",
            "\u001b[0;32m/usr/local/lib/python3.7/dist-packages/keras/engine/training.py\u001b[0m in \u001b[0;36mfit\u001b[0;34m(self, x, y, batch_size, epochs, verbose, callbacks, validation_split, validation_data, shuffle, class_weight, sample_weight, initial_epoch, steps_per_epoch, validation_steps, validation_batch_size, validation_freq, max_queue_size, workers, use_multiprocessing)\u001b[0m\n\u001b[1;32m   1382\u001b[0m                 _r=1):\n\u001b[1;32m   1383\u001b[0m               \u001b[0mcallbacks\u001b[0m\u001b[0;34m.\u001b[0m\u001b[0mon_train_batch_begin\u001b[0m\u001b[0;34m(\u001b[0m\u001b[0mstep\u001b[0m\u001b[0;34m)\u001b[0m\u001b[0;34m\u001b[0m\u001b[0;34m\u001b[0m\u001b[0m\n\u001b[0;32m-> 1384\u001b[0;31m               \u001b[0mtmp_logs\u001b[0m \u001b[0;34m=\u001b[0m \u001b[0mself\u001b[0m\u001b[0;34m.\u001b[0m\u001b[0mtrain_function\u001b[0m\u001b[0;34m(\u001b[0m\u001b[0miterator\u001b[0m\u001b[0;34m)\u001b[0m\u001b[0;34m\u001b[0m\u001b[0;34m\u001b[0m\u001b[0m\n\u001b[0m\u001b[1;32m   1385\u001b[0m               \u001b[0;32mif\u001b[0m \u001b[0mdata_handler\u001b[0m\u001b[0;34m.\u001b[0m\u001b[0mshould_sync\u001b[0m\u001b[0;34m:\u001b[0m\u001b[0;34m\u001b[0m\u001b[0;34m\u001b[0m\u001b[0m\n\u001b[1;32m   1386\u001b[0m                 \u001b[0mcontext\u001b[0m\u001b[0;34m.\u001b[0m\u001b[0masync_wait\u001b[0m\u001b[0;34m(\u001b[0m\u001b[0;34m)\u001b[0m\u001b[0;34m\u001b[0m\u001b[0;34m\u001b[0m\u001b[0m\n",
            "\u001b[0;32m/usr/local/lib/python3.7/dist-packages/tensorflow/python/util/traceback_utils.py\u001b[0m in \u001b[0;36merror_handler\u001b[0;34m(*args, **kwargs)\u001b[0m\n\u001b[1;32m    148\u001b[0m     \u001b[0mfiltered_tb\u001b[0m \u001b[0;34m=\u001b[0m \u001b[0;32mNone\u001b[0m\u001b[0;34m\u001b[0m\u001b[0;34m\u001b[0m\u001b[0m\n\u001b[1;32m    149\u001b[0m     \u001b[0;32mtry\u001b[0m\u001b[0;34m:\u001b[0m\u001b[0;34m\u001b[0m\u001b[0;34m\u001b[0m\u001b[0m\n\u001b[0;32m--> 150\u001b[0;31m       \u001b[0;32mreturn\u001b[0m \u001b[0mfn\u001b[0m\u001b[0;34m(\u001b[0m\u001b[0;34m*\u001b[0m\u001b[0margs\u001b[0m\u001b[0;34m,\u001b[0m \u001b[0;34m**\u001b[0m\u001b[0mkwargs\u001b[0m\u001b[0;34m)\u001b[0m\u001b[0;34m\u001b[0m\u001b[0;34m\u001b[0m\u001b[0m\n\u001b[0m\u001b[1;32m    151\u001b[0m     \u001b[0;32mexcept\u001b[0m \u001b[0mException\u001b[0m \u001b[0;32mas\u001b[0m \u001b[0me\u001b[0m\u001b[0;34m:\u001b[0m\u001b[0;34m\u001b[0m\u001b[0;34m\u001b[0m\u001b[0m\n\u001b[1;32m    152\u001b[0m       \u001b[0mfiltered_tb\u001b[0m \u001b[0;34m=\u001b[0m \u001b[0m_process_traceback_frames\u001b[0m\u001b[0;34m(\u001b[0m\u001b[0me\u001b[0m\u001b[0;34m.\u001b[0m\u001b[0m__traceback__\u001b[0m\u001b[0;34m)\u001b[0m\u001b[0;34m\u001b[0m\u001b[0;34m\u001b[0m\u001b[0m\n",
            "\u001b[0;32m/usr/local/lib/python3.7/dist-packages/tensorflow/python/eager/def_function.py\u001b[0m in \u001b[0;36m__call__\u001b[0;34m(self, *args, **kwds)\u001b[0m\n\u001b[1;32m    913\u001b[0m \u001b[0;34m\u001b[0m\u001b[0m\n\u001b[1;32m    914\u001b[0m       \u001b[0;32mwith\u001b[0m \u001b[0mOptionalXlaContext\u001b[0m\u001b[0;34m(\u001b[0m\u001b[0mself\u001b[0m\u001b[0;34m.\u001b[0m\u001b[0m_jit_compile\u001b[0m\u001b[0;34m)\u001b[0m\u001b[0;34m:\u001b[0m\u001b[0;34m\u001b[0m\u001b[0;34m\u001b[0m\u001b[0m\n\u001b[0;32m--> 915\u001b[0;31m         \u001b[0mresult\u001b[0m \u001b[0;34m=\u001b[0m \u001b[0mself\u001b[0m\u001b[0;34m.\u001b[0m\u001b[0m_call\u001b[0m\u001b[0;34m(\u001b[0m\u001b[0;34m*\u001b[0m\u001b[0margs\u001b[0m\u001b[0;34m,\u001b[0m \u001b[0;34m**\u001b[0m\u001b[0mkwds\u001b[0m\u001b[0;34m)\u001b[0m\u001b[0;34m\u001b[0m\u001b[0;34m\u001b[0m\u001b[0m\n\u001b[0m\u001b[1;32m    916\u001b[0m \u001b[0;34m\u001b[0m\u001b[0m\n\u001b[1;32m    917\u001b[0m       \u001b[0mnew_tracing_count\u001b[0m \u001b[0;34m=\u001b[0m \u001b[0mself\u001b[0m\u001b[0;34m.\u001b[0m\u001b[0mexperimental_get_tracing_count\u001b[0m\u001b[0;34m(\u001b[0m\u001b[0;34m)\u001b[0m\u001b[0;34m\u001b[0m\u001b[0;34m\u001b[0m\u001b[0m\n",
            "\u001b[0;32m/usr/local/lib/python3.7/dist-packages/tensorflow/python/eager/def_function.py\u001b[0m in \u001b[0;36m_call\u001b[0;34m(self, *args, **kwds)\u001b[0m\n\u001b[1;32m    945\u001b[0m       \u001b[0;31m# In this case we have created variables on the first call, so we run the\u001b[0m\u001b[0;34m\u001b[0m\u001b[0;34m\u001b[0m\u001b[0;34m\u001b[0m\u001b[0m\n\u001b[1;32m    946\u001b[0m       \u001b[0;31m# defunned version which is guaranteed to never create variables.\u001b[0m\u001b[0;34m\u001b[0m\u001b[0;34m\u001b[0m\u001b[0;34m\u001b[0m\u001b[0m\n\u001b[0;32m--> 947\u001b[0;31m       \u001b[0;32mreturn\u001b[0m \u001b[0mself\u001b[0m\u001b[0;34m.\u001b[0m\u001b[0m_stateless_fn\u001b[0m\u001b[0;34m(\u001b[0m\u001b[0;34m*\u001b[0m\u001b[0margs\u001b[0m\u001b[0;34m,\u001b[0m \u001b[0;34m**\u001b[0m\u001b[0mkwds\u001b[0m\u001b[0;34m)\u001b[0m  \u001b[0;31m# pylint: disable=not-callable\u001b[0m\u001b[0;34m\u001b[0m\u001b[0;34m\u001b[0m\u001b[0m\n\u001b[0m\u001b[1;32m    948\u001b[0m     \u001b[0;32melif\u001b[0m \u001b[0mself\u001b[0m\u001b[0;34m.\u001b[0m\u001b[0m_stateful_fn\u001b[0m \u001b[0;32mis\u001b[0m \u001b[0;32mnot\u001b[0m \u001b[0;32mNone\u001b[0m\u001b[0;34m:\u001b[0m\u001b[0;34m\u001b[0m\u001b[0;34m\u001b[0m\u001b[0m\n\u001b[1;32m    949\u001b[0m       \u001b[0;31m# Release the lock early so that multiple threads can perform the call\u001b[0m\u001b[0;34m\u001b[0m\u001b[0;34m\u001b[0m\u001b[0;34m\u001b[0m\u001b[0m\n",
            "\u001b[0;32m/usr/local/lib/python3.7/dist-packages/tensorflow/python/eager/function.py\u001b[0m in \u001b[0;36m__call__\u001b[0;34m(self, *args, **kwargs)\u001b[0m\n\u001b[1;32m   2955\u001b[0m        filtered_flat_args) = self._maybe_define_function(args, kwargs)\n\u001b[1;32m   2956\u001b[0m     return graph_function._call_flat(\n\u001b[0;32m-> 2957\u001b[0;31m         filtered_flat_args, captured_inputs=graph_function.captured_inputs)  # pylint: disable=protected-access\n\u001b[0m\u001b[1;32m   2958\u001b[0m \u001b[0;34m\u001b[0m\u001b[0m\n\u001b[1;32m   2959\u001b[0m   \u001b[0;34m@\u001b[0m\u001b[0mproperty\u001b[0m\u001b[0;34m\u001b[0m\u001b[0;34m\u001b[0m\u001b[0m\n",
            "\u001b[0;32m/usr/local/lib/python3.7/dist-packages/tensorflow/python/eager/function.py\u001b[0m in \u001b[0;36m_call_flat\u001b[0;34m(self, args, captured_inputs, cancellation_manager)\u001b[0m\n\u001b[1;32m   1852\u001b[0m       \u001b[0;31m# No tape is watching; skip to running the function.\u001b[0m\u001b[0;34m\u001b[0m\u001b[0;34m\u001b[0m\u001b[0;34m\u001b[0m\u001b[0m\n\u001b[1;32m   1853\u001b[0m       return self._build_call_outputs(self._inference_function.call(\n\u001b[0;32m-> 1854\u001b[0;31m           ctx, args, cancellation_manager=cancellation_manager))\n\u001b[0m\u001b[1;32m   1855\u001b[0m     forward_backward = self._select_forward_and_backward_functions(\n\u001b[1;32m   1856\u001b[0m         \u001b[0margs\u001b[0m\u001b[0;34m,\u001b[0m\u001b[0;34m\u001b[0m\u001b[0;34m\u001b[0m\u001b[0m\n",
            "\u001b[0;32m/usr/local/lib/python3.7/dist-packages/tensorflow/python/eager/function.py\u001b[0m in \u001b[0;36mcall\u001b[0;34m(self, ctx, args, cancellation_manager)\u001b[0m\n\u001b[1;32m    502\u001b[0m               \u001b[0minputs\u001b[0m\u001b[0;34m=\u001b[0m\u001b[0margs\u001b[0m\u001b[0;34m,\u001b[0m\u001b[0;34m\u001b[0m\u001b[0;34m\u001b[0m\u001b[0m\n\u001b[1;32m    503\u001b[0m               \u001b[0mattrs\u001b[0m\u001b[0;34m=\u001b[0m\u001b[0mattrs\u001b[0m\u001b[0;34m,\u001b[0m\u001b[0;34m\u001b[0m\u001b[0;34m\u001b[0m\u001b[0m\n\u001b[0;32m--> 504\u001b[0;31m               ctx=ctx)\n\u001b[0m\u001b[1;32m    505\u001b[0m         \u001b[0;32melse\u001b[0m\u001b[0;34m:\u001b[0m\u001b[0;34m\u001b[0m\u001b[0;34m\u001b[0m\u001b[0m\n\u001b[1;32m    506\u001b[0m           outputs = execute.execute_with_cancellation(\n",
            "\u001b[0;32m/usr/local/lib/python3.7/dist-packages/tensorflow/python/eager/execute.py\u001b[0m in \u001b[0;36mquick_execute\u001b[0;34m(op_name, num_outputs, inputs, attrs, ctx, name)\u001b[0m\n\u001b[1;32m     53\u001b[0m     \u001b[0mctx\u001b[0m\u001b[0;34m.\u001b[0m\u001b[0mensure_initialized\u001b[0m\u001b[0;34m(\u001b[0m\u001b[0;34m)\u001b[0m\u001b[0;34m\u001b[0m\u001b[0;34m\u001b[0m\u001b[0m\n\u001b[1;32m     54\u001b[0m     tensors = pywrap_tfe.TFE_Py_Execute(ctx._handle, device_name, op_name,\n\u001b[0;32m---> 55\u001b[0;31m                                         inputs, attrs, num_outputs)\n\u001b[0m\u001b[1;32m     56\u001b[0m   \u001b[0;32mexcept\u001b[0m \u001b[0mcore\u001b[0m\u001b[0;34m.\u001b[0m\u001b[0m_NotOkStatusException\u001b[0m \u001b[0;32mas\u001b[0m \u001b[0me\u001b[0m\u001b[0;34m:\u001b[0m\u001b[0;34m\u001b[0m\u001b[0;34m\u001b[0m\u001b[0m\n\u001b[1;32m     57\u001b[0m     \u001b[0;32mif\u001b[0m \u001b[0mname\u001b[0m \u001b[0;32mis\u001b[0m \u001b[0;32mnot\u001b[0m \u001b[0;32mNone\u001b[0m\u001b[0;34m:\u001b[0m\u001b[0;34m\u001b[0m\u001b[0;34m\u001b[0m\u001b[0m\n",
            "\u001b[0;31mKeyboardInterrupt\u001b[0m: "
          ]
        }
      ]
    },
    {
      "cell_type": "code",
      "execution_count": null,
      "metadata": {
        "id": "0iuCFzqgLRce"
      },
      "outputs": [],
      "source": [
        "def plot_doc_lengths(df):\n",
        "  mean_seq_len = np.round(df['doc_len'].mean()).astype(int)\n",
        "  sns.distplot(tuple(df['doc_len']), hist=True, kde=True, label='lengths')\n",
        "  plt.axvline(x=mean_seq_len, color='k', linestyle='--', label=f'mean:{mean_seq_len}')\n",
        "  plt.title('lengths')\n",
        "  plt.legend()\n",
        "  plt.show()\n",
        "  print(f\" 가장 긴 문장은 {train['doc_len'].max()} 개의 단어, 가장 짧은 문장은 {train['doc_len'].min()} 개의 단어\")"
      ]
    },
    {
      "cell_type": "code",
      "execution_count": null,
      "metadata": {
        "id": "rED-qbViLbXw"
      },
      "outputs": [],
      "source": [
        "train_data['doc_len'] = train_data['text'].apply(lambda x:len(x.split()))\n",
        "plot_doc_lengths(train_data)"
      ]
    },
    {
      "cell_type": "code",
      "execution_count": null,
      "metadata": {
        "id": "ClKVcBkKLdL5"
      },
      "outputs": [],
      "source": [
        "train_data['doc_len'] = train_data['text'].apply(lambda x:len(x.split()))"
      ]
    },
    {
      "cell_type": "code",
      "execution_count": null,
      "metadata": {
        "id": "1o_bshkXL5-z"
      },
      "outputs": [],
      "source": [
        "train_data"
      ]
    },
    {
      "cell_type": "code",
      "execution_count": null,
      "metadata": {
        "id": "EeKaZqGNL2iC"
      },
      "outputs": [],
      "source": [
        "plot_doc_lengths(train_data)"
      ]
    },
    {
      "cell_type": "code",
      "execution_count": null,
      "metadata": {
        "id": "VA4SHSnxL34O"
      },
      "outputs": [],
      "source": [
        ""
      ]
    }
  ],
  "metadata": {
    "accelerator": "GPU",
    "colab": {
      "name": "lstm_re.ipynb",
      "provenance": []
    },
    "kernelspec": {
      "display_name": "Python 3",
      "name": "python3"
    },
    "language_info": {
      "name": "python"
    }
  },
  "nbformat": 4,
  "nbformat_minor": 0
}