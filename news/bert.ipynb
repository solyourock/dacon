{
  "nbformat": 4,
  "nbformat_minor": 0,
  "metadata": {
    "colab": {
      "name": "bert.ipynb",
      "provenance": []
    },
    "kernelspec": {
      "name": "python3",
      "display_name": "Python 3"
    },
    "language_info": {
      "name": "python"
    },
    "accelerator": "GPU"
  },
  "cells": [
    {
      "cell_type": "code",
      "source": [
        "! pip install sentencepiece"
      ],
      "metadata": {
        "colab": {
          "base_uri": "https://localhost:8080/"
        },
        "id": "KUVFR_A3jFyB",
        "outputId": "79d812ce-cb1b-4fd2-a5bd-affd1649115d"
      },
      "execution_count": null,
      "outputs": [
        {
          "output_type": "stream",
          "name": "stdout",
          "text": [
            "Collecting sentencepiece\n",
            "  Downloading sentencepiece-0.1.96-cp37-cp37m-manylinux_2_17_x86_64.manylinux2014_x86_64.whl (1.2 MB)\n",
            "\u001b[?25l\r\u001b[K     |▎                               | 10 kB 29.6 MB/s eta 0:00:01\r\u001b[K     |▌                               | 20 kB 31.1 MB/s eta 0:00:01\r\u001b[K     |▉                               | 30 kB 17.2 MB/s eta 0:00:01\r\u001b[K     |█                               | 40 kB 8.4 MB/s eta 0:00:01\r\u001b[K     |█▍                              | 51 kB 7.1 MB/s eta 0:00:01\r\u001b[K     |█▋                              | 61 kB 8.3 MB/s eta 0:00:01\r\u001b[K     |██                              | 71 kB 9.4 MB/s eta 0:00:01\r\u001b[K     |██▏                             | 81 kB 7.9 MB/s eta 0:00:01\r\u001b[K     |██▍                             | 92 kB 8.7 MB/s eta 0:00:01\r\u001b[K     |██▊                             | 102 kB 9.5 MB/s eta 0:00:01\r\u001b[K     |███                             | 112 kB 9.5 MB/s eta 0:00:01\r\u001b[K     |███▎                            | 122 kB 9.5 MB/s eta 0:00:01\r\u001b[K     |███▌                            | 133 kB 9.5 MB/s eta 0:00:01\r\u001b[K     |███▉                            | 143 kB 9.5 MB/s eta 0:00:01\r\u001b[K     |████                            | 153 kB 9.5 MB/s eta 0:00:01\r\u001b[K     |████▎                           | 163 kB 9.5 MB/s eta 0:00:01\r\u001b[K     |████▋                           | 174 kB 9.5 MB/s eta 0:00:01\r\u001b[K     |████▉                           | 184 kB 9.5 MB/s eta 0:00:01\r\u001b[K     |█████▏                          | 194 kB 9.5 MB/s eta 0:00:01\r\u001b[K     |█████▍                          | 204 kB 9.5 MB/s eta 0:00:01\r\u001b[K     |█████▊                          | 215 kB 9.5 MB/s eta 0:00:01\r\u001b[K     |██████                          | 225 kB 9.5 MB/s eta 0:00:01\r\u001b[K     |██████▏                         | 235 kB 9.5 MB/s eta 0:00:01\r\u001b[K     |██████▌                         | 245 kB 9.5 MB/s eta 0:00:01\r\u001b[K     |██████▊                         | 256 kB 9.5 MB/s eta 0:00:01\r\u001b[K     |███████                         | 266 kB 9.5 MB/s eta 0:00:01\r\u001b[K     |███████▎                        | 276 kB 9.5 MB/s eta 0:00:01\r\u001b[K     |███████▋                        | 286 kB 9.5 MB/s eta 0:00:01\r\u001b[K     |███████▉                        | 296 kB 9.5 MB/s eta 0:00:01\r\u001b[K     |████████                        | 307 kB 9.5 MB/s eta 0:00:01\r\u001b[K     |████████▍                       | 317 kB 9.5 MB/s eta 0:00:01\r\u001b[K     |████████▋                       | 327 kB 9.5 MB/s eta 0:00:01\r\u001b[K     |█████████                       | 337 kB 9.5 MB/s eta 0:00:01\r\u001b[K     |█████████▏                      | 348 kB 9.5 MB/s eta 0:00:01\r\u001b[K     |█████████▌                      | 358 kB 9.5 MB/s eta 0:00:01\r\u001b[K     |█████████▊                      | 368 kB 9.5 MB/s eta 0:00:01\r\u001b[K     |██████████                      | 378 kB 9.5 MB/s eta 0:00:01\r\u001b[K     |██████████▎                     | 389 kB 9.5 MB/s eta 0:00:01\r\u001b[K     |██████████▌                     | 399 kB 9.5 MB/s eta 0:00:01\r\u001b[K     |██████████▉                     | 409 kB 9.5 MB/s eta 0:00:01\r\u001b[K     |███████████                     | 419 kB 9.5 MB/s eta 0:00:01\r\u001b[K     |███████████▍                    | 430 kB 9.5 MB/s eta 0:00:01\r\u001b[K     |███████████▋                    | 440 kB 9.5 MB/s eta 0:00:01\r\u001b[K     |███████████▉                    | 450 kB 9.5 MB/s eta 0:00:01\r\u001b[K     |████████████▏                   | 460 kB 9.5 MB/s eta 0:00:01\r\u001b[K     |████████████▍                   | 471 kB 9.5 MB/s eta 0:00:01\r\u001b[K     |████████████▊                   | 481 kB 9.5 MB/s eta 0:00:01\r\u001b[K     |█████████████                   | 491 kB 9.5 MB/s eta 0:00:01\r\u001b[K     |█████████████▎                  | 501 kB 9.5 MB/s eta 0:00:01\r\u001b[K     |█████████████▌                  | 512 kB 9.5 MB/s eta 0:00:01\r\u001b[K     |█████████████▊                  | 522 kB 9.5 MB/s eta 0:00:01\r\u001b[K     |██████████████                  | 532 kB 9.5 MB/s eta 0:00:01\r\u001b[K     |██████████████▎                 | 542 kB 9.5 MB/s eta 0:00:01\r\u001b[K     |██████████████▋                 | 552 kB 9.5 MB/s eta 0:00:01\r\u001b[K     |██████████████▉                 | 563 kB 9.5 MB/s eta 0:00:01\r\u001b[K     |███████████████▏                | 573 kB 9.5 MB/s eta 0:00:01\r\u001b[K     |███████████████▍                | 583 kB 9.5 MB/s eta 0:00:01\r\u001b[K     |███████████████▋                | 593 kB 9.5 MB/s eta 0:00:01\r\u001b[K     |████████████████                | 604 kB 9.5 MB/s eta 0:00:01\r\u001b[K     |████████████████▏               | 614 kB 9.5 MB/s eta 0:00:01\r\u001b[K     |████████████████▌               | 624 kB 9.5 MB/s eta 0:00:01\r\u001b[K     |████████████████▊               | 634 kB 9.5 MB/s eta 0:00:01\r\u001b[K     |█████████████████               | 645 kB 9.5 MB/s eta 0:00:01\r\u001b[K     |█████████████████▎              | 655 kB 9.5 MB/s eta 0:00:01\r\u001b[K     |█████████████████▌              | 665 kB 9.5 MB/s eta 0:00:01\r\u001b[K     |█████████████████▉              | 675 kB 9.5 MB/s eta 0:00:01\r\u001b[K     |██████████████████              | 686 kB 9.5 MB/s eta 0:00:01\r\u001b[K     |██████████████████▍             | 696 kB 9.5 MB/s eta 0:00:01\r\u001b[K     |██████████████████▋             | 706 kB 9.5 MB/s eta 0:00:01\r\u001b[K     |███████████████████             | 716 kB 9.5 MB/s eta 0:00:01\r\u001b[K     |███████████████████▏            | 727 kB 9.5 MB/s eta 0:00:01\r\u001b[K     |███████████████████▍            | 737 kB 9.5 MB/s eta 0:00:01\r\u001b[K     |███████████████████▊            | 747 kB 9.5 MB/s eta 0:00:01\r\u001b[K     |████████████████████            | 757 kB 9.5 MB/s eta 0:00:01\r\u001b[K     |████████████████████▎           | 768 kB 9.5 MB/s eta 0:00:01\r\u001b[K     |████████████████████▌           | 778 kB 9.5 MB/s eta 0:00:01\r\u001b[K     |████████████████████▉           | 788 kB 9.5 MB/s eta 0:00:01\r\u001b[K     |█████████████████████           | 798 kB 9.5 MB/s eta 0:00:01\r\u001b[K     |█████████████████████▎          | 808 kB 9.5 MB/s eta 0:00:01\r\u001b[K     |█████████████████████▋          | 819 kB 9.5 MB/s eta 0:00:01\r\u001b[K     |█████████████████████▉          | 829 kB 9.5 MB/s eta 0:00:01\r\u001b[K     |██████████████████████▏         | 839 kB 9.5 MB/s eta 0:00:01\r\u001b[K     |██████████████████████▍         | 849 kB 9.5 MB/s eta 0:00:01\r\u001b[K     |██████████████████████▊         | 860 kB 9.5 MB/s eta 0:00:01\r\u001b[K     |███████████████████████         | 870 kB 9.5 MB/s eta 0:00:01\r\u001b[K     |███████████████████████▏        | 880 kB 9.5 MB/s eta 0:00:01\r\u001b[K     |███████████████████████▌        | 890 kB 9.5 MB/s eta 0:00:01\r\u001b[K     |███████████████████████▊        | 901 kB 9.5 MB/s eta 0:00:01\r\u001b[K     |████████████████████████        | 911 kB 9.5 MB/s eta 0:00:01\r\u001b[K     |████████████████████████▎       | 921 kB 9.5 MB/s eta 0:00:01\r\u001b[K     |████████████████████████▋       | 931 kB 9.5 MB/s eta 0:00:01\r\u001b[K     |████████████████████████▉       | 942 kB 9.5 MB/s eta 0:00:01\r\u001b[K     |█████████████████████████       | 952 kB 9.5 MB/s eta 0:00:01\r\u001b[K     |█████████████████████████▍      | 962 kB 9.5 MB/s eta 0:00:01\r\u001b[K     |█████████████████████████▋      | 972 kB 9.5 MB/s eta 0:00:01\r\u001b[K     |██████████████████████████      | 983 kB 9.5 MB/s eta 0:00:01\r\u001b[K     |██████████████████████████▏     | 993 kB 9.5 MB/s eta 0:00:01\r\u001b[K     |██████████████████████████▌     | 1.0 MB 9.5 MB/s eta 0:00:01\r\u001b[K     |██████████████████████████▊     | 1.0 MB 9.5 MB/s eta 0:00:01\r\u001b[K     |███████████████████████████     | 1.0 MB 9.5 MB/s eta 0:00:01\r\u001b[K     |███████████████████████████▎    | 1.0 MB 9.5 MB/s eta 0:00:01\r\u001b[K     |███████████████████████████▌    | 1.0 MB 9.5 MB/s eta 0:00:01\r\u001b[K     |███████████████████████████▉    | 1.1 MB 9.5 MB/s eta 0:00:01\r\u001b[K     |████████████████████████████    | 1.1 MB 9.5 MB/s eta 0:00:01\r\u001b[K     |████████████████████████████▍   | 1.1 MB 9.5 MB/s eta 0:00:01\r\u001b[K     |████████████████████████████▋   | 1.1 MB 9.5 MB/s eta 0:00:01\r\u001b[K     |████████████████████████████▉   | 1.1 MB 9.5 MB/s eta 0:00:01\r\u001b[K     |█████████████████████████████▏  | 1.1 MB 9.5 MB/s eta 0:00:01\r\u001b[K     |█████████████████████████████▍  | 1.1 MB 9.5 MB/s eta 0:00:01\r\u001b[K     |█████████████████████████████▊  | 1.1 MB 9.5 MB/s eta 0:00:01\r\u001b[K     |██████████████████████████████  | 1.1 MB 9.5 MB/s eta 0:00:01\r\u001b[K     |██████████████████████████████▎ | 1.1 MB 9.5 MB/s eta 0:00:01\r\u001b[K     |██████████████████████████████▌ | 1.2 MB 9.5 MB/s eta 0:00:01\r\u001b[K     |██████████████████████████████▊ | 1.2 MB 9.5 MB/s eta 0:00:01\r\u001b[K     |███████████████████████████████ | 1.2 MB 9.5 MB/s eta 0:00:01\r\u001b[K     |███████████████████████████████▎| 1.2 MB 9.5 MB/s eta 0:00:01\r\u001b[K     |███████████████████████████████▋| 1.2 MB 9.5 MB/s eta 0:00:01\r\u001b[K     |███████████████████████████████▉| 1.2 MB 9.5 MB/s eta 0:00:01\r\u001b[K     |████████████████████████████████| 1.2 MB 9.5 MB/s \n",
            "\u001b[?25hInstalling collected packages: sentencepiece\n",
            "Successfully installed sentencepiece-0.1.96\n"
          ]
        }
      ]
    },
    {
      "cell_type": "code",
      "source": [
        "pip install bert-tensorflow"
      ],
      "metadata": {
        "id": "7opW0CdCvaFt"
      },
      "execution_count": null,
      "outputs": []
    },
    {
      "cell_type": "code",
      "source": [
        "pip install tokenization"
      ],
      "metadata": {
        "id": "gLGw9xuIviYN"
      },
      "execution_count": null,
      "outputs": []
    },
    {
      "cell_type": "code",
      "execution_count": 29,
      "metadata": {
        "id": "glrYY7Ttisma"
      },
      "outputs": [],
      "source": [
        "import gc\n",
        "from matplotlib import rcParams, pyplot as plt\n",
        "import numpy as np\n",
        "import pandas as pd\n",
        "import os\n",
        "from pathlib import Path\n",
        "import re\n",
        "from sklearn.metrics import accuracy_score, log_loss\n",
        "from sklearn.model_selection import StratifiedKFold\n",
        "import sys\n",
        "sys.path.append('../src')\n",
        "\n",
        "import tensorflow as tf\n",
        "from tensorflow.keras import Sequential, Model, Input\n",
        "from tensorflow.keras.backend import clear_session\n",
        "from tensorflow.keras.initializers import Constant\n",
        "from tensorflow.keras.layers import Dense, Embedding, Bidirectional, LSTM, Dropout\n",
        "from tensorflow.keras.layers.experimental.preprocessing import TextVectorization\n",
        "from tensorflow.keras.callbacks import EarlyStopping\n",
        "from tensorflow.keras.utils import plot_model, to_categorical\n",
        "from tensorflow.keras.optimizers import Adam\n",
        "import tensorflow_hub as hub\n",
        "from bert.tokenization import FullTokenizer\n",
        "import tokenization\n",
        "import warnings \n",
        "warnings.filterwarnings(action='ignore')"
      ]
    },
    {
      "cell_type": "code",
      "source": [
        "rcParams['figure.figsize'] = (16,8)\n",
        "plt.style.use('fivethirtyeight')\n",
        "pd.set_option('max_columns', 100)\n",
        "pd.set_option('display.precision', 4)\n",
        "warnings.simplefilter('ignore')"
      ],
      "metadata": {
        "id": "CtPt5O6Civl-"
      },
      "execution_count": null,
      "outputs": []
    },
    {
      "cell_type": "code",
      "source": [
        "# bert tokenizer load\n",
        "\n",
        "module_url = \"https://tfhub.dev/tensorflow/bert_en_uncased_L-24_H-1024_A-16/1\"\n",
        "target_col = \"target\"\n",
        "n_fold = 5\n",
        "n_class = 5\n",
        "seed = 42"
      ],
      "metadata": {
        "id": "MKeFRSiVjsE3"
      },
      "execution_count": null,
      "outputs": []
    },
    {
      "cell_type": "code",
      "source": [
        "algo_name = 'bert'\n",
        "max_len = 100\n",
        "feature_name = f'n{max_len}'\n",
        "model_name = f'{algo_name}_{feature_name}'\n",
        "sub_file = f'{model_name}.csv'"
      ],
      "metadata": {
        "id": "wQTM7AgXkjMw"
      },
      "execution_count": 13,
      "outputs": []
    },
    {
      "cell_type": "code",
      "source": [
        "bert_layer = hub.KerasLayer(module_url, trainable=True)\n",
        "vocab_file = bert_layer.resolved_object.vocab_file.asset_path.numpy()\n",
        "do_lower_case = bert_layer.resolved_object.do_lower_case.numpy()"
      ],
      "metadata": {
        "id": "ArqE0vSsr5yz"
      },
      "execution_count": 31,
      "outputs": []
    },
    {
      "cell_type": "code",
      "source": [
        "def create_tokenizer_from_hub_module(bert_path):\n",
        "    \"\"\"Get the vocab file and casing info from the Hub module.\"\"\"\n",
        "    bert_module =  hub.Module(bert_path)\n",
        "    tokenization_info = bert_module(signature=\"tokenization_info\", as_dict=True)\n",
        "    vocab_file = bert_layer.resolved_object.vocab_file.asset_path.numpy()\n",
        "    do_lower_case = bert_layer.resolved_object.do_lower_case.numpy()\n",
        "\n",
        "    return FullTokenizer(vocab_file=vocab_file, do_lower_case=do_lower_case)"
      ],
      "metadata": {
        "id": "EYez6p05w9XL"
      },
      "execution_count": 39,
      "outputs": []
    },
    {
      "cell_type": "code",
      "source": [
        "BERT_PATH = \"https://tfhub.dev/google/bert_uncased_L-12_H-768_A-12/1\"\n",
        "MAX_SEQ_LENGTH = 512"
      ],
      "metadata": {
        "id": "A8uRU9jyxojv"
      },
      "execution_count": 40,
      "outputs": []
    },
    {
      "cell_type": "code",
      "source": [
        "import tensorflow.compat.v1 as tf"
      ],
      "metadata": {
        "id": "AOWqZAUQyzEN"
      },
      "execution_count": 42,
      "outputs": []
    },
    {
      "cell_type": "code",
      "source": [
        "tokenizer = create_tokenizer_from_hub_module(bert_path=BERT_PATH)"
      ],
      "metadata": {
        "id": "QxdGTnoyxrri"
      },
      "execution_count": null,
      "outputs": []
    },
    {
      "cell_type": "code",
      "source": [
        ""
      ],
      "metadata": {
        "id": "MRgX-NBdxs_b"
      },
      "execution_count": null,
      "outputs": []
    }
  ]
}