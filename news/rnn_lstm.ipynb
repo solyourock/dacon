{
  "nbformat": 4,
  "nbformat_minor": 0,
  "metadata": {
    "colab": {
      "name": "rnn_lstm.ipynb",
      "provenance": [],
      "collapsed_sections": []
    },
    "kernelspec": {
      "name": "python3",
      "display_name": "Python 3"
    },
    "language_info": {
      "name": "python"
    },
    "accelerator": "GPU"
  },
  "cells": [
    {
      "cell_type": "code",
      "execution_count": 4,
      "metadata": {
        "id": "tipuPlARQzg-"
      },
      "outputs": [],
      "source": [
        "import pandas as pd\n",
        "import numpy as np\n",
        "import re\n",
        "\n",
        "import seaborn as sns\n",
        "import matplotlib.pyplot as plt\n",
        "\n",
        "from sklearn.metrics import accuracy_score, log_loss\n",
        "from sklearn.model_selection import StratifiedKFold\n",
        "\n",
        "import tensorflow as tf\n",
        "from tensorflow.keras import Sequential\n",
        "from tensorflow.keras.layers import Dense, Embedding, LSTM, Dropout, Bidirectional\n",
        "from tensorflow.keras.preprocessing.sequence import pad_sequences\n",
        "from tensorflow.keras.preprocessing.text import Tokenizer\n",
        "from tensorflow.keras.callbacks import EarlyStopping, ReduceLROnPlateau\n",
        "from tensorflow.keras.utils import plot_model, to_categorical\n",
        "from tensorflow.keras.optimizers import Adam\n",
        "\n",
        "from keras.utils import np_utils\n",
        "from keras.preprocessing.text import Tokenizer\n",
        "\n",
        "import warnings \n",
        "warnings.filterwarnings(action='ignore')"
      ]
    },
    {
      "cell_type": "code",
      "source": [
        "train = pd.read_csv('train.csv')\n",
        "test = pd.read_csv('test.csv')"
      ],
      "metadata": {
        "id": "fd3XEfj-TZCd"
      },
      "execution_count": 5,
      "outputs": []
    },
    {
      "cell_type": "code",
      "source": [
        "def check_missing_col(df):\n",
        "    missing_col = []\n",
        "    for col in df.columns:\n",
        "        missing_values = sum(df[col].isna())\n",
        "        is_missing = True if missing_values >= 1 else False\n",
        "        if is_missing:\n",
        "            print(f'결측치가 있는 컬럼은: {col}입니다')\n",
        "            print(f'해당 컬럼에 총 {missing_values}개의 결측치가 존재합니다')\n",
        "            missing_col.append([col, df[col].dtype])\n",
        "        if missing_col == []:\n",
        "            print('결측치가 존재하지 않습니다')\n",
        "        return missing_col"
      ],
      "metadata": {
        "id": "jEhJNQTSTor4"
      },
      "execution_count": 6,
      "outputs": []
    },
    {
      "cell_type": "code",
      "source": [
        "missing_col = check_missing_col(train)"
      ],
      "metadata": {
        "colab": {
          "base_uri": "https://localhost:8080/"
        },
        "id": "loNzO3ZyUMNM",
        "outputId": "387f5454-c074-4220-bc28-093759b18479"
      },
      "execution_count": 7,
      "outputs": [
        {
          "output_type": "stream",
          "name": "stdout",
          "text": [
            "결측치가 존재하지 않습니다\n"
          ]
        }
      ]
    },
    {
      "cell_type": "code",
      "source": [
        "missing_col = check_missing_col(test)"
      ],
      "metadata": {
        "colab": {
          "base_uri": "https://localhost:8080/"
        },
        "id": "0AYNifVfUVEG",
        "outputId": "bbd7e65c-8924-4bd1-85bc-2f51a6883a6f"
      },
      "execution_count": 8,
      "outputs": [
        {
          "output_type": "stream",
          "name": "stdout",
          "text": [
            "결측치가 존재하지 않습니다\n"
          ]
        }
      ]
    },
    {
      "cell_type": "code",
      "source": [
        "def clean_text(texts):\n",
        "    corpus = []\n",
        "    for i in range(len(texts)):\n",
        "        review = re.sub(r'[@%\\\\*=()/~#&\\+á?\\xc3\\xa1\\-\\|\\.\\:\\;\\!\\-\\,\\_\\~\\$\\'\\\"\\n\\]\\[\\>]', '',texts[i]) #@%*=()/+ 와 같은 문장부호 제거\n",
        "        review = re.sub(r'\\d+','', review)#숫자 제거\n",
        "        review = review.lower() #소문자 변환\n",
        "        review = re.sub(r'\\s+', ' ', review) #extra space 제거\n",
        "        review = re.sub(r'<[^>]+>','',review) #Html tags 제거\n",
        "        review = re.sub(r'\\s+', ' ', review) #spaces 제거\n",
        "        review = re.sub(r\"^\\s+\", '', review) #space from start 제거\n",
        "        review = re.sub(r'\\s+$', '', review) #space from the end 제거\n",
        "        review = re.sub(r'_', ' ', review) #space from the end 제거\n",
        "        corpus.append(review) \n",
        "    return corpus"
      ],
      "metadata": {
        "id": "Yobpi8jHUXa3"
      },
      "execution_count": 9,
      "outputs": []
    },
    {
      "cell_type": "code",
      "source": [
        "train.head()"
      ],
      "metadata": {
        "colab": {
          "base_uri": "https://localhost:8080/",
          "height": 206
        },
        "id": "nOxnxz7gUe1p",
        "outputId": "19eb51e1-b81f-4c41-f820-996580023880"
      },
      "execution_count": 10,
      "outputs": [
        {
          "output_type": "execute_result",
          "data": {
            "text/plain": [
              "   id                                               text  target\n",
              "0   0  \\nThey were, and even if Washington might cons...      10\n",
              "1   1  We run \"SpaceNews & Views\" on our STAREACH BBS...      14\n",
              "2   2  \\n\\n\\nNot to worry.  The Masons have been demo...      19\n",
              "3   3  Only Brendan McKay, or maybe ARF, would come t...      17\n",
              "4   4  Help: I am running some sample problems from O...       5"
            ],
            "text/html": [
              "\n",
              "  <div id=\"df-c78be398-7f5e-4145-90a0-b8c84e2abf5b\">\n",
              "    <div class=\"colab-df-container\">\n",
              "      <div>\n",
              "<style scoped>\n",
              "    .dataframe tbody tr th:only-of-type {\n",
              "        vertical-align: middle;\n",
              "    }\n",
              "\n",
              "    .dataframe tbody tr th {\n",
              "        vertical-align: top;\n",
              "    }\n",
              "\n",
              "    .dataframe thead th {\n",
              "        text-align: right;\n",
              "    }\n",
              "</style>\n",
              "<table border=\"1\" class=\"dataframe\">\n",
              "  <thead>\n",
              "    <tr style=\"text-align: right;\">\n",
              "      <th></th>\n",
              "      <th>id</th>\n",
              "      <th>text</th>\n",
              "      <th>target</th>\n",
              "    </tr>\n",
              "  </thead>\n",
              "  <tbody>\n",
              "    <tr>\n",
              "      <th>0</th>\n",
              "      <td>0</td>\n",
              "      <td>\\nThey were, and even if Washington might cons...</td>\n",
              "      <td>10</td>\n",
              "    </tr>\n",
              "    <tr>\n",
              "      <th>1</th>\n",
              "      <td>1</td>\n",
              "      <td>We run \"SpaceNews &amp; Views\" on our STAREACH BBS...</td>\n",
              "      <td>14</td>\n",
              "    </tr>\n",
              "    <tr>\n",
              "      <th>2</th>\n",
              "      <td>2</td>\n",
              "      <td>\\n\\n\\nNot to worry.  The Masons have been demo...</td>\n",
              "      <td>19</td>\n",
              "    </tr>\n",
              "    <tr>\n",
              "      <th>3</th>\n",
              "      <td>3</td>\n",
              "      <td>Only Brendan McKay, or maybe ARF, would come t...</td>\n",
              "      <td>17</td>\n",
              "    </tr>\n",
              "    <tr>\n",
              "      <th>4</th>\n",
              "      <td>4</td>\n",
              "      <td>Help: I am running some sample problems from O...</td>\n",
              "      <td>5</td>\n",
              "    </tr>\n",
              "  </tbody>\n",
              "</table>\n",
              "</div>\n",
              "      <button class=\"colab-df-convert\" onclick=\"convertToInteractive('df-c78be398-7f5e-4145-90a0-b8c84e2abf5b')\"\n",
              "              title=\"Convert this dataframe to an interactive table.\"\n",
              "              style=\"display:none;\">\n",
              "        \n",
              "  <svg xmlns=\"http://www.w3.org/2000/svg\" height=\"24px\"viewBox=\"0 0 24 24\"\n",
              "       width=\"24px\">\n",
              "    <path d=\"M0 0h24v24H0V0z\" fill=\"none\"/>\n",
              "    <path d=\"M18.56 5.44l.94 2.06.94-2.06 2.06-.94-2.06-.94-.94-2.06-.94 2.06-2.06.94zm-11 1L8.5 8.5l.94-2.06 2.06-.94-2.06-.94L8.5 2.5l-.94 2.06-2.06.94zm10 10l.94 2.06.94-2.06 2.06-.94-2.06-.94-.94-2.06-.94 2.06-2.06.94z\"/><path d=\"M17.41 7.96l-1.37-1.37c-.4-.4-.92-.59-1.43-.59-.52 0-1.04.2-1.43.59L10.3 9.45l-7.72 7.72c-.78.78-.78 2.05 0 2.83L4 21.41c.39.39.9.59 1.41.59.51 0 1.02-.2 1.41-.59l7.78-7.78 2.81-2.81c.8-.78.8-2.07 0-2.86zM5.41 20L4 18.59l7.72-7.72 1.47 1.35L5.41 20z\"/>\n",
              "  </svg>\n",
              "      </button>\n",
              "      \n",
              "  <style>\n",
              "    .colab-df-container {\n",
              "      display:flex;\n",
              "      flex-wrap:wrap;\n",
              "      gap: 12px;\n",
              "    }\n",
              "\n",
              "    .colab-df-convert {\n",
              "      background-color: #E8F0FE;\n",
              "      border: none;\n",
              "      border-radius: 50%;\n",
              "      cursor: pointer;\n",
              "      display: none;\n",
              "      fill: #1967D2;\n",
              "      height: 32px;\n",
              "      padding: 0 0 0 0;\n",
              "      width: 32px;\n",
              "    }\n",
              "\n",
              "    .colab-df-convert:hover {\n",
              "      background-color: #E2EBFA;\n",
              "      box-shadow: 0px 1px 2px rgba(60, 64, 67, 0.3), 0px 1px 3px 1px rgba(60, 64, 67, 0.15);\n",
              "      fill: #174EA6;\n",
              "    }\n",
              "\n",
              "    [theme=dark] .colab-df-convert {\n",
              "      background-color: #3B4455;\n",
              "      fill: #D2E3FC;\n",
              "    }\n",
              "\n",
              "    [theme=dark] .colab-df-convert:hover {\n",
              "      background-color: #434B5C;\n",
              "      box-shadow: 0px 1px 3px 1px rgba(0, 0, 0, 0.15);\n",
              "      filter: drop-shadow(0px 1px 2px rgba(0, 0, 0, 0.3));\n",
              "      fill: #FFFFFF;\n",
              "    }\n",
              "  </style>\n",
              "\n",
              "      <script>\n",
              "        const buttonEl =\n",
              "          document.querySelector('#df-c78be398-7f5e-4145-90a0-b8c84e2abf5b button.colab-df-convert');\n",
              "        buttonEl.style.display =\n",
              "          google.colab.kernel.accessAllowed ? 'block' : 'none';\n",
              "\n",
              "        async function convertToInteractive(key) {\n",
              "          const element = document.querySelector('#df-c78be398-7f5e-4145-90a0-b8c84e2abf5b');\n",
              "          const dataTable =\n",
              "            await google.colab.kernel.invokeFunction('convertToInteractive',\n",
              "                                                     [key], {});\n",
              "          if (!dataTable) return;\n",
              "\n",
              "          const docLinkHtml = 'Like what you see? Visit the ' +\n",
              "            '<a target=\"_blank\" href=https://colab.research.google.com/notebooks/data_table.ipynb>data table notebook</a>'\n",
              "            + ' to learn more about interactive tables.';\n",
              "          element.innerHTML = '';\n",
              "          dataTable['output_type'] = 'display_data';\n",
              "          await google.colab.output.renderOutput(dataTable, element);\n",
              "          const docLink = document.createElement('div');\n",
              "          docLink.innerHTML = docLinkHtml;\n",
              "          element.appendChild(docLink);\n",
              "        }\n",
              "      </script>\n",
              "    </div>\n",
              "  </div>\n",
              "  "
            ]
          },
          "metadata": {},
          "execution_count": 10
        }
      ]
    },
    {
      "cell_type": "code",
      "source": [
        "train['text'] = clean_text(train['text'])"
      ],
      "metadata": {
        "id": "71kydHy_Ub54"
      },
      "execution_count": 11,
      "outputs": []
    },
    {
      "cell_type": "code",
      "source": [
        "test['text'] = clean_text(test['text'])"
      ],
      "metadata": {
        "id": "srlXs0Y6Uide"
      },
      "execution_count": 12,
      "outputs": []
    },
    {
      "cell_type": "code",
      "source": [
        "# 문장 길이 분포도 확인\n",
        "train['doc_len'] = train['text'].apply(lambda x:len(x.split()))"
      ],
      "metadata": {
        "id": "d6of9SDmbVME"
      },
      "execution_count": 13,
      "outputs": []
    },
    {
      "cell_type": "code",
      "source": [
        "def plot_doc_lengths(df):\n",
        "  mean_seq_len = np.round(df['doc_len'].mean()).astype(int)\n",
        "  sns.distplot(tuple(df['doc_len']), hist=True, kde=True, label='lengths')\n",
        "  plt.axvline(x=mean_seq_len, color='k', linestyle='--', label=f'mean:{mean_seq_len}')\n",
        "  plt.title('lengths')\n",
        "  plt.legend()\n",
        "  plt.show()\n",
        "  print(f\" 가장 긴 문장은 {train['doc_len'].max()} 개의 단어, 가장 짧은 문장은 {train['doc_len'].min()} 개의 단어\")"
      ],
      "metadata": {
        "id": "YtxNGy6ScQNX"
      },
      "execution_count": 14,
      "outputs": []
    },
    {
      "cell_type": "code",
      "source": [
        "plot_doc_lengths(train)"
      ],
      "metadata": {
        "colab": {
          "base_uri": "https://localhost:8080/",
          "height": 299
        },
        "id": "HQII2gSOdW0C",
        "outputId": "75c967e4-d772-49b3-8264-e096413496d6"
      },
      "execution_count": 15,
      "outputs": [
        {
          "output_type": "display_data",
          "data": {
            "text/plain": [
              "<Figure size 432x288 with 1 Axes>"
            ],
            "image/png": "[encoded data removed]"
          },
          "metadata": {
            "needs_background": "light"
          }
        },
        {
          "output_type": "stream",
          "name": "stdout",
          "text": [
            " 가장 긴 문장은 9771 개의 단어, 가장 짧은 문장은 0 개의 단어\n"
          ]
        }
      ]
    },
    {
      "cell_type": "code",
      "source": [
        "# 2. Vectorization\n",
        "# 2-1. Tokenization\n",
        "# 인덱스 없이 배열로 만들기\n",
        "X_train = np.array([x for x in train['text']])\n",
        "X_test = np.array([x for x in test['text']])\n",
        "Y_train = np.array([x for x in train['target']])"
      ],
      "metadata": {
        "id": "oqtnQM5fUn4b"
      },
      "execution_count": 16,
      "outputs": []
    },
    {
      "cell_type": "code",
      "source": [
        "# tokenizer는 데이터에 있는 모든 단어의 개수를 세고 빈도 수를 정렬해서 num_words에 지정된 만큼만 숫자로 반환하고 나머지는 0으로 반환\n",
        "vocab_size = 2000\n",
        "tokenizer = Tokenizer(num_words = vocab_size)\n",
        "tokenizer.fit_on_texts(X_train) # tokenizer에 데이터 실제로 입력\n",
        "sequences_train = tokenizer.texts_to_sequences(X_train) # 문장 내 모든 단어를 시퀸스 번호로 변환\n",
        "sequences_test = tokenizer.texts_to_sequences(X_test)\n",
        "\n",
        "print (len(sequences_train), len(sequences_test))"
      ],
      "metadata": {
        "colab": {
          "base_uri": "https://localhost:8080/"
        },
        "id": "QAOxea1DW10g",
        "outputId": "e8b0f706-c3aa-43d2-b978-21cf2f936e74"
      },
      "execution_count": 17,
      "outputs": [
        {
          "output_type": "stream",
          "name": "stdout",
          "text": [
            "9233 9233\n"
          ]
        }
      ]
    },
    {
      "cell_type": "code",
      "source": [
        "# 3. Embedding\n",
        "# 변환된 시퀸스 번호를 이용해 단어 임베딩 벡터 생성\n",
        "word_index = tokenizer.word_index"
      ],
      "metadata": {
        "id": "3yNCdITSXRkY"
      },
      "execution_count": 18,
      "outputs": []
    },
    {
      "cell_type": "code",
      "source": [
        "# 독립변수 데이터 전처리\n",
        "# 문장의 길이가 제각각이기 때문에 벡터 크기 다 다름\n",
        "# 그러므로 최대 시퀸스 길이 크기(211)만큼 넉넉하게 늘리고 패딩 작업을 통해 나머지 빈 공간을 0으로 채움\n",
        "max_length = 2000\n",
        "padding_type = 'post'\n",
        "\n",
        "pad_X_train = pad_sequences(sequences_train, padding='post', maxlen=max_length)\n",
        "pad_X_test = pad_sequences(sequences_test, padding=padding_type, maxlen=max_length)"
      ],
      "metadata": {
        "id": "jbCaq-Eial6K"
      },
      "execution_count": 19,
      "outputs": []
    },
    {
      "cell_type": "code",
      "source": [
        "# 종속변수 데이터 전처리\n",
        "onehot_Y_train = np_utils.to_categorical(Y_train)"
      ],
      "metadata": {
        "id": "q4EaqZ4tbNE5"
      },
      "execution_count": 20,
      "outputs": []
    },
    {
      "cell_type": "code",
      "source": [
        "# 4. Modeling\n",
        "# 4-1. simple RNN\n",
        "vocab_size = 2000\n",
        "embedding_dim = 200\n",
        "max_length = 2000\n",
        "padding_type='post'"
      ],
      "metadata": {
        "id": "HMF2wHz7eLLb"
      },
      "execution_count": 21,
      "outputs": []
    },
    {
      "cell_type": "code",
      "source": [
        "# simple rnn레이어를 사용한 모델 정의\n",
        "model1 = Sequential([Embedding(vocab_size, embedding_dim, input_length=max_length),\n",
        "                     tf.keras.layers.SimpleRNN(units=64, return_sequences=True),\n",
        "                     tf.keras.layers.SimpleRNN(units=64, return_sequences=True),\n",
        "                     tf.keras.layers.SimpleRNN(units=64),\n",
        "                     Dense(20, activation='softmax')]) # 결과값이 0~19 이므로 Dense(20)\n",
        "model1.compile(loss='categorical_crossentropy',\n",
        "               optimizer='adam',\n",
        "               metrics=['accuracy'])\n",
        "model1.summary()"
      ],
      "metadata": {
        "colab": {
          "base_uri": "https://localhost:8080/"
        },
        "id": "aDXAo1Fqn8az",
        "outputId": "51861056-3d25-44e3-86de-a441bb04bd5f"
      },
      "execution_count": 22,
      "outputs": [
        {
          "output_type": "stream",
          "name": "stdout",
          "text": [
            "Model: \"sequential\"\n",
            "_________________________________________________________________\n",
            " Layer (type)                Output Shape              Param #   \n",
            "=================================================================\n",
            " embedding (Embedding)       (None, 2000, 200)         400000    \n",
            "                                                                 \n",
            " simple_rnn (SimpleRNN)      (None, 2000, 64)          16960     \n",
            "                                                                 \n",
            " simple_rnn_1 (SimpleRNN)    (None, 2000, 64)          8256      \n",
            "                                                                 \n",
            " simple_rnn_2 (SimpleRNN)    (None, 64)                8256      \n",
            "                                                                 \n",
            " dense (Dense)               (None, 20)                1300      \n",
            "                                                                 \n",
            "=================================================================\n",
            "Total params: 434,772\n",
            "Trainable params: 434,772\n",
            "Non-trainable params: 0\n",
            "_________________________________________________________________\n"
          ]
        }
      ]
    },
    {
      "cell_type": "code",
      "source": [
        "# 모델 실행\n",
        "history = model1.fit(pad_X_train, onehot_Y_train, epochs=10, batch_size=100, validation_split=0.2)"
      ],
      "metadata": {
        "colab": {
          "base_uri": "https://localhost:8080/"
        },
        "id": "7vlCRra5pV_n",
        "outputId": "49c43a68-933c-4664-9e86-7f1e29bbe517"
      },
      "execution_count": null,
      "outputs": [
        {
          "output_type": "stream",
          "name": "stdout",
          "text": [
            "Epoch 1/10\n",
            " 9/74 [==>...........................] - ETA: 6:25 - loss: 3.0697 - accuracy: 0.0578"
          ]
        }
      ]
    },
    {
      "cell_type": "code",
      "source": [
        "# 학습 결과 확인\n",
        "plt.figure(figsize=(12,4))\n",
        "plt.title('Model 1', fontsize=15)\n",
        "\n",
        "plt.subplot(1, 2, 1)\n",
        "plt.title('loss of Model1', fontsize=15)\n",
        "plt.plot(history.history['loss'], 'b-', label='loss')\n",
        "plt.plot(history.history['val_loss'], 'r--', label='val_loss')\n",
        "plt.xlabel('Epoch')\n",
        "plt.legend()\n",
        "\n",
        "plt.subplot(1, 2, 2)\n",
        "plt.title('accuracy of model1 ', fontsize= 15)\n",
        "plt.plot(history.history['accuracy'], 'g-', label='accuracy')\n",
        "plt.plot(history.history['val_accuracy'],'k--', label='val_accuracy')\n",
        "plt.xlabel('Epoch')\n",
        "plt.legend()\n",
        "plt.show"
      ],
      "metadata": {
        "id": "LNEBN_harJ5T"
      },
      "execution_count": null,
      "outputs": []
    },
    {
      "cell_type": "code",
      "source": [
        "# 4-2. 단방향 LSTM\n",
        "# 파라미터 설정\n",
        "vocab_size = 2000\n",
        "embedding_dim = 200\n",
        "max_length = 2000\n",
        "padding_type = 'post'"
      ],
      "metadata": {
        "id": "izQlDnTbuASm"
      },
      "execution_count": null,
      "outputs": []
    },
    {
      "cell_type": "code",
      "source": [
        "# LSTM 레이어 사용한 모델\n",
        "model2 = Sequential([Embedding(vocab_size, embedding_dim, input_length=max_length),\n",
        "                     tf.keras.layers.LSTM(units=64, return_sequences=True),\n",
        "                     tf.keras.layers.LSTM(units=64, return_sequences=True),\n",
        "                     tf.keras.layers.LSTM(units=64),\n",
        "                     Dense(20, activation='softmax')])\n",
        "\n",
        "model2.compile(loss='categorical_crossentropy',\n",
        "               optimizer='adam',\n",
        "               metrics=['accuracy'])\n",
        "model2.summary()"
      ],
      "metadata": {
        "id": "42s-p2W4scSY"
      },
      "execution_count": null,
      "outputs": []
    },
    {
      "cell_type": "code",
      "source": [
        "# 모델 실행\n",
        "history2 = model2.fit(pad_X_train, onehot_Y_train, epochs=10, batch_size=100, validation_split=0.2)"
      ],
      "metadata": {
        "id": "mrTQWyrIvOHi"
      },
      "execution_count": null,
      "outputs": []
    },
    {
      "cell_type": "code",
      "source": [
        "# 학습 결과 확인\n",
        "plt.figure(figsize=(12,4))\n",
        "plt.title('Model 2', fontsize=15)\n",
        "\n",
        "plt.subplot(1, 2, 1)\n",
        "plt.title('loss of Model2', fontsize=15)\n",
        "plt.plot(history2.history['loss'], 'b-', label='loss')\n",
        "plt.plot(history2.history['val_loss'], 'r--', label='val_loss')\n",
        "plt.xlabel('Epoch')\n",
        "plt.legend()\n",
        "\n",
        "plt.subplot(1, 2, 2)\n",
        "plt.title('accuracy of Model2', fontsize= 15)\n",
        "plt.plot(history2.history['accuracy'], 'g-', label='accuracy')\n",
        "plt.plot(history2.history['val_accuracy'],'k--', label='val_accuracy')\n",
        "plt.xlabel('Epoch')\n",
        "plt.legend()\n",
        "plt.show"
      ],
      "metadata": {
        "id": "YTD9ODgDxszK"
      },
      "execution_count": null,
      "outputs": []
    },
    {
      "cell_type": "code",
      "source": [
        "# 4-3. 양방향 LSTM\n",
        "vocab_size = 2000\n",
        "embedding_dim = 200\n",
        "max_length = 2000\n",
        "padding_type = 'post'"
      ],
      "metadata": {
        "id": "pz_dRgLWzY70"
      },
      "execution_count": null,
      "outputs": []
    },
    {
      "cell_type": "code",
      "source": [
        "# 모델 정의\n",
        "model3 = Sequential([Embedding(vocab_size, embedding_dim, input_length=max_length),\n",
        "                     tf.keras.layers.Bidirectional(LSTM(units=64, return_sequences=True)),\n",
        "                     tf.keras.layers.Bidirectional(LSTM(units=64, return_sequences=True)),\n",
        "                     tf.keras.layers.Bidirectional(LSTM(units=64)),\n",
        "                     Dense(20, activation='softmax')])\n",
        "model3.compile(loss='categorical_crossentropy',\n",
        "               optimizer='adam',\n",
        "               metrics=['accuracy'])\n",
        "model3.summary()"
      ],
      "metadata": {
        "id": "VLrx7JIRzlZE"
      },
      "execution_count": null,
      "outputs": []
    },
    {
      "cell_type": "code",
      "source": [
        "# 모델 실행\n",
        "history3 = model3.fit(pad_X_train, onehot_Y_train, epochs=50, batch_size=100, validation_split=0.2)"
      ],
      "metadata": {
        "id": "ICNX4uyh0cak"
      },
      "execution_count": null,
      "outputs": []
    },
    {
      "cell_type": "code",
      "source": [
        "# 학습 결과 확인\n",
        "plt.figure(figsize=(12,4))\n",
        "plt.title('Model 3', fontsize=15)\n",
        "\n",
        "plt.subplot(1, 2, 1)\n",
        "plt.title('loss of Model3', fontsize=15)\n",
        "plt.plot(history3.history['loss'], 'b-', label='loss')\n",
        "plt.plot(history3.history['val_loss'], 'r--', label='val_loss')\n",
        "plt.xlabel('Epoch')\n",
        "plt.legend()\n",
        "\n",
        "plt.subplot(1, 2, 2)\n",
        "plt.title('accuracy of Model3', fontsize= 15)\n",
        "plt.plot(history3.history['accuracy'], 'g-', label='accuracy')\n",
        "plt.plot(history3.history['val_accuracy'],'k--', label='val_accuracy')\n",
        "plt.xlabel('Epoch')\n",
        "plt.legend()\n",
        "plt.show"
      ],
      "metadata": {
        "id": "qGnIvzUl0m3-"
      },
      "execution_count": null,
      "outputs": []
    },
    {
      "cell_type": "code",
      "source": [
        "# 4-4. 교차 검증 적용\n",
        "# 계층 교차검증 StratifiedKFold 적용하고 모델 일반화\n",
        "n_fold = 5  \n",
        "seed = 42\n",
        "\n",
        "cv = StratifiedKFold(n_splits = n_fold, shuffle=True, random_state=seed)\n",
        "\n",
        "for i, (i_trn, i_val) in enumerate(cv.split(pad_X_train, Y_train), 1):\n",
        "    print(f'training model for CV #{i}')\n",
        "\n",
        "    model3.fit(pad_X_train[i_trn], \n",
        "            to_categorical(Y_train[i_trn]),\n",
        "            validation_data=(pad_X_train[i_val], to_categorical(Y_train[i_val])),\n",
        "            epochs=10,\n",
        "            batch_size=64)\n"
      ],
      "metadata": {
        "id": "VB1Qrh4b00Vh"
      },
      "execution_count": null,
      "outputs": []
    },
    {
      "cell_type": "code",
      "source": [
        "# 계층 교차검증\n",
        "n_fold = 5  \n",
        "seed = 42\n",
        "\n",
        "cv = StratifiedKFold(n_splits = n_fold, shuffle=True, random_state=seed)\n",
        "y_test = np.zeros((test_x.shape[0], 5))\n",
        "#조기 종료\n",
        "es = EarlyStopping(monitor='val_loss', min_delta=0.001, patience=3,\n",
        "                   verbose=1, mode='min', baseline=None, restore_best_weights=True)\n",
        "\n",
        "for i, (i_trn, i_val) in enumerate(cv.split(pad_X_train, Y_train), 1):\n",
        "    print(f'training model for CV #{i}')\n",
        "\n",
        "    model3.fit(pad_X_train[i_trn], \n",
        "            to_categorical(Y_train[i_trn]),\n",
        "            validation_data=(pad_X_train[i_val], to_categorical(Y_train[i_val])),\n",
        "            epochs=10,\n",
        "            batch_size=64,\n",
        "            callbacks=[es])\n",
        "    \n",
        "    test_y += model3.predict(pad_X_test)/n_fold # 예측값들을 교차 검증 횟수로 나눈다\n"
      ],
      "metadata": {
        "id": "A5gHTeuxHOGj"
      },
      "execution_count": null,
      "outputs": []
    }
  ]
}