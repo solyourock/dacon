{
 "cells": [
  {
   "cell_type": "code",
   "execution_count": 4,
   "id": "c753beac",
   "metadata": {},
   "outputs": [],
   "source": [
    "import re\n",
    "import swifter\n",
    "import nltk\n",
    "import pandas as pd\n",
    "import numpy as np\n",
    "from nltk.corpus import stopwords\n",
    "from collections import Counter\n",
    "from sklearn.feature_extraction.text import CountVectorizer, TfidfVectorizer\n",
    "from sklearn.linear_model import LogisticRegression"
   ]
  },
  {
   "cell_type": "code",
   "execution_count": 2,
   "id": "e279592b",
   "metadata": {},
   "outputs": [],
   "source": [
    "train = pd.read_csv('data/train.csv')\n",
    "test = pd.read_csv('data/test.csv')\n",
    "submission = pd.read_csv(\"data/sample_submission.csv\")"
   ]
  },
  {
   "cell_type": "code",
   "execution_count": null,
   "id": "a5d1c00e",
   "metadata": {},
   "outputs": [],
   "source": [
    "# 결측치 확인\n",
    "def check_missing_col(df):\n",
    "    missing_col = []\n",
    "    for col in df.columns:\n",
    "        missing_values = sum(df[col].isna())\n",
    "        is_missing = True if missing_values >= 1 else False\n",
    "        if is_missing:\n",
    "            print(f'결측치가 있는 컬럼은: {col}입니다')\n",
    "            print(f'해당 컬럼에 총 {missing_values}개의 결측치가 존재합니다')\n",
    "            missing_col.append([col, df[col].dtype])\n",
    "        if missing_col == []:\n",
    "            print('결측치가 존재하지 않습니다')\n",
    "        return missing_col"
   ]
  },
  {
   "cell_type": "code",
   "execution_count": null,
   "id": "ec6a3519",
   "metadata": {},
   "outputs": [],
   "source": [
    "def clean_text(texts):\n",
    "    corpus = []\n",
    "    for i in range(len(texts)):\n",
    "        review = re.sub(r'[@%\\\\*=()/~#&\\+á?\\xc3\\xa1\\-\\|\\.\\:\\;\\!\\-\\,\\_\\~\\$\\'\\\"\\n\\]\\[\\>]', '',texts[i]) #@%*=()/+ 와 같은 문장부호 제거\n",
    "        review = re.sub(r'\\d+','', review)#숫자 제거\n",
    "        review = review.lower() #소문자 변환\n",
    "        review = re.sub(r'\\s+', ' ', review) #extra space 제거\n",
    "        review = re.sub(r'<[^>]+>','',review) #Html tags 제거\n",
    "        review = re.sub(r'\\s+', ' ', review) #spaces 제거\n",
    "        review = re.sub(r\"^\\s+\", '', review) #space from start 제거\n",
    "        review = re.sub(r'\\s+$', '', review) #space from the end 제거\n",
    "        review = re.sub(r'_', ' ', review) #space from the end 제거\n",
    "        corpus.append(review) \n",
    "    return corpus"
   ]
  },
  {
   "cell_type": "code",
   "execution_count": null,
   "id": "51425b1a",
   "metadata": {},
   "outputs": [],
   "source": [
    "missing_col = check_missing_col(train)"
   ]
  },
  {
   "cell_type": "code",
   "execution_count": null,
   "id": "4eee778c",
   "metadata": {},
   "outputs": [],
   "source": [
    "missing_col = check_missing_col(test)"
   ]
  },
  {
   "cell_type": "code",
   "execution_count": null,
   "id": "23c06de8",
   "metadata": {},
   "outputs": [],
   "source": [
    "wlem = nltk.WordNetLemmatizer()\n",
    "stopwords_list = stopwords.words('english')"
   ]
  },
  {
   "cell_type": "code",
   "execution_count": null,
   "id": "d253c01b",
   "metadata": {},
   "outputs": [],
   "source": [
    "train['text'] = clean_text(train['text'])\n",
    "test['text'] = clean_text(test['text'])"
   ]
  },
  {
   "cell_type": "code",
   "execution_count": null,
   "id": "0d173123",
   "metadata": {},
   "outputs": [],
   "source": [
    "train['tokenized'] = train['text'].apply(nltk.word_tokenize)\n",
    "train['tokenized'] = train['tokenized'].apply(lambda x: [item for item in x if item not in stopwords_list])\n",
    "train['text_re'] = train['tokenized'].apply(lambda x:' '.join(x))"
   ]
  },
  {
   "cell_type": "code",
   "execution_count": null,
   "id": "12e2064d",
   "metadata": {},
   "outputs": [],
   "source": [
    "test['tokenized'] = test['text'].apply(nltk.word_tokenize)\n",
    "test['tokenized'] = test['tokenized'].apply(lambda x: [item for item in x if item not in stopwords_list])\n",
    "test['text_re'] = test['tokenized'].apply(lambda x:' '.join(x))"
   ]
  },
  {
   "cell_type": "code",
   "execution_count": 5,
   "id": "a0e3937b",
   "metadata": {},
   "outputs": [],
   "source": [
    "vectorizer = TfidfVectorizer(ngram_range=(1, 2))\n",
    "X = vectorizer.fit_transform(np.array(train[\"text\"]))\n",
    "X_test = vectorizer.transform(test[\"text\"])"
   ]
  },
  {
   "cell_type": "code",
   "execution_count": null,
   "id": "48f577e9",
   "metadata": {},
   "outputs": [],
   "source": [
    "# vectorizer = CountVectorizer()\n",
    "# X = vectorizer.fit_transform(train['text_re'])\n",
    "# X_test = vectorizer.transform(test['text_re'])"
   ]
  },
  {
   "cell_type": "code",
   "execution_count": null,
   "id": "935ddeba",
   "metadata": {},
   "outputs": [],
   "source": [
    "X_test = vectorizer.transform(test['text_re'])"
   ]
  },
  {
   "cell_type": "code",
   "execution_count": 6,
   "id": "d715e63a",
   "metadata": {},
   "outputs": [],
   "source": [
    "y = train['target']"
   ]
  },
  {
   "cell_type": "code",
   "execution_count": 8,
   "id": "28335971",
   "metadata": {},
   "outputs": [
    {
     "data": {
      "text/plain": [
       "LogisticRegression(max_iter=500)"
      ]
     },
     "execution_count": 8,
     "metadata": {},
     "output_type": "execute_result"
    }
   ],
   "source": [
    "# logistic regression\n",
    "model = LogisticRegression(max_iter=500)\n",
    "model.fit(X, y)"
   ]
  },
  {
   "cell_type": "code",
   "execution_count": 9,
   "id": "c2bd8b53",
   "metadata": {},
   "outputs": [],
   "source": [
    "pred = model.predict(X_test)\n",
    "submission['target'] = pred\n",
    "submission.to_csv(\"data/submission0408(2).csv\", index = False)"
   ]
  },
  {
   "cell_type": "code",
   "execution_count": null,
   "id": "886f5f62",
   "metadata": {},
   "outputs": [],
   "source": [
    "# 앙상블 모델\n",
    "# 파라미터 튜닝\n",
    "\n",
    "# https://dacon.io/competitions/official/235670/codeshare/1893?page=1&dtype=recent"
   ]
  }
 ],
 "metadata": {
  "kernelspec": {
   "display_name": "Python 3",
   "language": "python",
   "name": "python3"
  },
  "language_info": {
   "codemirror_mode": {
    "name": "ipython",
    "version": 3
   },
   "file_extension": ".py",
   "mimetype": "text/x-python",
   "name": "python",
   "nbconvert_exporter": "python",
   "pygments_lexer": "ipython3",
   "version": "3.8.6"
  }
 },
 "nbformat": 4,
 "nbformat_minor": 5
}
