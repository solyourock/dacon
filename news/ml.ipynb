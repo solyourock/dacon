{
 "cells": [
  {
   "cell_type": "code",
   "execution_count": 1,
   "id": "4e4ebc13",
   "metadata": {
    "id": "4e4ebc13"
   },
   "outputs": [],
   "source": [
    "import re\n",
    "import nltk\n",
    "import swifter\n",
    "import pandas as pd\n",
    "import numpy as np\n",
    "from nltk.corpus import stopwords\n",
    "from collections import Counter\n",
    "from sklearn.feature_extraction.text import CountVectorizer, TfidfVectorizer\n",
    "from sklearn.linear_model import LogisticRegression\n",
    "from sklearn.neural_network import MLPClassifier\n",
    "from sklearn.ensemble import RandomForestClassifier"
   ]
  },
  {
   "cell_type": "code",
   "execution_count": 2,
   "id": "de7dde16",
   "metadata": {
    "id": "de7dde16"
   },
   "outputs": [],
   "source": [
    "train = pd.read_csv('data/train.csv')\n",
    "test = pd.read_csv('data/test.csv')\n",
    "submission = pd.read_csv(\"data/sample_submission.csv\")"
   ]
  },
  {
   "cell_type": "code",
   "execution_count": 3,
   "id": "135cdd2e",
   "metadata": {
    "id": "135cdd2e"
   },
   "outputs": [],
   "source": [
    "# 결측치 확인\n",
    "def check_missing_col(df):\n",
    "    missing_col = []\n",
    "    for col in df.columns:\n",
    "        missing_values = sum(df[col].isna())\n",
    "        is_missing = True if missing_values >= 1 else False\n",
    "        if is_missing:\n",
    "            print(f'결측치가 있는 컬럼은: {col}입니다')\n",
    "            print(f'해당 컬럼에 총 {missing_values}개의 결측치가 존재합니다')\n",
    "            missing_col.append([col, df[col].dtype])\n",
    "        if missing_col == []:\n",
    "            print('결측치가 존재하지 않습니다')\n",
    "        return missing_col"
   ]
  },
  {
   "cell_type": "code",
   "execution_count": 4,
   "id": "217f0216",
   "metadata": {
    "id": "217f0216"
   },
   "outputs": [],
   "source": [
    "def clean_text(texts):\n",
    "    corpus = []\n",
    "    for i in range(len(texts)):\n",
    "        review = re.sub(r'[@%\\\\*=()/~#&\\+á?\\xc3\\xa1\\-\\|\\.\\:\\;\\!\\-\\,\\_\\~\\$\\'\\\"\\n\\]\\[\\>]', '',texts[i]) #@%*=()/+ 와 같은 문장부호 제거\n",
    "        review = re.sub(r'\\d+','', review)#숫자 제거\n",
    "        review = review.lower() #소문자 변환\n",
    "        review = re.sub(r'\\s+', ' ', review) #extra space 제거\n",
    "        review = re.sub(r'<[^>]+>','',review) #Html tags 제거\n",
    "        review = re.sub(r'\\s+', ' ', review) #spaces 제거\n",
    "        review = re.sub(r\"^\\s+\", '', review) #space from start 제거\n",
    "        review = re.sub(r'\\s+$', '', review) #space from the end 제거\n",
    "        review = re.sub(r'_', ' ', review) #space from the end 제거\n",
    "        corpus.append(review) \n",
    "    return corpus"
   ]
  },
  {
   "cell_type": "code",
   "execution_count": null,
   "id": "94775a7d",
   "metadata": {
    "colab": {
     "base_uri": "https://localhost:8080/"
    },
    "id": "94775a7d",
    "outputId": "5bbd57f8-1370-463e-935b-c9a67798c89d"
   },
   "outputs": [],
   "source": [
    "missing_col = check_missing_col(train)"
   ]
  },
  {
   "cell_type": "code",
   "execution_count": null,
   "id": "896bafea",
   "metadata": {
    "colab": {
     "base_uri": "https://localhost:8080/"
    },
    "id": "896bafea",
    "outputId": "71534c71-1ce5-4077-ca54-7978d144c1ad"
   },
   "outputs": [],
   "source": [
    "missing_col = check_missing_col(test)"
   ]
  },
  {
   "cell_type": "code",
   "execution_count": 5,
   "id": "62347b86",
   "metadata": {
    "id": "62347b86"
   },
   "outputs": [],
   "source": [
    "train['text'] = clean_text(train['text'])\n",
    "test['text'] = clean_text(test['text'])"
   ]
  },
  {
   "cell_type": "code",
   "execution_count": 6,
   "id": "9a46c176",
   "metadata": {
    "collapsed": true,
    "id": "9a46c176"
   },
   "outputs": [
    {
     "data": {
      "application/vnd.jupyter.widget-view+json": {
       "model_id": "d0c1ec4274c94182b7cfff199d919c02",
       "version_major": 2,
       "version_minor": 0
      },
      "text/plain": [
       "Pandas Apply:   0%|          | 0/9233 [00:00<?, ?it/s]"
      ]
     },
     "metadata": {},
     "output_type": "display_data"
    },
    {
     "ename": "NameError",
     "evalue": "name 'stopwords_list' is not defined",
     "output_type": "error",
     "traceback": [
      "\u001b[0;31m---------------------------------------------------------------------------\u001b[0m",
      "\u001b[0;31mNameError\u001b[0m                                 Traceback (most recent call last)",
      "\u001b[0;32m<ipython-input-6-389467aef19e>\u001b[0m in \u001b[0;36m<module>\u001b[0;34m\u001b[0m\n\u001b[1;32m      1\u001b[0m \u001b[0mtrain\u001b[0m\u001b[0;34m[\u001b[0m\u001b[0;34m'tokenized'\u001b[0m\u001b[0;34m]\u001b[0m \u001b[0;34m=\u001b[0m \u001b[0mtrain\u001b[0m\u001b[0;34m[\u001b[0m\u001b[0;34m'text'\u001b[0m\u001b[0;34m]\u001b[0m\u001b[0;34m.\u001b[0m\u001b[0mswifter\u001b[0m\u001b[0;34m.\u001b[0m\u001b[0mapply\u001b[0m\u001b[0;34m(\u001b[0m\u001b[0mnltk\u001b[0m\u001b[0;34m.\u001b[0m\u001b[0mword_tokenize\u001b[0m\u001b[0;34m)\u001b[0m\u001b[0;34m\u001b[0m\u001b[0;34m\u001b[0m\u001b[0m\n\u001b[0;32m----> 2\u001b[0;31m \u001b[0mtrain\u001b[0m\u001b[0;34m[\u001b[0m\u001b[0;34m'tokenized'\u001b[0m\u001b[0;34m]\u001b[0m \u001b[0;34m=\u001b[0m \u001b[0mtrain\u001b[0m\u001b[0;34m[\u001b[0m\u001b[0;34m'tokenized'\u001b[0m\u001b[0;34m]\u001b[0m\u001b[0;34m.\u001b[0m\u001b[0mswifter\u001b[0m\u001b[0;34m.\u001b[0m\u001b[0mapply\u001b[0m\u001b[0;34m(\u001b[0m\u001b[0;32mlambda\u001b[0m \u001b[0mx\u001b[0m\u001b[0;34m:\u001b[0m \u001b[0;34m[\u001b[0m\u001b[0mitem\u001b[0m \u001b[0;32mfor\u001b[0m \u001b[0mitem\u001b[0m \u001b[0;32min\u001b[0m \u001b[0mx\u001b[0m \u001b[0;32mif\u001b[0m \u001b[0mitem\u001b[0m \u001b[0;32mnot\u001b[0m \u001b[0;32min\u001b[0m \u001b[0mstopwords_list\u001b[0m\u001b[0;34m]\u001b[0m\u001b[0;34m)\u001b[0m\u001b[0;34m\u001b[0m\u001b[0;34m\u001b[0m\u001b[0m\n\u001b[0m\u001b[1;32m      3\u001b[0m \u001b[0mtrain\u001b[0m\u001b[0;34m[\u001b[0m\u001b[0;34m'text_re'\u001b[0m\u001b[0;34m]\u001b[0m \u001b[0;34m=\u001b[0m \u001b[0mtrain\u001b[0m\u001b[0;34m[\u001b[0m\u001b[0;34m'tokenized'\u001b[0m\u001b[0;34m]\u001b[0m\u001b[0;34m.\u001b[0m\u001b[0mswifter\u001b[0m\u001b[0;34m.\u001b[0m\u001b[0mapply\u001b[0m\u001b[0;34m(\u001b[0m\u001b[0;32mlambda\u001b[0m \u001b[0mx\u001b[0m\u001b[0;34m:\u001b[0m\u001b[0;34m' '\u001b[0m\u001b[0;34m.\u001b[0m\u001b[0mjoin\u001b[0m\u001b[0;34m(\u001b[0m\u001b[0mx\u001b[0m\u001b[0;34m)\u001b[0m\u001b[0;34m)\u001b[0m\u001b[0;34m\u001b[0m\u001b[0;34m\u001b[0m\u001b[0m\n",
      "\u001b[0;32m~/miniforge3/envs/m1/lib/python3.8/site-packages/swifter/swifter.py\u001b[0m in \u001b[0;36mapply\u001b[0;34m(self, func, convert_dtype, args, **kwds)\u001b[0m\n\u001b[1;32m    217\u001b[0m         \u001b[0;32mtry\u001b[0m\u001b[0;34m:\u001b[0m  \u001b[0;31m# try to vectorize\u001b[0m\u001b[0;34m\u001b[0m\u001b[0;34m\u001b[0m\u001b[0m\n\u001b[1;32m    218\u001b[0m             \u001b[0;32mwith\u001b[0m \u001b[0msuppress_stdout_stderr_logging\u001b[0m\u001b[0;34m(\u001b[0m\u001b[0;34m)\u001b[0m\u001b[0;34m:\u001b[0m\u001b[0;34m\u001b[0m\u001b[0;34m\u001b[0m\u001b[0m\n\u001b[0;32m--> 219\u001b[0;31m                 \u001b[0mtmp_df\u001b[0m \u001b[0;34m=\u001b[0m \u001b[0mfunc\u001b[0m\u001b[0;34m(\u001b[0m\u001b[0msample\u001b[0m\u001b[0;34m,\u001b[0m \u001b[0;34m*\u001b[0m\u001b[0margs\u001b[0m\u001b[0;34m,\u001b[0m \u001b[0;34m**\u001b[0m\u001b[0mkwds\u001b[0m\u001b[0;34m)\u001b[0m\u001b[0;34m\u001b[0m\u001b[0;34m\u001b[0m\u001b[0m\n\u001b[0m\u001b[1;32m    220\u001b[0m                 \u001b[0msample_df\u001b[0m \u001b[0;34m=\u001b[0m \u001b[0msample\u001b[0m\u001b[0;34m.\u001b[0m\u001b[0mapply\u001b[0m\u001b[0;34m(\u001b[0m\u001b[0mfunc\u001b[0m\u001b[0;34m,\u001b[0m \u001b[0mconvert_dtype\u001b[0m\u001b[0;34m=\u001b[0m\u001b[0mconvert_dtype\u001b[0m\u001b[0;34m,\u001b[0m \u001b[0margs\u001b[0m\u001b[0;34m=\u001b[0m\u001b[0margs\u001b[0m\u001b[0;34m,\u001b[0m \u001b[0;34m**\u001b[0m\u001b[0mkwds\u001b[0m\u001b[0;34m)\u001b[0m\u001b[0;34m\u001b[0m\u001b[0;34m\u001b[0m\u001b[0m\n\u001b[1;32m    221\u001b[0m                 self._validate_apply(\n",
      "\u001b[0;32m<ipython-input-6-389467aef19e>\u001b[0m in \u001b[0;36m<lambda>\u001b[0;34m(x)\u001b[0m\n\u001b[1;32m      1\u001b[0m \u001b[0mtrain\u001b[0m\u001b[0;34m[\u001b[0m\u001b[0;34m'tokenized'\u001b[0m\u001b[0;34m]\u001b[0m \u001b[0;34m=\u001b[0m \u001b[0mtrain\u001b[0m\u001b[0;34m[\u001b[0m\u001b[0;34m'text'\u001b[0m\u001b[0;34m]\u001b[0m\u001b[0;34m.\u001b[0m\u001b[0mswifter\u001b[0m\u001b[0;34m.\u001b[0m\u001b[0mapply\u001b[0m\u001b[0;34m(\u001b[0m\u001b[0mnltk\u001b[0m\u001b[0;34m.\u001b[0m\u001b[0mword_tokenize\u001b[0m\u001b[0;34m)\u001b[0m\u001b[0;34m\u001b[0m\u001b[0;34m\u001b[0m\u001b[0m\n\u001b[0;32m----> 2\u001b[0;31m \u001b[0mtrain\u001b[0m\u001b[0;34m[\u001b[0m\u001b[0;34m'tokenized'\u001b[0m\u001b[0;34m]\u001b[0m \u001b[0;34m=\u001b[0m \u001b[0mtrain\u001b[0m\u001b[0;34m[\u001b[0m\u001b[0;34m'tokenized'\u001b[0m\u001b[0;34m]\u001b[0m\u001b[0;34m.\u001b[0m\u001b[0mswifter\u001b[0m\u001b[0;34m.\u001b[0m\u001b[0mapply\u001b[0m\u001b[0;34m(\u001b[0m\u001b[0;32mlambda\u001b[0m \u001b[0mx\u001b[0m\u001b[0;34m:\u001b[0m \u001b[0;34m[\u001b[0m\u001b[0mitem\u001b[0m \u001b[0;32mfor\u001b[0m \u001b[0mitem\u001b[0m \u001b[0;32min\u001b[0m \u001b[0mx\u001b[0m \u001b[0;32mif\u001b[0m \u001b[0mitem\u001b[0m \u001b[0;32mnot\u001b[0m \u001b[0;32min\u001b[0m \u001b[0mstopwords_list\u001b[0m\u001b[0;34m]\u001b[0m\u001b[0;34m)\u001b[0m\u001b[0;34m\u001b[0m\u001b[0;34m\u001b[0m\u001b[0m\n\u001b[0m\u001b[1;32m      3\u001b[0m \u001b[0mtrain\u001b[0m\u001b[0;34m[\u001b[0m\u001b[0;34m'text_re'\u001b[0m\u001b[0;34m]\u001b[0m \u001b[0;34m=\u001b[0m \u001b[0mtrain\u001b[0m\u001b[0;34m[\u001b[0m\u001b[0;34m'tokenized'\u001b[0m\u001b[0;34m]\u001b[0m\u001b[0;34m.\u001b[0m\u001b[0mswifter\u001b[0m\u001b[0;34m.\u001b[0m\u001b[0mapply\u001b[0m\u001b[0;34m(\u001b[0m\u001b[0;32mlambda\u001b[0m \u001b[0mx\u001b[0m\u001b[0;34m:\u001b[0m\u001b[0;34m' '\u001b[0m\u001b[0;34m.\u001b[0m\u001b[0mjoin\u001b[0m\u001b[0;34m(\u001b[0m\u001b[0mx\u001b[0m\u001b[0;34m)\u001b[0m\u001b[0;34m)\u001b[0m\u001b[0;34m\u001b[0m\u001b[0;34m\u001b[0m\u001b[0m\n",
      "\u001b[0;32m<ipython-input-6-389467aef19e>\u001b[0m in \u001b[0;36m<listcomp>\u001b[0;34m(.0)\u001b[0m\n\u001b[1;32m      1\u001b[0m \u001b[0mtrain\u001b[0m\u001b[0;34m[\u001b[0m\u001b[0;34m'tokenized'\u001b[0m\u001b[0;34m]\u001b[0m \u001b[0;34m=\u001b[0m \u001b[0mtrain\u001b[0m\u001b[0;34m[\u001b[0m\u001b[0;34m'text'\u001b[0m\u001b[0;34m]\u001b[0m\u001b[0;34m.\u001b[0m\u001b[0mswifter\u001b[0m\u001b[0;34m.\u001b[0m\u001b[0mapply\u001b[0m\u001b[0;34m(\u001b[0m\u001b[0mnltk\u001b[0m\u001b[0;34m.\u001b[0m\u001b[0mword_tokenize\u001b[0m\u001b[0;34m)\u001b[0m\u001b[0;34m\u001b[0m\u001b[0;34m\u001b[0m\u001b[0m\n\u001b[0;32m----> 2\u001b[0;31m \u001b[0mtrain\u001b[0m\u001b[0;34m[\u001b[0m\u001b[0;34m'tokenized'\u001b[0m\u001b[0;34m]\u001b[0m \u001b[0;34m=\u001b[0m \u001b[0mtrain\u001b[0m\u001b[0;34m[\u001b[0m\u001b[0;34m'tokenized'\u001b[0m\u001b[0;34m]\u001b[0m\u001b[0;34m.\u001b[0m\u001b[0mswifter\u001b[0m\u001b[0;34m.\u001b[0m\u001b[0mapply\u001b[0m\u001b[0;34m(\u001b[0m\u001b[0;32mlambda\u001b[0m \u001b[0mx\u001b[0m\u001b[0;34m:\u001b[0m \u001b[0;34m[\u001b[0m\u001b[0mitem\u001b[0m \u001b[0;32mfor\u001b[0m \u001b[0mitem\u001b[0m \u001b[0;32min\u001b[0m \u001b[0mx\u001b[0m \u001b[0;32mif\u001b[0m \u001b[0mitem\u001b[0m \u001b[0;32mnot\u001b[0m \u001b[0;32min\u001b[0m \u001b[0mstopwords_list\u001b[0m\u001b[0;34m]\u001b[0m\u001b[0;34m)\u001b[0m\u001b[0;34m\u001b[0m\u001b[0;34m\u001b[0m\u001b[0m\n\u001b[0m\u001b[1;32m      3\u001b[0m \u001b[0mtrain\u001b[0m\u001b[0;34m[\u001b[0m\u001b[0;34m'text_re'\u001b[0m\u001b[0;34m]\u001b[0m \u001b[0;34m=\u001b[0m \u001b[0mtrain\u001b[0m\u001b[0;34m[\u001b[0m\u001b[0;34m'tokenized'\u001b[0m\u001b[0;34m]\u001b[0m\u001b[0;34m.\u001b[0m\u001b[0mswifter\u001b[0m\u001b[0;34m.\u001b[0m\u001b[0mapply\u001b[0m\u001b[0;34m(\u001b[0m\u001b[0;32mlambda\u001b[0m \u001b[0mx\u001b[0m\u001b[0;34m:\u001b[0m\u001b[0;34m' '\u001b[0m\u001b[0;34m.\u001b[0m\u001b[0mjoin\u001b[0m\u001b[0;34m(\u001b[0m\u001b[0mx\u001b[0m\u001b[0;34m)\u001b[0m\u001b[0;34m)\u001b[0m\u001b[0;34m\u001b[0m\u001b[0;34m\u001b[0m\u001b[0m\n",
      "\u001b[0;31mNameError\u001b[0m: name 'stopwords_list' is not defined"
     ]
    }
   ],
   "source": [
    "train['tokenized'] = train['text'].swifter.apply(nltk.word_tokenize)\n",
    "train['tokenized'] = train['tokenized'].swifter.apply(lambda x: [item for item in x if item not in stopwords_list])\n",
    "train['text_re'] = train['tokenized'].swifter.apply(lambda x:' '.join(x))"
   ]
  },
  {
   "cell_type": "code",
   "execution_count": null,
   "id": "cfe021d3",
   "metadata": {
    "id": "cfe021d3"
   },
   "outputs": [],
   "source": [
    "test['tokenized'] = test['text'].swifter.apply(nltk.word_tokenize)\n",
    "test['tokenized'] = test['tokenized'].swifter.apply(lambda x: [item for item in x if item not in stopwords_list])\n",
    "test['text_re'] = test['tokenized'].swifter.apply(lambda x:' '.join(x))"
   ]
  },
  {
   "cell_type": "code",
   "execution_count": null,
   "id": "3e80dafe",
   "metadata": {
    "id": "3e80dafe"
   },
   "outputs": [],
   "source": [
    "vectorizer = TfidfVectorizer(ngram_range=(1, 2))\n",
    "X = vectorizer.fit_transform(np.array(train[\"text_re\"]))\n",
    "X_test = vectorizer.transform(test[\"text_re\"])"
   ]
  },
  {
   "cell_type": "code",
   "execution_count": null,
   "id": "caef4117",
   "metadata": {
    "id": "caef4117"
   },
   "outputs": [],
   "source": [
    "# vectorizer = CountVectorizer()\n",
    "# X = vectorizer.fit_transform(train['text_re'])\n",
    "# X_test = vectorizer.transform(test['text_re'])"
   ]
  },
  {
   "cell_type": "code",
   "execution_count": null,
   "id": "ebcb43ea",
   "metadata": {
    "id": "ebcb43ea"
   },
   "outputs": [],
   "source": [
    "y = train['target']"
   ]
  },
  {
   "cell_type": "code",
   "execution_count": null,
   "id": "0fe539cd",
   "metadata": {
    "id": "0fe539cd"
   },
   "outputs": [],
   "source": [
    "# logistic regression\n",
    "logistic = LogisticRegression(max_iter=500)\n",
    "MLP = MLPClassifier()\n",
    "randomforest = RandomForestClassifier()"
   ]
  },
  {
   "cell_type": "code",
   "execution_count": null,
   "id": "a07f34c7",
   "metadata": {
    "id": "a07f34c7"
   },
   "outputs": [],
   "source": [
    "from sklearn.model_selection import train_test_split\n",
    "train_X, test_X, train_y, test_y = train_test_split(X, y, random_state=42)"
   ]
  },
  {
   "cell_type": "code",
   "execution_count": null,
   "id": "3c3d63ea",
   "metadata": {
    "colab": {
     "base_uri": "https://localhost:8080/"
    },
    "id": "3c3d63ea",
    "outputId": "e663fb00-8889-41a7-9135-d4eab71b46c7"
   },
   "outputs": [],
   "source": [
    "logistic.fit(train_X, train_y)"
   ]
  },
  {
   "cell_type": "code",
   "execution_count": null,
   "id": "cad39833",
   "metadata": {
    "colab": {
     "base_uri": "https://localhost:8080/"
    },
    "id": "cad39833",
    "outputId": "b6301cd0-256c-464e-e79b-a18f6373de17"
   },
   "outputs": [],
   "source": [
    "# MLP.fit(train_X, train_y)"
   ]
  },
  {
   "cell_type": "code",
   "execution_count": null,
   "id": "f417aed4",
   "metadata": {
    "colab": {
     "base_uri": "https://localhost:8080/"
    },
    "id": "f417aed4",
    "outputId": "694315a5-6acb-42ec-a17a-5deef700ef72"
   },
   "outputs": [],
   "source": [
    "randomforest.fit(train_X, train_y)"
   ]
  },
  {
   "cell_type": "code",
   "execution_count": null,
   "id": "cfb69997",
   "metadata": {
    "id": "cfb69997"
   },
   "outputs": [],
   "source": [
    "logistic_pred = logistic.predict(test_X)"
   ]
  },
  {
   "cell_type": "code",
   "execution_count": null,
   "id": "aa382fc7",
   "metadata": {
    "id": "aa382fc7"
   },
   "outputs": [],
   "source": [
    "# MLP_pred = MLP.predict(test_X)"
   ]
  },
  {
   "cell_type": "code",
   "execution_count": null,
   "id": "1c92f29e",
   "metadata": {
    "id": "1c92f29e"
   },
   "outputs": [],
   "source": [
    "randomforest_pred = randomforest.predict(test_X)"
   ]
  },
  {
   "cell_type": "code",
   "execution_count": null,
   "id": "24520060",
   "metadata": {
    "colab": {
     "base_uri": "https://localhost:8080/"
    },
    "id": "24520060",
    "outputId": "0bb3ab8b-39ab-4a70-f2a7-9947fc4b31f1"
   },
   "outputs": [],
   "source": [
    "from sklearn.metrics import accuracy_score, recall_score, precision_score, f1_score\n",
    "print(accuracy_score(test_y, logistic_pred))\n",
    "# print(recall_score(test_y, logistic_pred))\n",
    "# print(precision_score(test_y, logistic_pred))\n",
    "# print(f1_score(test_y, logistic_pred))\n",
    "\n",
    "# print(accuracy_score(test_y, MLP_pred))\n",
    "# print(recall_score(test_y, MLP_pred))\n",
    "# print(precision_score(test_y, MLP_pred))\n",
    "# print(f1_score(test_y, MLP_pred))\n",
    "\n",
    "print(accuracy_score(test_y, randomforest_pred))\n",
    "# print(recall_score(test_y, randomforest_pred))\n",
    "# print(precision_score(test_y, randomforest_pred))\n",
    "# print(f1_score(test_y, randomforest_pred))\n"
   ]
  },
  {
   "cell_type": "code",
   "execution_count": null,
   "id": "01d5976b",
   "metadata": {},
   "outputs": [],
   "source": [
    "pred = model.predict(X_test)\n",
    "submission['target'] = pred\n",
    "submission.to_csv(\"data/submission0408(2).csv\", index = False)"
   ]
  },
  {
   "cell_type": "code",
   "execution_count": 7,
   "id": "ac6a7569",
   "metadata": {},
   "outputs": [],
   "source": [
    "wlem = nltk.WordNetLemmatizer()\n",
    "stopwords_list = stopwords.words('english')"
   ]
  },
  {
   "cell_type": "code",
   "execution_count": 8,
   "id": "7P8wW9NH38ah",
   "metadata": {
    "id": "7P8wW9NH38ah"
   },
   "outputs": [],
   "source": [
    "train['tokenized'] = train['text'].apply(nltk.word_tokenize)\n",
    "train['tokenized'] = train['tokenized'].apply(lambda x: [item for item in x if item not in stopwords_list])\n",
    "train['text_re'] = train['tokenized'].apply(lambda x:' '.join(x))"
   ]
  },
  {
   "cell_type": "code",
   "execution_count": 9,
   "id": "db3a6f0c",
   "metadata": {},
   "outputs": [],
   "source": [
    "test['tokenized'] = test['text'].apply(nltk.word_tokenize)\n",
    "test['tokenized'] = test['tokenized'].apply(lambda x: [item for item in x if item not in stopwords_list])\n",
    "test['text_re'] = test['tokenized'].apply(lambda x:' '.join(x))"
   ]
  },
  {
   "cell_type": "code",
   "execution_count": 10,
   "id": "86588f43",
   "metadata": {},
   "outputs": [],
   "source": [
    "vectorizer = TfidfVectorizer(ngram_range=(1, 2))\n",
    "X = vectorizer.fit_transform(np.array(train['text_re']))\n",
    "X_test = vectorizer.transform(test[\"text_re\"])"
   ]
  },
  {
   "cell_type": "code",
   "execution_count": 11,
   "id": "a1225cca",
   "metadata": {},
   "outputs": [],
   "source": [
    "y = train['target']"
   ]
  },
  {
   "cell_type": "code",
   "execution_count": 12,
   "id": "476140fe",
   "metadata": {},
   "outputs": [],
   "source": [
    "from sklearn.model_selection import train_test_split\n",
    "train_X, test_X, train_y, test_y = train_test_split(X, y, random_state=42)"
   ]
  },
  {
   "cell_type": "code",
   "execution_count": null,
   "id": "eb31a54e",
   "metadata": {},
   "outputs": [],
   "source": [
    "logistic.fit(train_X, train_y)\n",
    "randomforest.fit(train_X, train_y)"
   ]
  },
  {
   "cell_type": "code",
   "execution_count": null,
   "id": "7effec0c",
   "metadata": {},
   "outputs": [],
   "source": [
    "logistic_pred = logistic.predict(test_X)\n",
    "randomforest_pred = randomforest.predict(test_X)"
   ]
  },
  {
   "cell_type": "code",
   "execution_count": null,
   "id": "a7b80004",
   "metadata": {},
   "outputs": [],
   "source": [
    "from sklearn.metrics import accuracy_score\n",
    "print(accuracy_score(test_y, logistic_pred))\n",
    "print(accuracy_score(test_y, randomforest_pred))"
   ]
  },
  {
   "cell_type": "code",
   "execution_count": null,
   "id": "c5cf5018",
   "metadata": {},
   "outputs": [],
   "source": [
    "pred = logistic.predict(X_test)\n",
    "submission['target'] = pred\n",
    "submission.to_csv(\"data/submission0409(2).csv\", index = False)"
   ]
  },
  {
   "cell_type": "code",
   "execution_count": null,
   "id": "f1905dd1",
   "metadata": {},
   "outputs": [],
   "source": [
    "from xgboost import XGBClassifier"
   ]
  },
  {
   "cell_type": "code",
   "execution_count": null,
   "id": "4d262fa7",
   "metadata": {},
   "outputs": [],
   "source": [
    "xgb = XGBClassifier()"
   ]
  },
  {
   "cell_type": "code",
   "execution_count": null,
   "id": "0325269f",
   "metadata": {},
   "outputs": [],
   "source": [
    "xgb.fit(train_X, train_y)"
   ]
  },
  {
   "cell_type": "code",
   "execution_count": null,
   "id": "63686760",
   "metadata": {},
   "outputs": [],
   "source": [
    "xgb_pred = xgb.predict(test_X)"
   ]
  },
  {
   "cell_type": "code",
   "execution_count": null,
   "id": "e900464c",
   "metadata": {},
   "outputs": [],
   "source": [
    "print(accuracy_score(test_y, xgb_pred))"
   ]
  },
  {
   "cell_type": "code",
   "execution_count": null,
   "id": "0402f166",
   "metadata": {},
   "outputs": [],
   "source": [
    "pred = xgb.predict(X_test)\n",
    "submission['target'] = pred\n",
    "submission.to_csv(\"data/submission0409(3).csv\", index = False)"
   ]
  },
  {
   "cell_type": "code",
   "execution_count": 16,
   "id": "7d7c381c",
   "metadata": {},
   "outputs": [],
   "source": [
    "import time\n",
    "start_time = time.time()\n",
    "end_time = time.time()"
   ]
  },
  {
   "cell_type": "code",
   "execution_count": 18,
   "id": "ac0e7339",
   "metadata": {
    "scrolled": true
   },
   "outputs": [
    {
     "name": "stderr",
     "output_type": "stream",
     "text": [
      "/Users/sol/miniforge3/envs/m1/lib/python3.8/site-packages/sklearn/neural_network/_multilayer_perceptron.py:619: UserWarning: Training interrupted by user.\n",
      "  warnings.warn(\"Training interrupted by user.\")\n"
     ]
    },
    {
     "data": {
      "text/plain": [
       "MLPClassifier()"
      ]
     },
     "execution_count": 18,
     "metadata": {},
     "output_type": "execute_result"
    }
   ],
   "source": [
    "mlp = MLPClassifier()\n",
    "mlp.fit(train_X, train_y)"
   ]
  },
  {
   "cell_type": "code",
   "execution_count": 19,
   "id": "20cd29ab",
   "metadata": {},
   "outputs": [
    {
     "data": {
      "text/plain": [
       "'3.314018249511719e-05 초'"
      ]
     },
     "execution_count": 19,
     "metadata": {},
     "output_type": "execute_result"
    }
   ],
   "source": [
    "f'{(end_time - start_time)} 초'"
   ]
  },
  {
   "cell_type": "code",
   "execution_count": 21,
   "id": "fdfc7432",
   "metadata": {},
   "outputs": [],
   "source": [
    "pred = mlp.predict(test_X)"
   ]
  },
  {
   "cell_type": "code",
   "execution_count": null,
   "id": "d7781a9a",
   "metadata": {},
   "outputs": [],
   "source": [
    "submission[\"target\"] = pred"
   ]
  },
  {
   "cell_type": "code",
   "execution_count": null,
   "id": "80328e57",
   "metadata": {},
   "outputs": [],
   "source": [
    "submission.to_csv(\"data/submissionmlp.csv\", index = False)"
   ]
  },
  {
   "cell_type": "code",
   "execution_count": 23,
   "id": "ee9479c5",
   "metadata": {},
   "outputs": [
    {
     "name": "stdout",
     "output_type": "stream",
     "text": [
      "0.6933737548722391\n"
     ]
    }
   ],
   "source": [
    "from sklearn.metrics import accuracy_score\n",
    "print(accuracy_score(test_y, pred))"
   ]
  },
  {
   "cell_type": "code",
   "execution_count": null,
   "id": "3b0aa871",
   "metadata": {},
   "outputs": [],
   "source": []
  },
  {
   "cell_type": "code",
   "execution_count": null,
   "id": "6183ca9a",
   "metadata": {
    "id": "6183ca9a"
   },
   "outputs": [],
   "source": [
    "# 앙상블 모델\n",
    "# 파라미터 튜닝\n",
    "\n",
    "# https://dacon.io/competitions/official/235670/codeshare/1893?page=1&dtype=recent"
   ]
  }
 ],
 "metadata": {
  "accelerator": "GPU",
  "colab": {
   "collapsed_sections": [],
   "name": "ml.ipynb",
   "provenance": []
  },
  "kernelspec": {
   "display_name": "Python 3",
   "language": "python",
   "name": "python3"
  },
  "language_info": {
   "codemirror_mode": {
    "name": "ipython",
    "version": 3
   },
   "file_extension": ".py",
   "mimetype": "text/x-python",
   "name": "python",
   "nbconvert_exporter": "python",
   "pygments_lexer": "ipython3",
   "version": "3.8.6"
  }
 },
 "nbformat": 4,
 "nbformat_minor": 5
}
