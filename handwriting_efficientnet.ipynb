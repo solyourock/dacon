{
 "cells": [
  {
   "cell_type": "markdown",
   "id": "4072ee8a",
   "metadata": {},
   "source": [
    "https://dacon.io/competitions/official/235838/codeshare/3726?page=1&dtype=recent"
   ]
  },
  {
   "cell_type": "code",
   "execution_count": 29,
   "id": "cf01be0c",
   "metadata": {},
   "outputs": [],
   "source": [
    "import os\n",
    "import cv2\n",
    "import ipywidgets\n",
    "import numpy as np\n",
    "import pandas as pd\n",
    "import matplotlib.pyplot as plt\n",
    "from typing import Callable\n",
    "from PIL import Image\n",
    "\n",
    "import torch\n",
    "import torchvision\n",
    "import torch.nn.functional as F\n",
    "from torchvision.transforms import functional\n",
    "from torch import Tensor, nn, optim\n",
    "from torch.utils.data import Dataset, DataLoader\n",
    "from torchvision.utils import make_grid\n",
    "\n",
    "import albumentations as A\n",
    "from albumentations.pytorch import ToTensorV2\n",
    "from efficientnet_pytorch import EfficientNet\n",
    "from torchinfo import summary"
   ]
  },
  {
   "cell_type": "code",
   "execution_count": 30,
   "id": "fb72087c",
   "metadata": {},
   "outputs": [
    {
     "name": "stdout",
     "output_type": "stream",
     "text": [
      "cv2: 4.5.2, torch: 1.8.0, torchvision: 0.10.0, ipwidges: 7.6.3\n"
     ]
    }
   ],
   "source": [
    "print(f'cv2: {cv2.__version__}, torch: {torch.__version__}, torchvision: {torchvision.__version__}, ipwidges: {ipywidgets.__version__}')"
   ]
  },
  {
   "cell_type": "code",
   "execution_count": 31,
   "id": "48d63aca",
   "metadata": {},
   "outputs": [],
   "source": [
    "class MnistDataset(Dataset):\n",
    "    def __init__(\n",
    "        self,\n",
    "        mode: str,\n",
    "        input_path: os.PathLike,\n",
    "        labels_filename: os.PathLike,\n",
    "        transforms: Callable = None\n",
    "    ) -> None:\n",
    "        self.mode = mode\n",
    "        self.input_path = input_path\n",
    "        self.df = pd.read_csv(os.path.join(input_path, labels_filename))\n",
    "        self.transforms = transforms\n",
    "    \n",
    "    def __len__(self):\n",
    "        return self.df.shape[0]\n",
    "    \n",
    "    def __getitem__(self, index):\n",
    "        filename = self.df.loc[index, 'file_name']\n",
    "        image = Image.open(os.path.join(self.input_path, filename)).convert('RGB')\n",
    "        image = np.array(image)\n",
    "        \n",
    "        if self.transforms is not None:\n",
    "            image = self.transforms(image=image)['image']\n",
    "            \n",
    "        if self.mode == 'train':\n",
    "            label = self.df.loc[index, 'label']\n",
    "            label = torch.tensor(label, dtype=torch.int64)\n",
    "            return image, label\n",
    "        \n",
    "        return image"
   ]
  },
  {
   "cell_type": "code",
   "execution_count": 32,
   "id": "da807f54",
   "metadata": {},
   "outputs": [],
   "source": [
    "train_transforms = A.Compose([\n",
    "    A.Normalize(),\n",
    "    ToTensorV2()\n",
    "])"
   ]
  },
  {
   "cell_type": "code",
   "execution_count": 33,
   "id": "16a59047",
   "metadata": {},
   "outputs": [],
   "source": [
    "test_transforms = A.Compose([\n",
    "    A.Normalize(),\n",
    "    ToTensorV2()\n",
    "])"
   ]
  },
  {
   "cell_type": "code",
   "execution_count": 34,
   "id": "be8d091c",
   "metadata": {},
   "outputs": [],
   "source": [
    "trainset = MnistDataset('train', 'handwriting_dataset/train/', 'train_data.csv', train_transforms)"
   ]
  },
  {
   "cell_type": "code",
   "execution_count": 35,
   "id": "4a5f0e37",
   "metadata": {},
   "outputs": [],
   "source": [
    "testset = MnistDataset('test', 'handwriting_dataset/test/', 'test_data.csv', test_transforms)"
   ]
  },
  {
   "cell_type": "code",
   "execution_count": 36,
   "id": "ebd3a557",
   "metadata": {},
   "outputs": [],
   "source": [
    "train_loader = DataLoader(trainset, batch_size=64, shuffle=True, num_workers=0)\n",
    "test_loader = DataLoader(testset, batch_size=32, num_workers=0)"
   ]
  },
  {
   "cell_type": "code",
   "execution_count": 37,
   "id": "ff496f3d",
   "metadata": {},
   "outputs": [],
   "source": [
    "def show(images):\n",
    "    if not isinstance(images, list):\n",
    "        images = [images]\n",
    "\n",
    "    fix, axes = plt.subplots(ncols=len(images), squeeze=False)\n",
    "    for i, image in enumerate(images):\n",
    "        image = image.detach()\n",
    "        image = functional.to_pil_image(image).convert('L')\n",
    "        axes[0, i].imshow(np.asarray(image), cmap='gray')\n",
    "        axes[0, i].axis('off')   "
   ]
  },
  {
   "cell_type": "code",
   "execution_count": 38,
   "id": "90edd4de",
   "metadata": {},
   "outputs": [
    {
     "name": "stderr",
     "output_type": "stream",
     "text": [
      "/Users/sol/miniforge3/envs/m1/lib/python3.8/site-packages/albumentations/augmentations/functional.py:138: RuntimeWarning: divide by zero encountered in reciprocal\n",
      "  denominator = np.reciprocal(std, dtype=np.float32)\n"
     ]
    },
    {
     "data": {
      "image/png": "[encoded data removed]",
      "text/plain": [
       "<Figure size 432x288 with 1 Axes>"
      ]
     },
     "metadata": {
      "needs_background": "light"
     },
     "output_type": "display_data"
    }
   ],
   "source": [
    "show(make_grid([trainset[i][0] for i in range(4)]))"
   ]
  },
  {
   "cell_type": "code",
   "execution_count": null,
   "id": "2887977a",
   "metadata": {},
   "outputs": [],
   "source": []
  }
 ],
 "metadata": {
  "kernelspec": {
   "display_name": "Python 3",
   "language": "python",
   "name": "python3"
  },
  "language_info": {
   "codemirror_mode": {
    "name": "ipython",
    "version": 3
   },
   "file_extension": ".py",
   "mimetype": "text/x-python",
   "name": "python",
   "nbconvert_exporter": "python",
   "pygments_lexer": "ipython3",
   "version": "3.8.6"
  }
 },
 "nbformat": 4,
 "nbformat_minor": 5
}
