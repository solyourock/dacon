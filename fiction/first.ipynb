{
 "cells": [
  {
   "cell_type": "markdown",
   "id": "5cbca888",
   "metadata": {},
   "source": [
    "## 텍스트 분류\n",
    " - 텍스트 분류는 말그대로 특정 문장이나 문서를 어떠한 카테고리로 분류하는 문제를 의미합니다. 이 문제는 가장 간단한 자연어 처리 문제로 스팸 메일 분류가 해당 문제의 대표적인 예시이다."
   ]
  },
  {
   "cell_type": "markdown",
   "id": "e04ee2e0",
   "metadata": {},
   "source": [
    "## 자연어 처리 과정\n",
    "1. Preprocessing\n",
    "    - 불용어 제거(stopwords removing), 형태소 분석(stemming), 표제어 추출(Lemmatization)\n",
    "2. Vectorization\n",
    "    - One-hot Encoding, Count vectorization, Tfidf, Padding\n",
    "3. Embedding\n",
    "    - Word2vec, Doc2vec, Glove, Fasttext\n",
    "4. Modeling\n",
    "    - GRU, LSTM, Attention"
   ]
  },
  {
   "cell_type": "markdown",
   "id": "f1556f6d",
   "metadata": {},
   "source": [
    "## 적용\n",
    "    1. 데이터를 불러온 후 기사의 각 문장별로 Konlpy의 함수 중 하나를 활용해서 형태소 분석 진행\n",
    "    2. 그 후 필요없는 단어들을 불용어로 지정하고 제외\n",
    "    3. 해당 결과를 sklearn 패키지의 함수중 하나를 이용하여 정수 인코딩으로 변환해주는 Vectorization을 진행\n",
    "    4. 각 문장별로 벡터화된 문장은 서로 다른 길이를 갖게 됨. 모델을 입력하기 위해 모든 문장 벡터들을 일정한 길이를 가져야 하므로 길이가 긴 문장을 자르고 길이가 짧은 문장은 0으로 채워넣음 (Padding)\n",
    "    5. 앞서 처리된 문장 벡터들을 특정 차원으로 임베딩 시킴. 딥러닝 모델을 이용할 시 자동으로 임베딩을 진행해주는 층을 추가하면 간단하게 진행 됨. 성능을 높이기 위해서 pre-trained embedding인 word2vec, glove 등을 이용\n",
    "    6. 훈련을 시키고 테스트를 진행"
   ]
  },
  {
   "cell_type": "markdown",
   "id": "658ebd99",
   "metadata": {},
   "source": [
    "### 1. Preprocessing\n",
    "1. 데이터를 불러온 후 각 신문기사들을 눈으로 확인하여 특수문자, 불용어 그리고 문장 구조에 대한 감을 잡는다.\n",
    "2. 문제의 목적과 분석자의 재량에 따라 불용어를 설정하고 리스트에 저장한다. (이 데이터는 특수 문자와 조사만 제거해도 어느 정도 높은 정확도를 얻을 수 있다.)\n",
    "3. 불용어 이외의 특수 문자들을 제거한다. (정규표현식을 사용하여 한글과 영어 소문자를 제외한 모든 글자 제거)\n",
    "4. 형태소 분석을 통해 문장을 형태소 단위의 토큰으로 분리한다. 이때 내가 설정한 불용어들을 결과로 반환해주는 형태소 분석기를 사용해야한다. 예를 들어 조사를 불용어로 설정했는데 조사를 분리해주지 못하는 형태소 분석기를 후보에서 제외한다.\n",
    "5. 형태소 단위의 토큰들을 기반으로 리스트에 저장된 불용어 제거한다."
   ]
  },
  {
   "cell_type": "markdown",
   "id": "d976b29b",
   "metadata": {},
   "source": [
    "#### 형태소 분석 (Stemming)\n",
    "    - 형태소 분석이란 단어나 문장의 언어적 속성을 파악하는 것을 의미한다. 보통 품사의 태깅(PoS)를 통해 이루어지며 한국어 형태소 분석을 위해 Konlpy 패키지에 있는 다양한 함수를 이용해서 진행 할 수 있다.\n",
    "    - 형태소 분석을 하는 이유는 주로 형태소 단위로 의미있는 단어를 가져가고 싶거나 품사 태깅을 통해 형용사나 명사를 추출하고 싶을 때 많이 이용하게 된다.\n",
    "<img src=\"data:image/png;base64,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\">\n",
    "    - 문장을 띄어쓰기 단위로 분류하여 vectorization을 하게 되면 \"데이콘\"이라는 같은 의미의 토큰 세개가 서로 다은 vector를 갖게 된다. 이렇게 되면 모델이 세 단어를 각각 다른 단어로 이해한다. 하지만 형태소 분석을 통해 \"데이콘\"이라는 토큰을 추출한다면 앞의 세 단어는 동일한 vector를 갖게되며 모델이 해당 토큰을 더 잘 학습하는데 도움이 된다.\n",
    "    - 형태소 분석은 어쩌면 모델링보다 성능에 더 중요한 영향을 미치는 아주 중요한 과정이다. 시간이 허락한다면 다양한 형태소 분석기를 사용하여 결과를 비교하는 것을 추천한다."
   ]
  },
  {
   "cell_type": "code",
   "execution_count": 1,
   "id": "dfb95c5e",
   "metadata": {},
   "outputs": [
    {
     "name": "stdout",
     "output_type": "stream",
     "text": [
      "형태소 단위로 문장 분리: ['데이', '콘', '에서', '다양', '하', 'ㄴ', '대회', '를', '즐기', '면서', '실력', '있', '는', '데이터', '분석가', '로', '성장', '하', '세요', '!!']\n",
      "문장에서 명사 추출: ['데이', '데이콘', '콘', '다양', '대회', '실력', '데이터', '분석가', '성장']\n",
      "품사 태킹(PoS): [('데이', 'NNG'), ('콘', 'NNG'), ('에서', 'JKM'), ('다양', 'NNG'), ('하', 'XSV'), ('ㄴ', 'ETD'), ('대회', 'NNG'), ('를', 'JKO'), ('즐기', 'VV'), ('면서', 'ECE'), ('실력', 'NNG'), ('있', 'VV'), ('는', 'ETD'), ('데이터', 'NNG'), ('분석가', 'NNG'), ('로', 'JKM'), ('성장', 'NNG'), ('하', 'XSV'), ('세요', 'EFN'), ('!!', 'SW')]\n"
     ]
    }
   ],
   "source": [
    "# 1-1.Kkma()\n",
    "from konlpy.tag import Kkma\n",
    "kkma = Kkma()\n",
    "\n",
    "sentence = \"데이콘에서 다양한 대회를 즐기면서 실력있는 데이터 분석가로 성장하세요!!\"\n",
    "\n",
    "print(\"형태소 단위로 문장 분리:\", kkma.morphs(sentence))\n",
    "print(\"문장에서 명사 추출:\", kkma.nouns(sentence))\n",
    "print(\"품사 태킹(PoS):\", kkma.pos(sentence))"
   ]
  },
  {
   "cell_type": "code",
   "execution_count": 2,
   "id": "ba208641",
   "metadata": {},
   "outputs": [
    {
     "name": "stdout",
     "output_type": "stream",
     "text": [
      "형태소 단위로 문장 분리: ['데', '이콘', '에서', '다양한', '대회', '를', '즐기면서', '실력', '있는', '데이터', '분석', '가로', '성장하세요', '!!']\n",
      "문장에서 명사 추출: ['데', '이콘', '대회', '실력', '데이터', '분석', '가로']\n",
      "품사 태킹(PoS): [('데', 'Noun'), ('이콘', 'Noun'), ('에서', 'Josa'), ('다양한', 'Adjective'), ('대회', 'Noun'), ('를', 'Josa'), ('즐기면서', 'Verb'), ('실력', 'Noun'), ('있는', 'Adjective'), ('데이터', 'Noun'), ('분석', 'Noun'), ('가로', 'Noun'), ('성장하세요', 'Adjective'), ('!!', 'Punctuation')]\n"
     ]
    }
   ],
   "source": [
    "# 1-2. Okt()\n",
    "from konlpy.tag import Okt\n",
    "Okt = Okt()\n",
    "\n",
    "sentence = \"데이콘에서 다양한 대회를 즐기면서 실력있는 데이터 분석가로 성장하세요!!\"\n",
    "\n",
    "print(\"형태소 단위로 문장 분리:\", Okt.morphs(sentence))\n",
    "print(\"문장에서 명사 추출:\", Okt.nouns(sentence))\n",
    "print(\"품사 태킹(PoS):\", Okt.pos(sentence))"
   ]
  },
  {
   "cell_type": "code",
   "execution_count": 3,
   "id": "94bcd838",
   "metadata": {
    "collapsed": true
   },
   "outputs": [
    {
     "ename": "Exception",
     "evalue": "Install MeCab in order to use it: http://konlpy.org/en/latest/install/",
     "output_type": "error",
     "traceback": [
      "\u001b[0;31m---------------------------------------------------------------------------\u001b[0m",
      "\u001b[0;31mNameError\u001b[0m                                 Traceback (most recent call last)",
      "\u001b[0;32m~/miniforge3/envs/m1/lib/python3.8/site-packages/konlpy/tag/_mecab.py\u001b[0m in \u001b[0;36m__init__\u001b[0;34m(self, dicpath)\u001b[0m\n\u001b[1;32m    107\u001b[0m         \u001b[0;32mtry\u001b[0m\u001b[0;34m:\u001b[0m\u001b[0;34m\u001b[0m\u001b[0;34m\u001b[0m\u001b[0m\n\u001b[0;32m--> 108\u001b[0;31m             \u001b[0mself\u001b[0m\u001b[0;34m.\u001b[0m\u001b[0mtagger\u001b[0m \u001b[0;34m=\u001b[0m \u001b[0mTagger\u001b[0m\u001b[0;34m(\u001b[0m\u001b[0;34m'-d %s'\u001b[0m \u001b[0;34m%\u001b[0m \u001b[0mdicpath\u001b[0m\u001b[0;34m)\u001b[0m\u001b[0;34m\u001b[0m\u001b[0;34m\u001b[0m\u001b[0m\n\u001b[0m\u001b[1;32m    109\u001b[0m             \u001b[0mself\u001b[0m\u001b[0;34m.\u001b[0m\u001b[0mtagset\u001b[0m \u001b[0;34m=\u001b[0m \u001b[0mutils\u001b[0m\u001b[0;34m.\u001b[0m\u001b[0mread_json\u001b[0m\u001b[0;34m(\u001b[0m\u001b[0;34m'%s/data/tagset/mecab.json'\u001b[0m \u001b[0;34m%\u001b[0m \u001b[0mutils\u001b[0m\u001b[0;34m.\u001b[0m\u001b[0minstallpath\u001b[0m\u001b[0;34m)\u001b[0m\u001b[0;34m\u001b[0m\u001b[0;34m\u001b[0m\u001b[0m\n",
      "\u001b[0;31mNameError\u001b[0m: name 'Tagger' is not defined",
      "\nDuring handling of the above exception, another exception occurred:\n",
      "\u001b[0;31mException\u001b[0m                                 Traceback (most recent call last)",
      "\u001b[0;32m<ipython-input-3-33f99d71cc98>\u001b[0m in \u001b[0;36m<module>\u001b[0;34m\u001b[0m\n\u001b[1;32m      1\u001b[0m \u001b[0;31m# 1-3. Mecab()\u001b[0m\u001b[0;34m\u001b[0m\u001b[0;34m\u001b[0m\u001b[0;34m\u001b[0m\u001b[0m\n\u001b[1;32m      2\u001b[0m \u001b[0;32mfrom\u001b[0m \u001b[0mkonlpy\u001b[0m\u001b[0;34m.\u001b[0m\u001b[0mtag\u001b[0m \u001b[0;32mimport\u001b[0m \u001b[0mMecab\u001b[0m\u001b[0;34m\u001b[0m\u001b[0;34m\u001b[0m\u001b[0m\n\u001b[0;32m----> 3\u001b[0;31m \u001b[0mMecab\u001b[0m \u001b[0;34m=\u001b[0m \u001b[0mMecab\u001b[0m\u001b[0;34m(\u001b[0m\u001b[0;34m)\u001b[0m\u001b[0;34m\u001b[0m\u001b[0;34m\u001b[0m\u001b[0m\n\u001b[0m\u001b[1;32m      4\u001b[0m \u001b[0;34m\u001b[0m\u001b[0m\n\u001b[1;32m      5\u001b[0m \u001b[0msentence\u001b[0m \u001b[0;34m=\u001b[0m \u001b[0;34m\"데이콘에서 다양한 대회를 즐기면서 실력있는 데이터 분석가로 성장하세요!!\"\u001b[0m\u001b[0;34m\u001b[0m\u001b[0;34m\u001b[0m\u001b[0m\n",
      "\u001b[0;32m~/miniforge3/envs/m1/lib/python3.8/site-packages/konlpy/tag/_mecab.py\u001b[0m in \u001b[0;36m__init__\u001b[0;34m(self, dicpath)\u001b[0m\n\u001b[1;32m    111\u001b[0m             \u001b[0;32mraise\u001b[0m \u001b[0mException\u001b[0m\u001b[0;34m(\u001b[0m\u001b[0;34m'The MeCab dictionary does not exist at \"%s\". Is the dictionary correctly installed?\\nYou can also try entering the dictionary path when initializing the Mecab class: \"Mecab(\\'/some/dic/path\\')\"'\u001b[0m \u001b[0;34m%\u001b[0m \u001b[0mdicpath\u001b[0m\u001b[0;34m)\u001b[0m\u001b[0;34m\u001b[0m\u001b[0;34m\u001b[0m\u001b[0m\n\u001b[1;32m    112\u001b[0m         \u001b[0;32mexcept\u001b[0m \u001b[0mNameError\u001b[0m\u001b[0;34m:\u001b[0m\u001b[0;34m\u001b[0m\u001b[0;34m\u001b[0m\u001b[0m\n\u001b[0;32m--> 113\u001b[0;31m             \u001b[0;32mraise\u001b[0m \u001b[0mException\u001b[0m\u001b[0;34m(\u001b[0m\u001b[0;34m'Install MeCab in order to use it: http://konlpy.org/en/latest/install/'\u001b[0m\u001b[0;34m)\u001b[0m\u001b[0;34m\u001b[0m\u001b[0;34m\u001b[0m\u001b[0m\n\u001b[0m\u001b[1;32m    114\u001b[0m \u001b[0;34m\u001b[0m\u001b[0m\n\u001b[1;32m    115\u001b[0m     \u001b[0;32mdef\u001b[0m \u001b[0m__setstate__\u001b[0m\u001b[0;34m(\u001b[0m\u001b[0mself\u001b[0m\u001b[0;34m,\u001b[0m \u001b[0mstate\u001b[0m\u001b[0;34m)\u001b[0m\u001b[0;34m:\u001b[0m\u001b[0;34m\u001b[0m\u001b[0;34m\u001b[0m\u001b[0m\n",
      "\u001b[0;31mException\u001b[0m: Install MeCab in order to use it: http://konlpy.org/en/latest/install/"
     ]
    }
   ],
   "source": [
    "# 1-3. Mecab()\n",
    "from konlpy.tag import Mecab\n",
    "Mecab = Mecab()\n",
    "\n",
    "sentence = \"데이콘에서 다양한 대회를 즐기면서 실력있는 데이터 분석가로 성장하세요!!\"\n",
    "\n",
    "print(\"형태소 단위로 문장 분리:\", Mecab.morphs(sentence))\n",
    "print(\"문장에서 명사 추출:\", Mecab.nouns(sentence))\n",
    "print(\"품사 태깅(PoS):\", Mecab.pos(sentence))"
   ]
  },
  {
   "cell_type": "markdown",
   "id": "600a70ee",
   "metadata": {},
   "source": [
    "- Mecab : 속도가 빠르면서 좋은 분석 결과를 보여준다\n",
    "- Komoran : 댓글과 같이 정제되지 않은 글에 대해서 먼저 사용해보면 좋다 (오탈자를 어느정도 고려해준다)\n",
    "- Kkma : 분석 시간이 오래걸리기 때문에 잘 이용하지 않게 된다\n",
    "- Okt : 품사 태깅 결과를 Noun, Verb등 알아보기 쉽게 반환해준다\n",
    "- khaiii : 카카오에서 가장 최근에 공개한 분석기, 성능이 좋다고 알려지있으며 다양한 실험이 필요하다."
   ]
  },
  {
   "cell_type": "markdown",
   "id": "41140f10",
   "metadata": {},
   "source": [
    "#### 표제어 추출 (Lemmatization)\n",
    "    - 언어학을 전공하지 않은 사람에게 Lemmatization과 stemming은 큰 차이가 없다고 생각한다. 모두 단어의 본 모습을 찾아주는 과정으로서 Konlpy에서 공개한 형태소 분석기를 이용하면 어느 정도 어간 추출이 가능하다. 형태소 분석(Pos Taggig)을 stemming이라고 표기한 이유도 이와 같다."
   ]
  },
  {
   "cell_type": "code",
   "execution_count": 4,
   "id": "c903c2f0",
   "metadata": {},
   "outputs": [
    {
     "name": "stdout",
     "output_type": "stream",
     "text": [
      "품사 태깅(PoS) :  [('성장', 'NNG'), ('하', 'XSV'), ('었', 'EPT'), ('었', 'EPT'), ('다', 'EFN'), ('.', 'SF')]\n"
     ]
    }
   ],
   "source": [
    "from konlpy.tag import Kkma\n",
    "kkma = Kkma()\n",
    "\n",
    "sentence = \"성장했었다.\"\n",
    "\n",
    "print(\"품사 태깅(PoS) : \", kkma.pos(sentence))"
   ]
  },
  {
   "cell_type": "code",
   "execution_count": 5,
   "id": "704796e1",
   "metadata": {},
   "outputs": [
    {
     "name": "stdout",
     "output_type": "stream",
     "text": [
      "품사 태깅(PoS) :  [('성장', 'NNG'), ('하', 'XSV'), ('였', 'EPT'), ('었', 'EPT'), ('다', 'EFN'), ('.', 'SF')]\n"
     ]
    }
   ],
   "source": [
    "sentence = \"성장하였었다.\"\n",
    "\n",
    "print(\"품사 태깅(PoS) : \", kkma.pos(sentence))"
   ]
  },
  {
   "cell_type": "markdown",
   "id": "e2931de9",
   "metadata": {},
   "source": [
    "#### 불용어 제거 (Stopwords removing)\n",
    "    - 불용어를 간단하게 정의내리면 문장에서 큰 의미가 없다고 생각되는 단어, 글자들 이다. 불용어는 데이터와 문제에 따라 유동적이다."
   ]
  },
  {
   "cell_type": "code",
   "execution_count": 6,
   "id": "e1855368",
   "metadata": {},
   "outputs": [],
   "source": [
    "import re\n",
    "\n",
    "tokenizer = Okt\n",
    "\n",
    "def text_preprocessing(text,tokenizer):\n",
    "    \n",
    "    stopwords=['을','를','이','가','은','는']\n",
    "    \n",
    "    txt = re.sub('[^가-힣a-z]', \" \", text) # 영어 소문자와 한글을 제외한 모든 문자 제거\n",
    "    token = tokenizer.morphs(txt) # okt를 이용한 형태소 분석\n",
    "    token = [t for t in token if t not in stopwords] # 형태소 분석기를 거쳐 나온 결과들 중 stopwords리스트에 포함되지 않는 토큰만 token이라는 리스트에 반환\n",
    "    \n",
    "    return token"
   ]
  },
  {
   "cell_type": "code",
   "execution_count": 7,
   "id": "99653f20",
   "metadata": {},
   "outputs": [],
   "source": [
    "ex_text = \"이번에 새롭게 개봉한 영화의 배우들은 모두 훌륭한 연기력과 아름다운 목소리를 갖고 있어!!\"\n",
    "example_pre = text_preprocessing(ex_text, tokenizer)"
   ]
  },
  {
   "cell_type": "code",
   "execution_count": 8,
   "id": "fc336104",
   "metadata": {},
   "outputs": [
    {
     "name": "stdout",
     "output_type": "stream",
     "text": [
      "['이번', '에', '새롭게', '개봉', '한', '영화', '의', '배우', '들', '모두', '훌륭한', '연기력', '과', '아름다운', '목소리', '갖고', '있어']\n"
     ]
    }
   ],
   "source": [
    "print(example_pre)"
   ]
  },
  {
   "cell_type": "markdown",
   "id": "336c6f5d",
   "metadata": {},
   "source": [
    "### 2. Vectorization\n",
    "- NLP를 컴퓨터가 이해할 수 있게 수치로 바꾸는 것을 말한다. 이 때 벡터로 변환된 고유의 토큰들이 모인 집합을 vocabulary라 하며 vocabulary가 크면 클수록 학습이 오래 걸리게 됩니다. 다양한 벡터화 함수들이 존재하지만 가장 기본적이며 많이 쓰이는 세 가지 소개\n",
    "- 벡터화하기 전에 형태소 분석기를 사용하여 문장 토큰 분리"
   ]
  },
  {
   "cell_type": "code",
   "execution_count": 9,
   "id": "008a6a4d",
   "metadata": {},
   "outputs": [
    {
     "name": "stdout",
     "output_type": "stream",
     "text": [
      "['자연어 처리 는 정말 정말 즐거워', '즐거운 자연어 처리 다 같이 해보자']\n"
     ]
    }
   ],
   "source": [
    "from konlpy.tag import Okt\n",
    "import re\n",
    "\n",
    "Okt = Okt()\n",
    "\n",
    "sentences = ['자연어 처리는 정말 정말 즐거워.', '즐거운 자연어 처리 다같이 해보자.']\n",
    "tokens = []\n",
    "\n",
    "for sentence in sentences:\n",
    "    sentence = re.sub('[^가-힣a-z]',' ', sentence)\n",
    "    token = (Okt.morphs(sentence))\n",
    "    tokens.append(\" \".join(token))\n",
    "    \n",
    "print(tokens)"
   ]
  },
  {
   "cell_type": "code",
   "execution_count": 10,
   "id": "818f45b8",
   "metadata": {},
   "outputs": [
    {
     "name": "stdout",
     "output_type": "stream",
     "text": [
      "각 토큰에게 고유의 정수 부여 :  {'자연어': 1, '처리': 2, '정말': 3, '는': 4, '즐거워': 5, '즐거운': 6, '다': 7, '같이': 8, '해보자': 9}\n",
      "부여된 정수로 표시된 문장1 :  [1, 2, 4, 3, 3, 5]\n",
      "부여된 정수로 표시된 문장2 :  [6, 1, 2, 7, 8, 9]\n",
      "문장1의 one-hot-encoding :  [[0. 1. 0. 0. 0. 0.]\n",
      " [0. 0. 1. 0. 0. 0.]\n",
      " [0. 0. 0. 0. 1. 0.]\n",
      " [0. 0. 0. 1. 0. 0.]\n",
      " [0. 0. 0. 1. 0. 0.]\n",
      " [0. 0. 0. 0. 0. 1.]]\n",
      "문장2의 one-hot-encoding :  [[0. 0. 0. 0. 0. 0. 1. 0. 0. 0.]\n",
      " [0. 1. 0. 0. 0. 0. 0. 0. 0. 0.]\n",
      " [0. 0. 1. 0. 0. 0. 0. 0. 0. 0.]\n",
      " [0. 0. 0. 0. 0. 0. 0. 1. 0. 0.]\n",
      " [0. 0. 0. 0. 0. 0. 0. 0. 1. 0.]\n",
      " [0. 0. 0. 0. 0. 0. 0. 0. 0. 1.]]\n"
     ]
    }
   ],
   "source": [
    "# 1. One Hot Encoding\n",
    "# 해당 단어가 존재하면 1, 그렇지 않으면 모두 0으로 표시되는 기법\n",
    "# keras를 이용하면 쉽게 구현이 가능하며 texts_to_sequences를 활용해 각 토큰에 고유한 정수를 부여한 후 to_categorical을 활용하면 간단하게 구현 가능\n",
    "# 이 방식은 vocabulary 크기의 커짐에 따라 많은 공간을 차지하게 되고 벡터가 굉장히 sparse해지기 때문에 모델에거 좋은 특성을 알려주지 못하는 경우가 대부분\n",
    "\n",
    "from tensorflow.keras.preprocessing.text import Tokenizer\n",
    "from tensorflow.keras.utils import to_categorical\n",
    "\n",
    "t = Tokenizer()\n",
    "t.fit_on_texts(tokens)\n",
    "print (\"각 토큰에게 고유의 정수 부여 : \", t.word_index)\n",
    "\n",
    "s1 = t.texts_to_sequences(tokens)[0]\n",
    "print (\"부여된 정수로 표시된 문장1 : \", s1)\n",
    "\n",
    "s2 = t.texts_to_sequences(tokens)[1]\n",
    "print (\"부여된 정수로 표시된 문장2 : \", s2)\n",
    "\n",
    "s1_one_hot = to_categorical(s1)\n",
    "print (\"문장1의 one-hot-encoding : \", s1_one_hot)\n",
    "\n",
    "s2_one_hot = to_categorical(s2)\n",
    "print (\"문장2의 one-hot-encoding : \", s2_one_hot)"
   ]
  },
  {
   "cell_type": "code",
   "execution_count": 11,
   "id": "d3090a2b",
   "metadata": {},
   "outputs": [
    {
     "name": "stdout",
     "output_type": "stream",
     "text": [
      "['같이', '자연어', '정말', '즐거운', '즐거워', '처리', '해보자']\n",
      "[[0 1 2 0 1 1 0]\n",
      " [1 1 0 1 0 1 1]]\n"
     ]
    }
   ],
   "source": [
    "# 2. Count vectorization\n",
    "# 이 방식은 vocabulary를 활용하여 각 문장이 갖고 있는 토큰의 count를 기반으로 문장을 vectorization 해준다.\n",
    "# 백터화 결과 각 문장은 vocabulary의 인덱스를 기준으로 카운트가 정수로 표시된 것을 알 수 있다. sklearn의 CountVectorizer는 한 글자는 자동으로 제거해준다.\n",
    "# 이 부분에서 형태소 분석기의 중요성에 대해서 알 수 있다. \n",
    "# 즐거운과 즐거워는 같은 의미를 갖는 토큰이지만 okt는 이를 구분해주지 못해서 다른 토큰으로 분리가 되었다.\n",
    "# 모델에서 같은 의미의 토큰을 다르게 학습할 수 있음을 의미한다.\n",
    "\n",
    "from sklearn.feature_extraction.text import CountVectorizer\n",
    "\n",
    "vectorizer = CountVectorizer()\n",
    "vectors = vectorizer.fit_transform(tokens)\n",
    "\n",
    "print (vectorizer.get_feature_names())\n",
    "print (vectors.toarray())"
   ]
  },
  {
   "cell_type": "code",
   "execution_count": 12,
   "id": "0e047150",
   "metadata": {},
   "outputs": [
    {
     "name": "stdout",
     "output_type": "stream",
     "text": [
      "['같이', '자연어', '정말', '즐거운', '즐거워', '처리', '해보자']\n",
      "[[0.         0.29017021 0.81564821 0.         0.4078241  0.29017021\n",
      "  0.        ]\n",
      " [0.49922133 0.35520009 0.         0.49922133 0.         0.35520009\n",
      "  0.49922133]]\n"
     ]
    }
   ],
   "source": [
    "# 3. Tfidf\n",
    "# 1. 단어가 몇번 등장했는지에 대한 정보 , 2. 어떤 단어가 언급된 문서의 수가 적다면 그 단어는 문서를 분류하는데 있어서 중요한 단어\n",
    "# 등장 횟수도 많고 문서 분별력 있는 단어들을 점수화하여 벡터화를 한 것이 tfidf이다.\n",
    "\n",
    "from sklearn.feature_extraction.text import TfidfVectorizer\n",
    "\n",
    "tfidf = TfidfVectorizer(min_df=0)\n",
    "tfidf_vectorizer = tfidf.fit_transform(tokens)\n",
    "\n",
    "# tf-idf dictionary\n",
    "tfidf_dict = tfidf.get_feature_names()\n",
    "print(tfidf_dict)\n",
    "print(tfidf_vectorizer.toarray())"
   ]
  },
  {
   "cell_type": "code",
   "execution_count": 32,
   "id": "4502b442",
   "metadata": {},
   "outputs": [
    {
     "name": "stdout",
     "output_type": "stream",
     "text": [
      "vocab_size :  42331\n"
     ]
    }
   ],
   "source": [
    "# Padding\n",
    "# 문장 길이를 맞춰주기 위해서 부족한 길이만큼 0을 채워넣게 되는 작업\n",
    "\n",
    "from tensorflow.keras.preprocessing.text import Tokenizer\n",
    "from tensorflow.keras.preprocessing.sequence import pad_sequences\n",
    "import pandas as pd \n",
    "\n",
    "def text2sequence(train_text, max_len=100):\n",
    "    tokenizer = Tokenizer()\n",
    "    tokenizer.fit_on_texts(train_text)\n",
    "    train_X_seq = tokenizer.texts_to_sequences(train_text) #각 토큰에 정수 부여\n",
    "    vocab_size = len(tokenizer.word_index) + 1 #모델에 알려줄 vocabulary의 크기 계산\n",
    "    print ('vocab_size : ', vocab_size)\n",
    "    vocabulary = tokenizer.word_index\n",
    "    X_train = pad_sequences(train_X_seq, maxlen = max_len) #설정한 문장의 최대 길이만큼 padding  \n",
    "    \n",
    "    return X_train, vocab_size, tokenizer, vocabulary\n",
    "\n",
    "\n",
    "train = pd.read_csv(\"data/train.csv\", encoding=\"utf-8\")\n",
    "train_X, vocab_size, vectorizer, vocabulary = text2sequence(train['text'], max_len=100)"
   ]
  },
  {
   "cell_type": "markdown",
   "id": "6cad5881",
   "metadata": {},
   "source": [
    "### 3. Embedding\n",
    "- vectorization의 치명적인 단점은 바로 단어나 문장들 사이의 관계에 대해서 설명하지 못한다는 것이다.\n",
    "<img src=\"data:image/png;base64,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\">\n",
    "- ond-hot encoding을 통해 각 5개의 토큰이 고유의 벡터를 갖게 되었다. 사람이 보기에 5개의 토큰이 너무나도 명확하게 구분된다. 지금까지 살펴 본 백터화 방법들은 단어의 중요도나 문서 안에서의 중요도는 구분할 수 있지만 단어 사이의 유사도 구별할 수 없다.\n",
    "- 이 때 사용되는 것이 Embedding 기법이며 word2vec을 비롯한 다양한 임베딩 기법들이 존재한다.\n",
    "- 비슷한 의미를 내포하고 있는 토큰들은 서로 가깝게, 그렇지 않은 토큰들은 서로 멀리 뿌리도록 하는 것이 임베딩의 목적이다. 검색 시스템, 감성 분석 등에서 훌륭한 임베딩을 수행하는 것이 전체 문제 해결에 많은 영향을 준다.\n",
    "- 임베딩 또한 하나의 모델을 의마하며 훈련이 필요하다. 데이터가 충분하고 시간이 많으면 소지한 데이터에 특화된 임베딩 모델을 학습시킬 수 있다. 보통은 pre_trained 임베딩 모델을 가져와서 사용한다."
   ]
  },
  {
   "cell_type": "code",
   "execution_count": 20,
   "id": "238ba97d",
   "metadata": {},
   "outputs": [
    {
     "data": {
      "text/plain": [
       "'\\nmodel = Sequential()\\nmodel.add(Embedding(vocab_size, 128, input_length=max_len))\\n'"
      ]
     },
     "execution_count": 20,
     "metadata": {},
     "output_type": "execute_result"
    }
   ],
   "source": [
    "# 1. Keras Embedding Layer\n",
    "# 기본적으로 가장 쉽고 빠르게 네트워크 모델에 임베팅 층을 주입할 수 있는 방식이다. \n",
    "# 이 방법은 무작위로 특정 차원으로 입력 벡터들을 뿌린 후 학습을 통해 가중치들을 조정해나가는 방식이다.\n",
    "# 즉 단어 사이의 관계를 반영하는 방법이 아니다.\n",
    "\n",
    "model = Sequential()\n",
    "model.add(Embedding(vocab_size, 128, input_length=max_len))"
   ]
  },
  {
   "cell_type": "code",
   "execution_count": 21,
   "id": "bb268161",
   "metadata": {},
   "outputs": [],
   "source": [
    "# 2. word2vec\n",
    "# word2vec의 핵심 아이디어는 \"친구를 보면 그 사람을 알 수 있다\"이다. 주변 단어와의 관계를 통해 해당 단어의 의미적 특성을 파악한다. \n",
    "\n",
    "# word2vec embedding matrix를 keras의 embedding에 주입하는 과정\n",
    "#  1. 구글에서 사전 훈련된 word2vec bin 파일 다운로드\n",
    "#  2. gensim 모둘과 bin파일을 활용해 word2vec 모델 로드\n",
    "import gensim\n",
    "word2vec = gensim.models.KeyedVectors.load_word2vec_format('data/GoogleNews-vectors-negative300.bin.gz', binary = True)"
   ]
  },
  {
   "cell_type": "code",
   "execution_count": 34,
   "id": "5d0d54dc",
   "metadata": {},
   "outputs": [
    {
     "name": "stdout",
     "output_type": "stream",
     "text": [
      "word2vec에 없는 단어입니다.\n"
     ]
    }
   ],
   "source": [
    "#  3. vocabulary에 있는 토큰의 벡터를 가져와 embedding matrix에 저장\n",
    "import numpy as np \n",
    "\n",
    "embedding_matrix = np.zeros((vocab_size, 300))\n",
    "\n",
    "for index, word in enumerate(vocabulary):\n",
    "    if word in word2vec:\n",
    "        embedding_vector = word2vec[word]\n",
    "        embedding_matrix[index] = embedding_vector\n",
    "    else:\n",
    "        print(\"word2vec에 없는 단어입니다.\")\n",
    "        break\n",
    "    "
   ]
  },
  {
   "cell_type": "code",
   "execution_count": null,
   "id": "f41b6edb",
   "metadata": {},
   "outputs": [],
   "source": [
    "# 4. keras embedding layer에 embedding matrix를 가중치로 주어 이용한다.\n",
    "model = Sequential()\n",
    "model.add(Embedding(vocab_size, 300, weights = [embedding_matrix], input_length = max_len))"
   ]
  },
  {
   "cell_type": "markdown",
   "id": "3d5e9c2d",
   "metadata": {},
   "source": [
    "### 4. Modeling\n",
    "- 현재 ML에서 주로 사용되는 SVM, RF, Boosting Machine 등을 활용하여 간단한 NLP 처리 해결이 가능하지만 복잡한 문제를 해결하기에는 한계가 있다. 따라서 기본적으로 네트워크 모델을 이용해서 NLP 문제를 해결하는 것이 일반적이다."
   ]
  },
  {
   "cell_type": "markdown",
   "id": "c8103097",
   "metadata": {},
   "source": [
    "#### 1. RNN\n",
    "<img src=\"data:image/png;base64,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\">\n",
    "- x1에 대한 출력이 위쪽 화살표와 아래쪽 화살표 두개이다. 즉,x1에 대한 정보가 h1이라는 출력뿐만 아니라 다음 x2에 대한 정보와 같이 입력되는 구조이다.\n",
    "- 이 때 A에 해당하는 부분을 LSTM과 GRU 등을 사용하게 된다. 구조에서 보다시피 RNN은 순차적인 구조이며 그 특징 때문에 연산에 많은 시간이 걸리게 되고 네트워크의 고질적인 문제인 역전파 소실 문제가 발생한다."
   ]
  },
  {
   "cell_type": "markdown",
   "id": "30bed09d",
   "metadata": {},
   "source": [
    "#### 2. LSTM\n",
    "- LSTM이 RNN 구조에서 특정 시점의 정보를 다음 시점으로 전달 할 때 얼만큼의 정보를 전달할지 결정하는 역할을 하겠다는 것을 유추할 수 있다.\n",
    "- LSTM의 가장 큰 특징은 기존 RNN에 cell state를 추가한 것이다. 이 cell state는 입력 정보를 선별하여 다음 출력으로 내보내는 게이트 역할을 한다. 이 과정을 통해 불필요한 정보를 걸러내어 매끄러운 진행이 가능하고 이로 인해 역전파 소실 문제를 줄여 성능이 증가하게 된다."
   ]
  },
  {
   "cell_type": "markdown",
   "id": "5cf263ae",
   "metadata": {},
   "source": [
    "#### 3. GRU\n",
    "- GRU는 LSTM의 복잡한 구조를 보다 간결하게 보완한 모델이다. LSTM의 장점을 가져오면서 속도적인 부분을 개선하여 더욱 빠른 속도로 비슷한 성능을 낸다고 알려져 있다."
   ]
  },
  {
   "cell_type": "markdown",
   "id": "d4e6359f",
   "metadata": {},
   "source": [
    "#### 4. Attention\n",
    "- attention 매커니즘은 RNN 모델의 구조적인 한계를 극복한 모델이다. 입력으로 이용된 정보를 순차적으로 고정 길이로 압축하면서 발생하는 정보의 손실과 역전파 소실의 문제점을 해결하기 위해 노력했다.\n",
    "- attention 매커니즘은 뒤이어 나온 자연어 처리의 세기적인 발견인 Transformer의 핵심 알고리즘이며 이 둘에 대한 이해가 바탕되어야 다양한 문제에서 SOTA(state of the art)를 자랑하는 ELMO, BERT, GPT 등의 방법론을 이해할 수 있다."
   ]
  }
 ],
 "metadata": {
  "kernelspec": {
   "display_name": "Python 3",
   "language": "python",
   "name": "python3"
  },
  "language_info": {
   "codemirror_mode": {
    "name": "ipython",
    "version": 3
   },
   "file_extension": ".py",
   "mimetype": "text/x-python",
   "name": "python",
   "nbconvert_exporter": "python",
   "pygments_lexer": "ipython3",
   "version": "3.8.6"
  }
 },
 "nbformat": 4,
 "nbformat_minor": 5
}
