{
 "cells": [
  {
   "cell_type": "code",
   "execution_count": 17,
   "id": "184c9f92",
   "metadata": {},
   "outputs": [],
   "source": [
    "import pandas as pd"
   ]
  },
  {
   "cell_type": "code",
   "execution_count": 18,
   "id": "5a088bbe",
   "metadata": {},
   "outputs": [],
   "source": [
    "iris = pd.read_csv('iris dataset/iris_train.csv')"
   ]
  },
  {
   "cell_type": "code",
   "execution_count": 19,
   "id": "e9b3bbb5",
   "metadata": {},
   "outputs": [
    {
     "data": {
      "text/html": [
       "<div>\n",
       "<style scoped>\n",
       "    .dataframe tbody tr th:only-of-type {\n",
       "        vertical-align: middle;\n",
       "    }\n",
       "\n",
       "    .dataframe tbody tr th {\n",
       "        vertical-align: top;\n",
       "    }\n",
       "\n",
       "    .dataframe thead th {\n",
       "        text-align: right;\n",
       "    }\n",
       "</style>\n",
       "<table border=\"1\" class=\"dataframe\">\n",
       "  <thead>\n",
       "    <tr style=\"text-align: right;\">\n",
       "      <th></th>\n",
       "      <th>id</th>\n",
       "      <th>species</th>\n",
       "      <th>sepal length (cm)</th>\n",
       "      <th>petal length (cm)</th>\n",
       "      <th>sepal width (cm)</th>\n",
       "      <th>petal width (cm)</th>\n",
       "    </tr>\n",
       "  </thead>\n",
       "  <tbody>\n",
       "    <tr>\n",
       "      <th>0</th>\n",
       "      <td>0</td>\n",
       "      <td>setosa</td>\n",
       "      <td>4.4</td>\n",
       "      <td>1.4</td>\n",
       "      <td>2.9</td>\n",
       "      <td>0.2</td>\n",
       "    </tr>\n",
       "    <tr>\n",
       "      <th>1</th>\n",
       "      <td>1</td>\n",
       "      <td>versicolor</td>\n",
       "      <td>6.4</td>\n",
       "      <td>4.5</td>\n",
       "      <td>3.2</td>\n",
       "      <td>1.5</td>\n",
       "    </tr>\n",
       "    <tr>\n",
       "      <th>2</th>\n",
       "      <td>2</td>\n",
       "      <td>virginica</td>\n",
       "      <td>6.2</td>\n",
       "      <td>4.8</td>\n",
       "      <td>2.8</td>\n",
       "      <td>1.8</td>\n",
       "    </tr>\n",
       "    <tr>\n",
       "      <th>3</th>\n",
       "      <td>3</td>\n",
       "      <td>virginica</td>\n",
       "      <td>7.2</td>\n",
       "      <td>6.1</td>\n",
       "      <td>3.6</td>\n",
       "      <td>2.5</td>\n",
       "    </tr>\n",
       "    <tr>\n",
       "      <th>4</th>\n",
       "      <td>4</td>\n",
       "      <td>setosa</td>\n",
       "      <td>4.9</td>\n",
       "      <td>1.4</td>\n",
       "      <td>3.0</td>\n",
       "      <td>0.2</td>\n",
       "    </tr>\n",
       "    <tr>\n",
       "      <th>5</th>\n",
       "      <td>5</td>\n",
       "      <td>virginica</td>\n",
       "      <td>6.5</td>\n",
       "      <td>5.8</td>\n",
       "      <td>3.0</td>\n",
       "      <td>2.2</td>\n",
       "    </tr>\n",
       "    <tr>\n",
       "      <th>6</th>\n",
       "      <td>6</td>\n",
       "      <td>setosa</td>\n",
       "      <td>4.3</td>\n",
       "      <td>1.1</td>\n",
       "      <td>3.0</td>\n",
       "      <td>0.1</td>\n",
       "    </tr>\n",
       "    <tr>\n",
       "      <th>7</th>\n",
       "      <td>7</td>\n",
       "      <td>versicolor</td>\n",
       "      <td>6.7</td>\n",
       "      <td>5.0</td>\n",
       "      <td>3.0</td>\n",
       "      <td>1.7</td>\n",
       "    </tr>\n",
       "    <tr>\n",
       "      <th>8</th>\n",
       "      <td>8</td>\n",
       "      <td>versicolor</td>\n",
       "      <td>6.8</td>\n",
       "      <td>4.8</td>\n",
       "      <td>2.8</td>\n",
       "      <td>1.4</td>\n",
       "    </tr>\n",
       "    <tr>\n",
       "      <th>9</th>\n",
       "      <td>9</td>\n",
       "      <td>versicolor</td>\n",
       "      <td>6.6</td>\n",
       "      <td>4.4</td>\n",
       "      <td>3.0</td>\n",
       "      <td>1.4</td>\n",
       "    </tr>\n",
       "  </tbody>\n",
       "</table>\n",
       "</div>"
      ],
      "text/plain": [
       "   id     species  sepal length (cm)  petal length (cm)  sepal width (cm)  \\\n",
       "0   0      setosa                4.4                1.4               2.9   \n",
       "1   1  versicolor                6.4                4.5               3.2   \n",
       "2   2   virginica                6.2                4.8               2.8   \n",
       "3   3   virginica                7.2                6.1               3.6   \n",
       "4   4      setosa                4.9                1.4               3.0   \n",
       "5   5   virginica                6.5                5.8               3.0   \n",
       "6   6      setosa                4.3                1.1               3.0   \n",
       "7   7  versicolor                6.7                5.0               3.0   \n",
       "8   8  versicolor                6.8                4.8               2.8   \n",
       "9   9  versicolor                6.6                4.4               3.0   \n",
       "\n",
       "   petal width (cm)  \n",
       "0               0.2  \n",
       "1               1.5  \n",
       "2               1.8  \n",
       "3               2.5  \n",
       "4               0.2  \n",
       "5               2.2  \n",
       "6               0.1  \n",
       "7               1.7  \n",
       "8               1.4  \n",
       "9               1.4  "
      ]
     },
     "execution_count": 19,
     "metadata": {},
     "output_type": "execute_result"
    }
   ],
   "source": [
    "iris.head(10)"
   ]
  },
  {
   "cell_type": "code",
   "execution_count": 20,
   "id": "0ce973bb",
   "metadata": {},
   "outputs": [],
   "source": [
    "sepal_length = iris['sepal length (cm)']\n",
    "petal_length = iris['petal length (cm)']"
   ]
  },
  {
   "cell_type": "code",
   "execution_count": 21,
   "id": "6c6246e4",
   "metadata": {},
   "outputs": [],
   "source": [
    "sum_of_sepal_length = sum(sepal_length)\n",
    "sum_of_petal_length = sum(petal_length)"
   ]
  },
  {
   "cell_type": "code",
   "execution_count": 22,
   "id": "993da3c4",
   "metadata": {},
   "outputs": [],
   "source": [
    "mean_of_sepal_length = sum_of_sepal_length / len(sepal_length)\n",
    "mean_of_petal_length = sum_of_petal_length / len(petal_length)"
   ]
  },
  {
   "cell_type": "code",
   "execution_count": 25,
   "id": "1a999fd2",
   "metadata": {},
   "outputs": [
    {
     "data": {
      "text/plain": [
       "6.0440000000000005"
      ]
     },
     "execution_count": 25,
     "metadata": {},
     "output_type": "execute_result"
    }
   ],
   "source": [
    "mean_of_sepal_length"
   ]
  },
  {
   "cell_type": "code",
   "execution_count": 26,
   "id": "d485afde",
   "metadata": {},
   "outputs": [
    {
     "data": {
      "text/plain": [
       "4.2586666666666675"
      ]
     },
     "execution_count": 26,
     "metadata": {},
     "output_type": "execute_result"
    }
   ],
   "source": [
    "mean_of_petal_length"
   ]
  },
  {
   "cell_type": "code",
   "execution_count": 30,
   "id": "a29671e4",
   "metadata": {},
   "outputs": [
    {
     "name": "stdout",
     "output_type": "stream",
     "text": [
      "모든 꽃받침의 평균 길이 :  6.044\n",
      "모든 꽃잎의 평균 길이 :  4.259\n"
     ]
    }
   ],
   "source": [
    "print('모든 꽃받침의 평균 길이 : ', round(mean_of_sepal_length,3))\n",
    "print('모든 꽃잎의 평균 길이 : ', round(mean_of_petal_length,3))"
   ]
  },
  {
   "cell_type": "code",
   "execution_count": 24,
   "id": "353aa700",
   "metadata": {
    "collapsed": true
   },
   "outputs": [
    {
     "data": {
      "text/html": [
       "<div>\n",
       "<style scoped>\n",
       "    .dataframe tbody tr th:only-of-type {\n",
       "        vertical-align: middle;\n",
       "    }\n",
       "\n",
       "    .dataframe tbody tr th {\n",
       "        vertical-align: top;\n",
       "    }\n",
       "\n",
       "    .dataframe thead th {\n",
       "        text-align: right;\n",
       "    }\n",
       "</style>\n",
       "<table border=\"1\" class=\"dataframe\">\n",
       "  <thead>\n",
       "    <tr style=\"text-align: right;\">\n",
       "      <th></th>\n",
       "      <th>id</th>\n",
       "      <th>sepal length (cm)</th>\n",
       "      <th>petal length (cm)</th>\n",
       "      <th>sepal width (cm)</th>\n",
       "      <th>petal width (cm)</th>\n",
       "    </tr>\n",
       "  </thead>\n",
       "  <tbody>\n",
       "    <tr>\n",
       "      <th>count</th>\n",
       "      <td>75.000000</td>\n",
       "      <td>75.000000</td>\n",
       "      <td>75.000000</td>\n",
       "      <td>75.000000</td>\n",
       "      <td>75.000000</td>\n",
       "    </tr>\n",
       "    <tr>\n",
       "      <th>mean</th>\n",
       "      <td>37.000000</td>\n",
       "      <td>6.044000</td>\n",
       "      <td>4.258667</td>\n",
       "      <td>2.958667</td>\n",
       "      <td>1.384000</td>\n",
       "    </tr>\n",
       "    <tr>\n",
       "      <th>std</th>\n",
       "      <td>21.794495</td>\n",
       "      <td>0.842653</td>\n",
       "      <td>1.615390</td>\n",
       "      <td>0.388376</td>\n",
       "      <td>0.697106</td>\n",
       "    </tr>\n",
       "    <tr>\n",
       "      <th>min</th>\n",
       "      <td>0.000000</td>\n",
       "      <td>4.300000</td>\n",
       "      <td>1.100000</td>\n",
       "      <td>2.000000</td>\n",
       "      <td>0.100000</td>\n",
       "    </tr>\n",
       "    <tr>\n",
       "      <th>25%</th>\n",
       "      <td>18.500000</td>\n",
       "      <td>5.550000</td>\n",
       "      <td>3.750000</td>\n",
       "      <td>2.800000</td>\n",
       "      <td>1.000000</td>\n",
       "    </tr>\n",
       "    <tr>\n",
       "      <th>50%</th>\n",
       "      <td>37.000000</td>\n",
       "      <td>6.100000</td>\n",
       "      <td>4.700000</td>\n",
       "      <td>3.000000</td>\n",
       "      <td>1.500000</td>\n",
       "    </tr>\n",
       "    <tr>\n",
       "      <th>75%</th>\n",
       "      <td>55.500000</td>\n",
       "      <td>6.600000</td>\n",
       "      <td>5.300000</td>\n",
       "      <td>3.200000</td>\n",
       "      <td>1.850000</td>\n",
       "    </tr>\n",
       "    <tr>\n",
       "      <th>max</th>\n",
       "      <td>74.000000</td>\n",
       "      <td>7.700000</td>\n",
       "      <td>6.900000</td>\n",
       "      <td>4.000000</td>\n",
       "      <td>2.500000</td>\n",
       "    </tr>\n",
       "  </tbody>\n",
       "</table>\n",
       "</div>"
      ],
      "text/plain": [
       "              id  sepal length (cm)  petal length (cm)  sepal width (cm)  \\\n",
       "count  75.000000          75.000000          75.000000         75.000000   \n",
       "mean   37.000000           6.044000           4.258667          2.958667   \n",
       "std    21.794495           0.842653           1.615390          0.388376   \n",
       "min     0.000000           4.300000           1.100000          2.000000   \n",
       "25%    18.500000           5.550000           3.750000          2.800000   \n",
       "50%    37.000000           6.100000           4.700000          3.000000   \n",
       "75%    55.500000           6.600000           5.300000          3.200000   \n",
       "max    74.000000           7.700000           6.900000          4.000000   \n",
       "\n",
       "       petal width (cm)  \n",
       "count         75.000000  \n",
       "mean           1.384000  \n",
       "std            0.697106  \n",
       "min            0.100000  \n",
       "25%            1.000000  \n",
       "50%            1.500000  \n",
       "75%            1.850000  \n",
       "max            2.500000  "
      ]
     },
     "execution_count": 24,
     "metadata": {},
     "output_type": "execute_result"
    }
   ],
   "source": [
    "iris.describe()"
   ]
  },
  {
   "cell_type": "code",
   "execution_count": 32,
   "id": "41183e70",
   "metadata": {},
   "outputs": [],
   "source": [
    "virginica = iris[iris['species'] == 'virginica']\n",
    "setosa = iris[iris['species'] == 'setosa']\n",
    "versicolor = iris[iris['species'] == 'versicolor']"
   ]
  },
  {
   "cell_type": "code",
   "execution_count": 33,
   "id": "154cdd6a",
   "metadata": {},
   "outputs": [],
   "source": [
    "import matplotlib.pyplot as plt\n",
    "import seaborn as sns"
   ]
  },
  {
   "cell_type": "code",
   "execution_count": 37,
   "id": "793deeaa",
   "metadata": {},
   "outputs": [
    {
     "data": {
      "image/png": "[encoded data removed]",
      "text/plain": [
       "<Figure size 504x504 with 1 Axes>"
      ]
     },
     "metadata": {},
     "output_type": "display_data"
    }
   ],
   "source": [
    "plt.style.use('ggplot')\n",
    "plt.figure(figsize=(7,7))\n",
    "\n",
    "amount_of_virginica = len(virginica)\n",
    "amount_of_setosa = len(setosa)\n",
    "amount_of_versicolor = len(versicolor)\n",
    "\n",
    "species_count = [amount_of_virginica, amount_of_setosa, amount_of_versicolor]\n",
    "colors = sns.color_palette('hls', len(species_count))\n",
    "plt.bar(['virginica', 'setosa', ' versicolor'], species_count, color=colors)\n",
    "plt.tick_params(axis='x', labelsize=18)\n",
    "plt.tick_params(axis='y', labelsize=18)\n",
    "plt.title('Iris species count', fontsize=25)\n",
    "\n",
    "plt.show();"
   ]
  },
  {
   "cell_type": "code",
   "execution_count": 39,
   "id": "811ebc5e",
   "metadata": {},
   "outputs": [
    {
     "name": "stdout",
     "output_type": "stream",
     "text": [
      "virginica 꽃받침의 평균 길이 :  6.583\n",
      "virginica 꽃임의 평균 길이 :  5.603\n"
     ]
    }
   ],
   "source": [
    "virginica_sepal_length = virginica['sepal length (cm)']\n",
    "virginica_petal_length = virginica['petal length (cm)']\n",
    "\n",
    "amount_of_virginica = len(virginica)\n",
    "\n",
    "sum_of_virginica_sepal_length = sum(virginica_sepal_length)\n",
    "sum_of_virginica_petal_length = sum(virginica_petal_length)\n",
    "\n",
    "mean_of_virginica_sepal_length = sum_of_virginica_sepal_length / len(virginica_sepal_length)\n",
    "mean_of_virginica_petal_length = sum_of_virginica_petal_length / len(virginica_petal_length)\n",
    "\n",
    "print('virginica 꽃받침의 평균 길이 : ', round(mean_of_virginica_sepal_length, 3))\n",
    "print('virginica 꽃임의 평균 길이 : ', round(mean_of_virginica_petal_length, 3))"
   ]
  },
  {
   "cell_type": "code",
   "execution_count": 40,
   "id": "2fa5e8be",
   "metadata": {},
   "outputs": [
    {
     "name": "stdout",
     "output_type": "stream",
     "text": [
      "setosa 꽃받침의 평균 너비 :  3.347\n",
      "setosa 곷잎의 평균 너비 :  0.2\n"
     ]
    }
   ],
   "source": [
    "setosa_sepal_width = setosa['sepal width (cm)']\n",
    "setosa_petal_width = setosa['petal width (cm)']\n",
    "\n",
    "sum_of_setosa_sepal_width = sum(setosa_sepal_width)\n",
    "sum_of_setosa_petal_width = sum(setosa_petal_width)\n",
    "\n",
    "mean_of_setosa_sepal_width = sum_of_setosa_sepal_width / amount_of_setosa\n",
    "mean_of_setosa_petal_width = sum_of_setosa_petal_width / amount_of_setosa\n",
    "\n",
    "print('setosa 꽃받침의 평균 너비 : ', round(mean_of_setosa_sepal_width, 3))\n",
    "print('setosa 곷잎의 평균 너비 : ', round(mean_of_setosa_petal_width, 3))"
   ]
  },
  {
   "cell_type": "code",
   "execution_count": 42,
   "id": "76d92f45",
   "metadata": {},
   "outputs": [
    {
     "name": "stdout",
     "output_type": "stream",
     "text": [
      "versicolor 꽃받침의 평균 너비 :  2.79\n",
      "versicolor 꽃잎의 평균 너비 :  1.353\n"
     ]
    }
   ],
   "source": [
    "versicolor_sepal_width = versicolor['sepal width (cm)']\n",
    "versicolor_petal_width = versicolor['petal width (cm)']\n",
    "\n",
    "sum_of_versicolor_sepal_width = sum(versicolor_sepal_width)\n",
    "sum_of_versicolor_petal_width = sum(versicolor_petal_width)\n",
    "\n",
    "mean_of_versicolor_sepal_width = sum_of_versicolor_sepal_width / amount_of_versicolor\n",
    "mean_of_versicolor_petal_width = sum_of_versicolor_petal_width / amount_of_versicolor\n",
    "\n",
    "print('versicolor 꽃받침의 평균 너비 : ', round(mean_of_versicolor_sepal_width, 3))\n",
    "print('versicolor 꽃잎의 평균 너비 : ', round(mean_of_versicolor_petal_width, 3))"
   ]
  },
  {
   "cell_type": "code",
   "execution_count": 43,
   "id": "6e05c22e",
   "metadata": {},
   "outputs": [
    {
     "ename": "NameError",
     "evalue": "name 'mean_of_sepal_width' is not defined",
     "output_type": "error",
     "traceback": [
      "\u001b[0;31m---------------------------------------------------------------------------\u001b[0m",
      "\u001b[0;31mNameError\u001b[0m                                 Traceback (most recent call last)",
      "\u001b[0;32m<ipython-input-43-c07628226677>\u001b[0m in \u001b[0;36m<module>\u001b[0;34m\u001b[0m\n\u001b[0;32m----> 1\u001b[0;31m \u001b[0msepal_length_over_width\u001b[0m \u001b[0;34m=\u001b[0m \u001b[0mmean_of_sepal_length\u001b[0m \u001b[0;34m/\u001b[0m \u001b[0mmean_of_sepal_width\u001b[0m\u001b[0;34m\u001b[0m\u001b[0;34m\u001b[0m\u001b[0m\n\u001b[0m\u001b[1;32m      2\u001b[0m \u001b[0mpetal_length_over_width\u001b[0m \u001b[0;34m=\u001b[0m \u001b[0mmean_of_petal_length\u001b[0m \u001b[0;34m/\u001b[0m \u001b[0mmean_of_petal_width\u001b[0m\u001b[0;34m\u001b[0m\u001b[0;34m\u001b[0m\u001b[0m\n\u001b[1;32m      3\u001b[0m \u001b[0;34m\u001b[0m\u001b[0m\n\u001b[1;32m      4\u001b[0m \u001b[0mprint\u001b[0m\u001b[0;34m(\u001b[0m\u001b[0;34m'꽃받침의 길이에 대한 너비의 비율 : '\u001b[0m\u001b[0;34m,\u001b[0m \u001b[0msepal_length_over_width\u001b[0m\u001b[0;34m)\u001b[0m\u001b[0;34m\u001b[0m\u001b[0;34m\u001b[0m\u001b[0m\n\u001b[1;32m      5\u001b[0m \u001b[0mprint\u001b[0m\u001b[0;34m(\u001b[0m\u001b[0;34m'곷잎의 길이에 대한 너비의 비율 :  '\u001b[0m\u001b[0;34m,\u001b[0m \u001b[0mpetal_length_over_width\u001b[0m\u001b[0;34m)\u001b[0m\u001b[0;34m\u001b[0m\u001b[0;34m\u001b[0m\u001b[0m\n",
      "\u001b[0;31mNameError\u001b[0m: name 'mean_of_sepal_width' is not defined"
     ]
    }
   ],
   "source": [
    "sepal_length_over_width = mean_of_sepal_length / mean_of_sepal_width\n",
    "petal_length_over_width = mean_of_petal_length / mean_of_petal_width\n",
    "\n",
    "print('꽃받침의 길이에 대한 너비의 비율 : ', sepal_length_over_width)\n",
    "print('곷잎의 길이에 대한 너비의 비율 :  ', petal_length_over_width)"
   ]
  },
  {
   "cell_type": "code",
   "execution_count": null,
   "id": "e2907693",
   "metadata": {},
   "outputs": [],
   "source": []
  }
 ],
 "metadata": {
  "kernelspec": {
   "display_name": "Python 3",
   "language": "python",
   "name": "python3"
  },
  "language_info": {
   "codemirror_mode": {
    "name": "ipython",
    "version": 3
   },
   "file_extension": ".py",
   "mimetype": "text/x-python",
   "name": "python",
   "nbconvert_exporter": "python",
   "pygments_lexer": "ipython3",
   "version": "3.8.6"
  }
 },
 "nbformat": 4,
 "nbformat_minor": 5
}
